{
 "cells": [
  {
   "cell_type": "code",
   "execution_count": 14,
   "metadata": {},
   "outputs": [],
   "source": [
    "# Uploading the dependencies\n",
    "import requests"
   ]
  },
  {
   "cell_type": "code",
   "execution_count": 10,
   "metadata": {},
   "outputs": [],
   "source": [
    "# For local testing use:\n",
    "# url = 'http://localhost:9696/predict'\n",
    "\n",
    "# For testing the cloud deployment use:\n",
    "host = '35.175.152.2'\n",
    "url = f'http://{host}/predict'"
   ]
  },
  {
   "cell_type": "code",
   "execution_count": 15,
   "metadata": {},
   "outputs": [],
   "source": [
    "# A dummy item is:\n",
    "customer = {\n",
    " \"user_id\": 4,\n",
    " \"device_model\": \"Google Pixel 5\",\n",
    " \"operating_system\": 'Android',\n",
    " \"app_usage_time_(min/day)\": 239,\n",
    " \"screen_on_time_(hours/day)\": 4.8,\n",
    " \"battery_drain_(mah/day)\": 1676,\n",
    " \"number_of_apps_installed\": 56,\n",
    " \"data_usage_(mb/day)\": 871,\n",
    " \"age\": 20,\n",
    " \"gender\": \"Male\",\n",
    " \"user_behavior_class\": 3,\n",
    " \"screen_on_time_(min/day)\": 288.0}\n"
   ]
  },
  {
   "cell_type": "code",
   "execution_count": 16,
   "metadata": {},
   "outputs": [
    {
     "data": {
      "text/plain": [
       "<Response [200]>"
      ]
     },
     "execution_count": 16,
     "metadata": {},
     "output_type": "execute_result"
    }
   ],
   "source": [
    "# A call to the service:\n",
    "response = requests.post(url, json=customer)\n",
    "response"
   ]
  },
  {
   "cell_type": "code",
   "execution_count": 17,
   "metadata": {},
   "outputs": [
    {
     "data": {
      "text/plain": [
       "{'The predicted class for this costumer is': 3}"
      ]
     },
     "execution_count": 17,
     "metadata": {},
     "output_type": "execute_result"
    }
   ],
   "source": [
    "# The answer in a human readable manner:\n",
    "response.json()"
   ]
  }
 ],
 "metadata": {
  "kernelspec": {
   "display_name": "dl_env",
   "language": "python",
   "name": "python3"
  },
  "language_info": {
   "codemirror_mode": {
    "name": "ipython",
    "version": 3
   },
   "file_extension": ".py",
   "mimetype": "text/x-python",
   "name": "python",
   "nbconvert_exporter": "python",
   "pygments_lexer": "ipython3",
   "version": "3.9.15"
  }
 },
 "nbformat": 4,
 "nbformat_minor": 2
}
