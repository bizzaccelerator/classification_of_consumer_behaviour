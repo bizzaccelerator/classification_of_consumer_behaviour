{
 "cells": [
  {
   "cell_type": "markdown",
   "metadata": {},
   "source": [
    "# Data Exploratory Analysis\n",
    "The following outlines the process I used to understand and analyze the dataset."
   ]
  },
  {
   "cell_type": "code",
   "execution_count": 1,
   "metadata": {},
   "outputs": [],
   "source": [
    "# The first step involves importing the libraries required for the process:\n",
    "import pandas as pd\n",
    "import numpy as np\n",
    "import matplotlib.pyplot as plt\n",
    "import seaborn as sns\n",
    "\n",
    "# The graphics style selected is:\n",
    "sns.reset_orig() \n",
    "plt.style.use('ggplot')\n",
    "\n",
    "# Statistical packages used\n",
    "from scipy.stats import shapiro, levene, chi2_contingency, ttest_ind, mannwhitneyu, f_oneway, kruskal, pearsonr\n",
    "\n",
    "# Model packages used\n",
    "from sklearn.model_selection import train_test_split\n",
    "from sklearn.metrics import accuracy_score, multilabel_confusion_matrix, classification_report\n",
    "from sklearn.feature_extraction import DictVectorizer\n",
    "\n",
    "from sklearn.ensemble import RandomForestRegressor, GradientBoostingRegressor\n",
    "from sklearn import svm\n",
    "from sklearn.model_selection import GridSearchCV\n",
    "\n",
    "# To save the model\n",
    "import pickle"
   ]
  },
  {
   "cell_type": "code",
   "execution_count": 2,
   "metadata": {},
   "outputs": [],
   "source": [
    "# The following allows us to view all the columns of the dataset, regardless of its size:\n",
    "pd.set_option('display.max_columns', None)"
   ]
  },
  {
   "cell_type": "code",
   "execution_count": 3,
   "metadata": {},
   "outputs": [],
   "source": [
    "# Then the dataset is loaded as:\n",
    "users = pd.read_csv(\"C://Users/jober/Data_Projects/classification_of_consumer_behaviour/Dataset/user_behaviour_dataset.csv\", sep=\";\", )"
   ]
  },
  {
   "cell_type": "markdown",
   "metadata": {},
   "source": [
    "## Step 1: Understanding the data\n",
    "This step give us a general sense of the dataset: "
   ]
  },
  {
   "cell_type": "code",
   "execution_count": 4,
   "metadata": {},
   "outputs": [
    {
     "data": {
      "text/plain": [
       "(700, 11)"
      ]
     },
     "execution_count": 4,
     "metadata": {},
     "output_type": "execute_result"
    }
   ],
   "source": [
    "users.shape"
   ]
  },
  {
   "cell_type": "code",
   "execution_count": 5,
   "metadata": {},
   "outputs": [
    {
     "data": {
      "text/html": [
       "<div>\n",
       "<style scoped>\n",
       "    .dataframe tbody tr th:only-of-type {\n",
       "        vertical-align: middle;\n",
       "    }\n",
       "\n",
       "    .dataframe tbody tr th {\n",
       "        vertical-align: top;\n",
       "    }\n",
       "\n",
       "    .dataframe thead th {\n",
       "        text-align: right;\n",
       "    }\n",
       "</style>\n",
       "<table border=\"1\" class=\"dataframe\">\n",
       "  <thead>\n",
       "    <tr style=\"text-align: right;\">\n",
       "      <th></th>\n",
       "      <th>User ID</th>\n",
       "      <th>Device Model</th>\n",
       "      <th>Operating System</th>\n",
       "      <th>App Usage Time (min/day)</th>\n",
       "      <th>Screen On Time (hours/day)</th>\n",
       "      <th>Battery Drain (mAh/day)</th>\n",
       "      <th>Number of Apps Installed</th>\n",
       "      <th>Data Usage (MB/day)</th>\n",
       "      <th>Age</th>\n",
       "      <th>Gender</th>\n",
       "      <th>User Behavior Class</th>\n",
       "    </tr>\n",
       "  </thead>\n",
       "  <tbody>\n",
       "    <tr>\n",
       "      <th>0</th>\n",
       "      <td>1</td>\n",
       "      <td>Google Pixel 5</td>\n",
       "      <td>Android</td>\n",
       "      <td>393</td>\n",
       "      <td>6.4</td>\n",
       "      <td>1872</td>\n",
       "      <td>67</td>\n",
       "      <td>1122</td>\n",
       "      <td>40</td>\n",
       "      <td>Male</td>\n",
       "      <td>4</td>\n",
       "    </tr>\n",
       "    <tr>\n",
       "      <th>1</th>\n",
       "      <td>2</td>\n",
       "      <td>OnePlus 9</td>\n",
       "      <td>Android</td>\n",
       "      <td>268</td>\n",
       "      <td>4.7</td>\n",
       "      <td>1331</td>\n",
       "      <td>42</td>\n",
       "      <td>944</td>\n",
       "      <td>47</td>\n",
       "      <td>Female</td>\n",
       "      <td>3</td>\n",
       "    </tr>\n",
       "    <tr>\n",
       "      <th>2</th>\n",
       "      <td>3</td>\n",
       "      <td>Xiaomi Mi 11</td>\n",
       "      <td>Android</td>\n",
       "      <td>154</td>\n",
       "      <td>4.0</td>\n",
       "      <td>761</td>\n",
       "      <td>32</td>\n",
       "      <td>322</td>\n",
       "      <td>42</td>\n",
       "      <td>Male</td>\n",
       "      <td>2</td>\n",
       "    </tr>\n",
       "    <tr>\n",
       "      <th>3</th>\n",
       "      <td>4</td>\n",
       "      <td>Google Pixel 5</td>\n",
       "      <td>Android</td>\n",
       "      <td>239</td>\n",
       "      <td>4.8</td>\n",
       "      <td>1676</td>\n",
       "      <td>56</td>\n",
       "      <td>871</td>\n",
       "      <td>20</td>\n",
       "      <td>Male</td>\n",
       "      <td>3</td>\n",
       "    </tr>\n",
       "    <tr>\n",
       "      <th>4</th>\n",
       "      <td>5</td>\n",
       "      <td>iPhone 12</td>\n",
       "      <td>iOS</td>\n",
       "      <td>187</td>\n",
       "      <td>4.3</td>\n",
       "      <td>1367</td>\n",
       "      <td>58</td>\n",
       "      <td>988</td>\n",
       "      <td>31</td>\n",
       "      <td>Female</td>\n",
       "      <td>3</td>\n",
       "    </tr>\n",
       "  </tbody>\n",
       "</table>\n",
       "</div>"
      ],
      "text/plain": [
       "   User ID    Device Model Operating System  App Usage Time (min/day)  \\\n",
       "0        1  Google Pixel 5          Android                       393   \n",
       "1        2       OnePlus 9          Android                       268   \n",
       "2        3    Xiaomi Mi 11          Android                       154   \n",
       "3        4  Google Pixel 5          Android                       239   \n",
       "4        5       iPhone 12              iOS                       187   \n",
       "\n",
       "   Screen On Time (hours/day)  Battery Drain (mAh/day)  \\\n",
       "0                         6.4                     1872   \n",
       "1                         4.7                     1331   \n",
       "2                         4.0                      761   \n",
       "3                         4.8                     1676   \n",
       "4                         4.3                     1367   \n",
       "\n",
       "   Number of Apps Installed  Data Usage (MB/day)  Age  Gender  \\\n",
       "0                        67                 1122   40    Male   \n",
       "1                        42                  944   47  Female   \n",
       "2                        32                  322   42    Male   \n",
       "3                        56                  871   20    Male   \n",
       "4                        58                  988   31  Female   \n",
       "\n",
       "   User Behavior Class  \n",
       "0                    4  \n",
       "1                    3  \n",
       "2                    2  \n",
       "3                    3  \n",
       "4                    3  "
      ]
     },
     "execution_count": 5,
     "metadata": {},
     "output_type": "execute_result"
    }
   ],
   "source": [
    "users.head()"
   ]
  },
  {
   "cell_type": "code",
   "execution_count": 6,
   "metadata": {},
   "outputs": [
    {
     "data": {
      "text/plain": [
       "Index(['User ID', 'Device Model', 'Operating System',\n",
       "       'App Usage Time (min/day)', 'Screen On Time (hours/day)',\n",
       "       'Battery Drain (mAh/day)', 'Number of Apps Installed',\n",
       "       'Data Usage (MB/day)', 'Age', 'Gender', 'User Behavior Class'],\n",
       "      dtype='object')"
      ]
     },
     "execution_count": 6,
     "metadata": {},
     "output_type": "execute_result"
    }
   ],
   "source": [
    "users.columns"
   ]
  },
  {
   "cell_type": "code",
   "execution_count": 7,
   "metadata": {},
   "outputs": [
    {
     "name": "stdout",
     "output_type": "stream",
     "text": [
      "<class 'pandas.core.frame.DataFrame'>\n",
      "RangeIndex: 700 entries, 0 to 699\n",
      "Data columns (total 11 columns):\n",
      " #   Column                      Non-Null Count  Dtype  \n",
      "---  ------                      --------------  -----  \n",
      " 0   User ID                     700 non-null    int64  \n",
      " 1   Device Model                700 non-null    object \n",
      " 2   Operating System            700 non-null    object \n",
      " 3   App Usage Time (min/day)    700 non-null    int64  \n",
      " 4   Screen On Time (hours/day)  700 non-null    float64\n",
      " 5   Battery Drain (mAh/day)     700 non-null    int64  \n",
      " 6   Number of Apps Installed    700 non-null    int64  \n",
      " 7   Data Usage (MB/day)         700 non-null    int64  \n",
      " 8   Age                         700 non-null    int64  \n",
      " 9   Gender                      700 non-null    object \n",
      " 10  User Behavior Class         700 non-null    int64  \n",
      "dtypes: float64(1), int64(7), object(3)\n",
      "memory usage: 60.3+ KB\n"
     ]
    }
   ],
   "source": [
    "# Using the info() method, we can quickly identify the data type of each column and detect null values:\"\n",
    "users.info()"
   ]
  },
  {
   "cell_type": "code",
   "execution_count": 8,
   "metadata": {},
   "outputs": [
    {
     "data": {
      "text/html": [
       "<div>\n",
       "<style scoped>\n",
       "    .dataframe tbody tr th:only-of-type {\n",
       "        vertical-align: middle;\n",
       "    }\n",
       "\n",
       "    .dataframe tbody tr th {\n",
       "        vertical-align: top;\n",
       "    }\n",
       "\n",
       "    .dataframe thead th {\n",
       "        text-align: right;\n",
       "    }\n",
       "</style>\n",
       "<table border=\"1\" class=\"dataframe\">\n",
       "  <thead>\n",
       "    <tr style=\"text-align: right;\">\n",
       "      <th></th>\n",
       "      <th>User ID</th>\n",
       "      <th>App Usage Time (min/day)</th>\n",
       "      <th>Screen On Time (hours/day)</th>\n",
       "      <th>Battery Drain (mAh/day)</th>\n",
       "      <th>Number of Apps Installed</th>\n",
       "      <th>Data Usage (MB/day)</th>\n",
       "      <th>Age</th>\n",
       "      <th>User Behavior Class</th>\n",
       "    </tr>\n",
       "  </thead>\n",
       "  <tbody>\n",
       "    <tr>\n",
       "      <th>count</th>\n",
       "      <td>700.00000</td>\n",
       "      <td>700.000000</td>\n",
       "      <td>700.000000</td>\n",
       "      <td>700.000000</td>\n",
       "      <td>700.000000</td>\n",
       "      <td>700.000000</td>\n",
       "      <td>700.000000</td>\n",
       "      <td>700.000000</td>\n",
       "    </tr>\n",
       "    <tr>\n",
       "      <th>mean</th>\n",
       "      <td>350.50000</td>\n",
       "      <td>271.128571</td>\n",
       "      <td>5.272714</td>\n",
       "      <td>1525.158571</td>\n",
       "      <td>50.681429</td>\n",
       "      <td>929.742857</td>\n",
       "      <td>38.482857</td>\n",
       "      <td>2.990000</td>\n",
       "    </tr>\n",
       "    <tr>\n",
       "      <th>std</th>\n",
       "      <td>202.21688</td>\n",
       "      <td>177.199484</td>\n",
       "      <td>3.068584</td>\n",
       "      <td>819.136414</td>\n",
       "      <td>26.943324</td>\n",
       "      <td>640.451729</td>\n",
       "      <td>12.012916</td>\n",
       "      <td>1.401476</td>\n",
       "    </tr>\n",
       "    <tr>\n",
       "      <th>min</th>\n",
       "      <td>1.00000</td>\n",
       "      <td>30.000000</td>\n",
       "      <td>1.000000</td>\n",
       "      <td>302.000000</td>\n",
       "      <td>10.000000</td>\n",
       "      <td>102.000000</td>\n",
       "      <td>18.000000</td>\n",
       "      <td>1.000000</td>\n",
       "    </tr>\n",
       "    <tr>\n",
       "      <th>25%</th>\n",
       "      <td>175.75000</td>\n",
       "      <td>113.250000</td>\n",
       "      <td>2.500000</td>\n",
       "      <td>722.250000</td>\n",
       "      <td>26.000000</td>\n",
       "      <td>373.000000</td>\n",
       "      <td>28.000000</td>\n",
       "      <td>2.000000</td>\n",
       "    </tr>\n",
       "    <tr>\n",
       "      <th>50%</th>\n",
       "      <td>350.50000</td>\n",
       "      <td>227.500000</td>\n",
       "      <td>4.900000</td>\n",
       "      <td>1502.500000</td>\n",
       "      <td>49.000000</td>\n",
       "      <td>823.500000</td>\n",
       "      <td>38.000000</td>\n",
       "      <td>3.000000</td>\n",
       "    </tr>\n",
       "    <tr>\n",
       "      <th>75%</th>\n",
       "      <td>525.25000</td>\n",
       "      <td>434.250000</td>\n",
       "      <td>7.400000</td>\n",
       "      <td>2229.500000</td>\n",
       "      <td>74.000000</td>\n",
       "      <td>1341.000000</td>\n",
       "      <td>49.000000</td>\n",
       "      <td>4.000000</td>\n",
       "    </tr>\n",
       "    <tr>\n",
       "      <th>max</th>\n",
       "      <td>700.00000</td>\n",
       "      <td>598.000000</td>\n",
       "      <td>12.000000</td>\n",
       "      <td>2993.000000</td>\n",
       "      <td>99.000000</td>\n",
       "      <td>2497.000000</td>\n",
       "      <td>59.000000</td>\n",
       "      <td>5.000000</td>\n",
       "    </tr>\n",
       "  </tbody>\n",
       "</table>\n",
       "</div>"
      ],
      "text/plain": [
       "         User ID  App Usage Time (min/day)  Screen On Time (hours/day)  \\\n",
       "count  700.00000                700.000000                  700.000000   \n",
       "mean   350.50000                271.128571                    5.272714   \n",
       "std    202.21688                177.199484                    3.068584   \n",
       "min      1.00000                 30.000000                    1.000000   \n",
       "25%    175.75000                113.250000                    2.500000   \n",
       "50%    350.50000                227.500000                    4.900000   \n",
       "75%    525.25000                434.250000                    7.400000   \n",
       "max    700.00000                598.000000                   12.000000   \n",
       "\n",
       "       Battery Drain (mAh/day)  Number of Apps Installed  Data Usage (MB/day)  \\\n",
       "count               700.000000                700.000000           700.000000   \n",
       "mean               1525.158571                 50.681429           929.742857   \n",
       "std                 819.136414                 26.943324           640.451729   \n",
       "min                 302.000000                 10.000000           102.000000   \n",
       "25%                 722.250000                 26.000000           373.000000   \n",
       "50%                1502.500000                 49.000000           823.500000   \n",
       "75%                2229.500000                 74.000000          1341.000000   \n",
       "max                2993.000000                 99.000000          2497.000000   \n",
       "\n",
       "              Age  User Behavior Class  \n",
       "count  700.000000           700.000000  \n",
       "mean    38.482857             2.990000  \n",
       "std     12.012916             1.401476  \n",
       "min     18.000000             1.000000  \n",
       "25%     28.000000             2.000000  \n",
       "50%     38.000000             3.000000  \n",
       "75%     49.000000             4.000000  \n",
       "max     59.000000             5.000000  "
      ]
     },
     "execution_count": 8,
     "metadata": {},
     "output_type": "execute_result"
    }
   ],
   "source": [
    "# The describe() function provides basic statistics for the numerical variables in the dataset:\n",
    "users.describe()"
   ]
  },
  {
   "cell_type": "markdown",
   "metadata": {},
   "source": [
    "## Step 2: Data preparation\n",
    "Now that I have a general understanding of the data, some evaluation is needed before proceeding with further analysis."
   ]
  },
  {
   "cell_type": "code",
   "execution_count": 9,
   "metadata": {},
   "outputs": [
    {
     "data": {
      "text/plain": [
       "0"
      ]
     },
     "execution_count": 9,
     "metadata": {},
     "output_type": "execute_result"
    }
   ],
   "source": [
    "# Checking for duplicates:\n",
    "users.duplicated().sum()"
   ]
  },
  {
   "cell_type": "code",
   "execution_count": 10,
   "metadata": {},
   "outputs": [
    {
     "data": {
      "text/plain": [
       "User ID                       0\n",
       "Device Model                  0\n",
       "Operating System              0\n",
       "App Usage Time (min/day)      0\n",
       "Screen On Time (hours/day)    0\n",
       "Battery Drain (mAh/day)       0\n",
       "Number of Apps Installed      0\n",
       "Data Usage (MB/day)           0\n",
       "Age                           0\n",
       "Gender                        0\n",
       "User Behavior Class           0\n",
       "dtype: int64"
      ]
     },
     "execution_count": 10,
     "metadata": {},
     "output_type": "execute_result"
    }
   ],
   "source": [
    "# Checking for null values \n",
    "users.isna().sum()"
   ]
  },
  {
   "cell_type": "code",
   "execution_count": 11,
   "metadata": {},
   "outputs": [],
   "source": [
    "# Column names in our refined dataframe are converted to lowercase, and spaces are removed for consistency and usability:\n",
    "users.columns = [name.lower() for name in users.columns]\n",
    "users.columns = [name.replace(\" \",\"_\") for name in users.columns]"
   ]
  },
  {
   "cell_type": "code",
   "execution_count": 12,
   "metadata": {},
   "outputs": [
    {
     "data": {
      "text/html": [
       "<div>\n",
       "<style scoped>\n",
       "    .dataframe tbody tr th:only-of-type {\n",
       "        vertical-align: middle;\n",
       "    }\n",
       "\n",
       "    .dataframe tbody tr th {\n",
       "        vertical-align: top;\n",
       "    }\n",
       "\n",
       "    .dataframe thead th {\n",
       "        text-align: right;\n",
       "    }\n",
       "</style>\n",
       "<table border=\"1\" class=\"dataframe\">\n",
       "  <thead>\n",
       "    <tr style=\"text-align: right;\">\n",
       "      <th></th>\n",
       "      <th>user_id</th>\n",
       "      <th>device_model</th>\n",
       "      <th>operating_system</th>\n",
       "      <th>app_usage_time_(min/day)</th>\n",
       "      <th>screen_on_time_(hours/day)</th>\n",
       "      <th>battery_drain_(mah/day)</th>\n",
       "      <th>number_of_apps_installed</th>\n",
       "      <th>data_usage_(mb/day)</th>\n",
       "      <th>age</th>\n",
       "      <th>gender</th>\n",
       "      <th>user_behavior_class</th>\n",
       "    </tr>\n",
       "  </thead>\n",
       "  <tbody>\n",
       "    <tr>\n",
       "      <th>0</th>\n",
       "      <td>1</td>\n",
       "      <td>Google Pixel 5</td>\n",
       "      <td>Android</td>\n",
       "      <td>393</td>\n",
       "      <td>6.4</td>\n",
       "      <td>1872</td>\n",
       "      <td>67</td>\n",
       "      <td>1122</td>\n",
       "      <td>40</td>\n",
       "      <td>Male</td>\n",
       "      <td>4</td>\n",
       "    </tr>\n",
       "    <tr>\n",
       "      <th>1</th>\n",
       "      <td>2</td>\n",
       "      <td>OnePlus 9</td>\n",
       "      <td>Android</td>\n",
       "      <td>268</td>\n",
       "      <td>4.7</td>\n",
       "      <td>1331</td>\n",
       "      <td>42</td>\n",
       "      <td>944</td>\n",
       "      <td>47</td>\n",
       "      <td>Female</td>\n",
       "      <td>3</td>\n",
       "    </tr>\n",
       "    <tr>\n",
       "      <th>2</th>\n",
       "      <td>3</td>\n",
       "      <td>Xiaomi Mi 11</td>\n",
       "      <td>Android</td>\n",
       "      <td>154</td>\n",
       "      <td>4.0</td>\n",
       "      <td>761</td>\n",
       "      <td>32</td>\n",
       "      <td>322</td>\n",
       "      <td>42</td>\n",
       "      <td>Male</td>\n",
       "      <td>2</td>\n",
       "    </tr>\n",
       "    <tr>\n",
       "      <th>3</th>\n",
       "      <td>4</td>\n",
       "      <td>Google Pixel 5</td>\n",
       "      <td>Android</td>\n",
       "      <td>239</td>\n",
       "      <td>4.8</td>\n",
       "      <td>1676</td>\n",
       "      <td>56</td>\n",
       "      <td>871</td>\n",
       "      <td>20</td>\n",
       "      <td>Male</td>\n",
       "      <td>3</td>\n",
       "    </tr>\n",
       "    <tr>\n",
       "      <th>4</th>\n",
       "      <td>5</td>\n",
       "      <td>iPhone 12</td>\n",
       "      <td>iOS</td>\n",
       "      <td>187</td>\n",
       "      <td>4.3</td>\n",
       "      <td>1367</td>\n",
       "      <td>58</td>\n",
       "      <td>988</td>\n",
       "      <td>31</td>\n",
       "      <td>Female</td>\n",
       "      <td>3</td>\n",
       "    </tr>\n",
       "  </tbody>\n",
       "</table>\n",
       "</div>"
      ],
      "text/plain": [
       "   user_id    device_model operating_system  app_usage_time_(min/day)  \\\n",
       "0        1  Google Pixel 5          Android                       393   \n",
       "1        2       OnePlus 9          Android                       268   \n",
       "2        3    Xiaomi Mi 11          Android                       154   \n",
       "3        4  Google Pixel 5          Android                       239   \n",
       "4        5       iPhone 12              iOS                       187   \n",
       "\n",
       "   screen_on_time_(hours/day)  battery_drain_(mah/day)  \\\n",
       "0                         6.4                     1872   \n",
       "1                         4.7                     1331   \n",
       "2                         4.0                      761   \n",
       "3                         4.8                     1676   \n",
       "4                         4.3                     1367   \n",
       "\n",
       "   number_of_apps_installed  data_usage_(mb/day)  age  gender  \\\n",
       "0                        67                 1122   40    Male   \n",
       "1                        42                  944   47  Female   \n",
       "2                        32                  322   42    Male   \n",
       "3                        56                  871   20    Male   \n",
       "4                        58                  988   31  Female   \n",
       "\n",
       "   user_behavior_class  \n",
       "0                    4  \n",
       "1                    3  \n",
       "2                    2  \n",
       "3                    3  \n",
       "4                    3  "
      ]
     },
     "execution_count": 12,
     "metadata": {},
     "output_type": "execute_result"
    }
   ],
   "source": [
    "# The edited dataset is:\n",
    "users.head()"
   ]
  },
  {
   "cell_type": "markdown",
   "metadata": {},
   "source": [
    "The variables *app_usage_time_(min/day)* and *screen_on_time_(hours/day)* use different time units. To ensure consistency, screen_on_time will be transformed into a minutes-per-day ratio."
   ]
  },
  {
   "cell_type": "code",
   "execution_count": 13,
   "metadata": {},
   "outputs": [],
   "source": [
    "users['screen_on_time_(min/day)'] = users['screen_on_time_(hours/day)']*60"
   ]
  },
  {
   "cell_type": "code",
   "execution_count": 14,
   "metadata": {},
   "outputs": [
    {
     "name": "stdout",
     "output_type": "stream",
     "text": [
      "[4 3 2 5 1]\n",
      "\n",
      " While those are numeric values, they are best treated as categories.\n"
     ]
    }
   ],
   "source": [
    "# Modify the type of target variable:\n",
    "print(users['user_behavior_class'].unique())\n",
    "users['user_behavior_class'] = users['user_behavior_class'].astype(object)\n",
    "print('\\n While those are numeric values, they are best treated as categories.')"
   ]
  },
  {
   "cell_type": "code",
   "execution_count": 15,
   "metadata": {},
   "outputs": [
    {
     "name": "stdout",
     "output_type": "stream",
     "text": [
      "<class 'pandas.core.frame.DataFrame'>\n",
      "RangeIndex: 700 entries, 0 to 699\n",
      "Data columns (total 12 columns):\n",
      " #   Column                      Non-Null Count  Dtype  \n",
      "---  ------                      --------------  -----  \n",
      " 0   user_id                     700 non-null    int64  \n",
      " 1   device_model                700 non-null    object \n",
      " 2   operating_system            700 non-null    object \n",
      " 3   app_usage_time_(min/day)    700 non-null    int64  \n",
      " 4   screen_on_time_(hours/day)  700 non-null    float64\n",
      " 5   battery_drain_(mah/day)     700 non-null    int64  \n",
      " 6   number_of_apps_installed    700 non-null    int64  \n",
      " 7   data_usage_(mb/day)         700 non-null    int64  \n",
      " 8   age                         700 non-null    int64  \n",
      " 9   gender                      700 non-null    object \n",
      " 10  user_behavior_class         700 non-null    object \n",
      " 11  screen_on_time_(min/day)    700 non-null    float64\n",
      "dtypes: float64(2), int64(6), object(4)\n",
      "memory usage: 65.8+ KB\n"
     ]
    }
   ],
   "source": [
    "users.info()"
   ]
  },
  {
   "cell_type": "code",
   "execution_count": 16,
   "metadata": {},
   "outputs": [
    {
     "data": {
      "text/html": [
       "<div>\n",
       "<style scoped>\n",
       "    .dataframe tbody tr th:only-of-type {\n",
       "        vertical-align: middle;\n",
       "    }\n",
       "\n",
       "    .dataframe tbody tr th {\n",
       "        vertical-align: top;\n",
       "    }\n",
       "\n",
       "    .dataframe thead th {\n",
       "        text-align: right;\n",
       "    }\n",
       "</style>\n",
       "<table border=\"1\" class=\"dataframe\">\n",
       "  <thead>\n",
       "    <tr style=\"text-align: right;\">\n",
       "      <th></th>\n",
       "      <th>user_id</th>\n",
       "      <th>device_model</th>\n",
       "      <th>operating_system</th>\n",
       "      <th>app_usage_time_(min/day)</th>\n",
       "      <th>screen_on_time_(hours/day)</th>\n",
       "      <th>battery_drain_(mah/day)</th>\n",
       "      <th>number_of_apps_installed</th>\n",
       "      <th>data_usage_(mb/day)</th>\n",
       "      <th>age</th>\n",
       "      <th>gender</th>\n",
       "      <th>user_behavior_class</th>\n",
       "      <th>screen_on_time_(min/day)</th>\n",
       "    </tr>\n",
       "  </thead>\n",
       "  <tbody>\n",
       "    <tr>\n",
       "      <th>count</th>\n",
       "      <td>700.00000</td>\n",
       "      <td>700</td>\n",
       "      <td>700</td>\n",
       "      <td>700.000000</td>\n",
       "      <td>700.000000</td>\n",
       "      <td>700.000000</td>\n",
       "      <td>700.000000</td>\n",
       "      <td>700.000000</td>\n",
       "      <td>700.000000</td>\n",
       "      <td>700</td>\n",
       "      <td>700.0</td>\n",
       "      <td>700.000000</td>\n",
       "    </tr>\n",
       "    <tr>\n",
       "      <th>unique</th>\n",
       "      <td>NaN</td>\n",
       "      <td>5</td>\n",
       "      <td>2</td>\n",
       "      <td>NaN</td>\n",
       "      <td>NaN</td>\n",
       "      <td>NaN</td>\n",
       "      <td>NaN</td>\n",
       "      <td>NaN</td>\n",
       "      <td>NaN</td>\n",
       "      <td>2</td>\n",
       "      <td>5.0</td>\n",
       "      <td>NaN</td>\n",
       "    </tr>\n",
       "    <tr>\n",
       "      <th>top</th>\n",
       "      <td>NaN</td>\n",
       "      <td>Xiaomi Mi 11</td>\n",
       "      <td>Android</td>\n",
       "      <td>NaN</td>\n",
       "      <td>NaN</td>\n",
       "      <td>NaN</td>\n",
       "      <td>NaN</td>\n",
       "      <td>NaN</td>\n",
       "      <td>NaN</td>\n",
       "      <td>Male</td>\n",
       "      <td>2.0</td>\n",
       "      <td>NaN</td>\n",
       "    </tr>\n",
       "    <tr>\n",
       "      <th>freq</th>\n",
       "      <td>NaN</td>\n",
       "      <td>146</td>\n",
       "      <td>554</td>\n",
       "      <td>NaN</td>\n",
       "      <td>NaN</td>\n",
       "      <td>NaN</td>\n",
       "      <td>NaN</td>\n",
       "      <td>NaN</td>\n",
       "      <td>NaN</td>\n",
       "      <td>364</td>\n",
       "      <td>146.0</td>\n",
       "      <td>NaN</td>\n",
       "    </tr>\n",
       "    <tr>\n",
       "      <th>mean</th>\n",
       "      <td>350.50000</td>\n",
       "      <td>NaN</td>\n",
       "      <td>NaN</td>\n",
       "      <td>271.128571</td>\n",
       "      <td>5.272714</td>\n",
       "      <td>1525.158571</td>\n",
       "      <td>50.681429</td>\n",
       "      <td>929.742857</td>\n",
       "      <td>38.482857</td>\n",
       "      <td>NaN</td>\n",
       "      <td>NaN</td>\n",
       "      <td>316.362857</td>\n",
       "    </tr>\n",
       "    <tr>\n",
       "      <th>std</th>\n",
       "      <td>202.21688</td>\n",
       "      <td>NaN</td>\n",
       "      <td>NaN</td>\n",
       "      <td>177.199484</td>\n",
       "      <td>3.068584</td>\n",
       "      <td>819.136414</td>\n",
       "      <td>26.943324</td>\n",
       "      <td>640.451729</td>\n",
       "      <td>12.012916</td>\n",
       "      <td>NaN</td>\n",
       "      <td>NaN</td>\n",
       "      <td>184.115035</td>\n",
       "    </tr>\n",
       "    <tr>\n",
       "      <th>min</th>\n",
       "      <td>1.00000</td>\n",
       "      <td>NaN</td>\n",
       "      <td>NaN</td>\n",
       "      <td>30.000000</td>\n",
       "      <td>1.000000</td>\n",
       "      <td>302.000000</td>\n",
       "      <td>10.000000</td>\n",
       "      <td>102.000000</td>\n",
       "      <td>18.000000</td>\n",
       "      <td>NaN</td>\n",
       "      <td>NaN</td>\n",
       "      <td>60.000000</td>\n",
       "    </tr>\n",
       "    <tr>\n",
       "      <th>25%</th>\n",
       "      <td>175.75000</td>\n",
       "      <td>NaN</td>\n",
       "      <td>NaN</td>\n",
       "      <td>113.250000</td>\n",
       "      <td>2.500000</td>\n",
       "      <td>722.250000</td>\n",
       "      <td>26.000000</td>\n",
       "      <td>373.000000</td>\n",
       "      <td>28.000000</td>\n",
       "      <td>NaN</td>\n",
       "      <td>NaN</td>\n",
       "      <td>150.000000</td>\n",
       "    </tr>\n",
       "    <tr>\n",
       "      <th>50%</th>\n",
       "      <td>350.50000</td>\n",
       "      <td>NaN</td>\n",
       "      <td>NaN</td>\n",
       "      <td>227.500000</td>\n",
       "      <td>4.900000</td>\n",
       "      <td>1502.500000</td>\n",
       "      <td>49.000000</td>\n",
       "      <td>823.500000</td>\n",
       "      <td>38.000000</td>\n",
       "      <td>NaN</td>\n",
       "      <td>NaN</td>\n",
       "      <td>294.000000</td>\n",
       "    </tr>\n",
       "    <tr>\n",
       "      <th>75%</th>\n",
       "      <td>525.25000</td>\n",
       "      <td>NaN</td>\n",
       "      <td>NaN</td>\n",
       "      <td>434.250000</td>\n",
       "      <td>7.400000</td>\n",
       "      <td>2229.500000</td>\n",
       "      <td>74.000000</td>\n",
       "      <td>1341.000000</td>\n",
       "      <td>49.000000</td>\n",
       "      <td>NaN</td>\n",
       "      <td>NaN</td>\n",
       "      <td>444.000000</td>\n",
       "    </tr>\n",
       "    <tr>\n",
       "      <th>max</th>\n",
       "      <td>700.00000</td>\n",
       "      <td>NaN</td>\n",
       "      <td>NaN</td>\n",
       "      <td>598.000000</td>\n",
       "      <td>12.000000</td>\n",
       "      <td>2993.000000</td>\n",
       "      <td>99.000000</td>\n",
       "      <td>2497.000000</td>\n",
       "      <td>59.000000</td>\n",
       "      <td>NaN</td>\n",
       "      <td>NaN</td>\n",
       "      <td>720.000000</td>\n",
       "    </tr>\n",
       "  </tbody>\n",
       "</table>\n",
       "</div>"
      ],
      "text/plain": [
       "          user_id  device_model operating_system  app_usage_time_(min/day)  \\\n",
       "count   700.00000           700              700                700.000000   \n",
       "unique        NaN             5                2                       NaN   \n",
       "top           NaN  Xiaomi Mi 11          Android                       NaN   \n",
       "freq          NaN           146              554                       NaN   \n",
       "mean    350.50000           NaN              NaN                271.128571   \n",
       "std     202.21688           NaN              NaN                177.199484   \n",
       "min       1.00000           NaN              NaN                 30.000000   \n",
       "25%     175.75000           NaN              NaN                113.250000   \n",
       "50%     350.50000           NaN              NaN                227.500000   \n",
       "75%     525.25000           NaN              NaN                434.250000   \n",
       "max     700.00000           NaN              NaN                598.000000   \n",
       "\n",
       "        screen_on_time_(hours/day)  battery_drain_(mah/day)  \\\n",
       "count                   700.000000               700.000000   \n",
       "unique                         NaN                      NaN   \n",
       "top                            NaN                      NaN   \n",
       "freq                           NaN                      NaN   \n",
       "mean                      5.272714              1525.158571   \n",
       "std                       3.068584               819.136414   \n",
       "min                       1.000000               302.000000   \n",
       "25%                       2.500000               722.250000   \n",
       "50%                       4.900000              1502.500000   \n",
       "75%                       7.400000              2229.500000   \n",
       "max                      12.000000              2993.000000   \n",
       "\n",
       "        number_of_apps_installed  data_usage_(mb/day)         age gender  \\\n",
       "count                 700.000000           700.000000  700.000000    700   \n",
       "unique                       NaN                  NaN         NaN      2   \n",
       "top                          NaN                  NaN         NaN   Male   \n",
       "freq                         NaN                  NaN         NaN    364   \n",
       "mean                   50.681429           929.742857   38.482857    NaN   \n",
       "std                    26.943324           640.451729   12.012916    NaN   \n",
       "min                    10.000000           102.000000   18.000000    NaN   \n",
       "25%                    26.000000           373.000000   28.000000    NaN   \n",
       "50%                    49.000000           823.500000   38.000000    NaN   \n",
       "75%                    74.000000          1341.000000   49.000000    NaN   \n",
       "max                    99.000000          2497.000000   59.000000    NaN   \n",
       "\n",
       "        user_behavior_class  screen_on_time_(min/day)  \n",
       "count                 700.0                700.000000  \n",
       "unique                  5.0                       NaN  \n",
       "top                     2.0                       NaN  \n",
       "freq                  146.0                       NaN  \n",
       "mean                    NaN                316.362857  \n",
       "std                     NaN                184.115035  \n",
       "min                     NaN                 60.000000  \n",
       "25%                     NaN                150.000000  \n",
       "50%                     NaN                294.000000  \n",
       "75%                     NaN                444.000000  \n",
       "max                     NaN                720.000000  "
      ]
     },
     "execution_count": 16,
     "metadata": {},
     "output_type": "execute_result"
    }
   ],
   "source": [
    "# The main statistics for out clean dataset are:\n",
    "users.describe(include='all')"
   ]
  },
  {
   "cell_type": "markdown",
   "metadata": {},
   "source": [
    "There are no null values nor repeated rows. This is a clean dataset, then it doesn't requires wrangling. Analysis can now be performed directly."
   ]
  },
  {
   "cell_type": "markdown",
   "metadata": {},
   "source": [
    "## Step 3: Feature understanding\n",
    "\n",
    "Now, it is important to understand how the variables behave:\n",
    "\n",
    "### - Target variable (user_behavior_class):"
   ]
  },
  {
   "cell_type": "code",
   "execution_count": 17,
   "metadata": {},
   "outputs": [
    {
     "data": {
      "text/plain": [
       "<Axes: xlabel='user_behavior_class', ylabel='Count'>"
      ]
     },
     "execution_count": 17,
     "metadata": {},
     "output_type": "execute_result"
    },
    {
     "data": {
      "image/png": "[encoded data removed]",
      "text/plain": [
       "<Figure size 640x480 with 1 Axes>"
      ]
     },
     "metadata": {},
     "output_type": "display_data"
    }
   ],
   "source": [
    "sns.histplot(\n",
    "    users,\n",
    "    x=\"user_behavior_class\", hue=\"gender\",\n",
    "    multiple=\"stack\",\n",
    "    edgecolor=\".3\",\n",
    "    linewidth=.5,\n",
    "    log_scale=False,\n",
    ")"
   ]
  },
  {
   "cell_type": "code",
   "execution_count": 18,
   "metadata": {},
   "outputs": [
    {
     "name": "stdout",
     "output_type": "stream",
     "text": [
      "Mean: 2.99, Median: 3.0\n"
     ]
    }
   ],
   "source": [
    "# The Central Tendency measures are\n",
    "mean = users['user_behavior_class'].mean()\n",
    "median = users['user_behavior_class'].median()\n",
    "print(f\"Mean: {mean}, Median: {median}\")"
   ]
  },
  {
   "cell_type": "code",
   "execution_count": 19,
   "metadata": {},
   "outputs": [
    {
     "data": {
      "image/png": "[encoded data removed]",
      "text/plain": [
       "<Figure size 640x480 with 1 Axes>"
      ]
     },
     "metadata": {},
     "output_type": "display_data"
    }
   ],
   "source": [
    "# The Outliers can be identifyed from a Boxplot\n",
    "sns.boxplot(x=users['user_behavior_class'])\n",
    "plt.title('Box Plot')\n",
    "plt.show()"
   ]
  },
  {
   "cell_type": "markdown",
   "metadata": {},
   "source": [
    "There are no outliers visible at first glance.\n",
    "\n",
    "### - Analysis for variable \"device_model\":"
   ]
  },
  {
   "cell_type": "code",
   "execution_count": 20,
   "metadata": {},
   "outputs": [
    {
     "data": {
      "text/plain": [
       "Text(0.5, 1.0, 'Users of different device models')"
      ]
     },
     "execution_count": 20,
     "metadata": {},
     "output_type": "execute_result"
    },
    {
     "data": {
      "image/png": "[encoded data removed]",
      "text/plain": [
       "<Figure size 640x480 with 1 Axes>"
      ]
     },
     "metadata": {},
     "output_type": "display_data"
    }
   ],
   "source": [
    "# The variable behave as:\n",
    "sns.histplot(users, x='device_model', \n",
    "             hue='user_behavior_class', \n",
    "             multiple=\"dodge\", \n",
    "             palette=\"pastel\",\n",
    "             shrink=.75)\n",
    "plt.title(\"Users of different device models\")"
   ]
  },
  {
   "cell_type": "code",
   "execution_count": 21,
   "metadata": {},
   "outputs": [
    {
     "data": {
      "text/plain": [
       "array(['Google Pixel 5', 'OnePlus 9', 'Xiaomi Mi 11', 'iPhone 12',\n",
       "       'Samsung Galaxy S21'], dtype=object)"
      ]
     },
     "execution_count": 21,
     "metadata": {},
     "output_type": "execute_result"
    }
   ],
   "source": [
    "users['device_model'].unique()"
   ]
  },
  {
   "cell_type": "code",
   "execution_count": 22,
   "metadata": {},
   "outputs": [
    {
     "name": "stdout",
     "output_type": "stream",
     "text": [
      "\n",
      "Chi 2 squared Test:\n",
      "X2-statistic: 9.323292999855825, P-value: 0.8995047686361158\n"
     ]
    }
   ],
   "source": [
    "# Since both variables are categorical in nature, the chi-squared test of independence will be used. \n",
    "\n",
    "# A contingency table is created.\n",
    "devices = pd.crosstab(users.device_model, users.user_behavior_class)\n",
    "\n",
    "# Then, I'll apply the non-parametric test for comparaison (Chi-squared):\n",
    "stat, p, dof, expected = chi2_contingency(devices)\n",
    "print(\"\\nChi 2 squared Test:\")\n",
    "print(f\"X2-statistic: {stat}, P-value: {p}\")"
   ]
  },
  {
   "cell_type": "markdown",
   "metadata": {},
   "source": [
    "The P-value calculated 0.8995 is higher than 0.05, then there is no variability explained by the type of device used. Therefore, This variable should not be included in the model."
   ]
  },
  {
   "cell_type": "markdown",
   "metadata": {},
   "source": [
    "### - Analysis for variable \"gender\":"
   ]
  },
  {
   "cell_type": "code",
   "execution_count": 23,
   "metadata": {},
   "outputs": [
    {
     "data": {
      "image/png": "[encoded data removed]",
      "text/plain": [
       "<Figure size 640x480 with 1 Axes>"
      ]
     },
     "metadata": {},
     "output_type": "display_data"
    }
   ],
   "source": [
    "# The 'gender' variable behave as:\n",
    "sns.histplot(x=\"gender\", \n",
    "             hue=\"user_behavior_class\", \n",
    "             multiple=\"dodge\", \n",
    "             data=users, \n",
    "             shrink= 0.75, \n",
    "             palette=\"pastel\")\n",
    "plt.title(\"Distribution of user classes by Gender\")\n",
    "plt.show()"
   ]
  },
  {
   "cell_type": "code",
   "execution_count": 24,
   "metadata": {},
   "outputs": [
    {
     "name": "stdout",
     "output_type": "stream",
     "text": [
      "\n",
      "Chi 2 squared Test:\n",
      "X2-statistic: 6.99178419475091, P-value: 0.13632303058200942\n"
     ]
    }
   ],
   "source": [
    "# Since both variables are categorical in nature, the chi-squared test of independence will be used. \n",
    "\n",
    "# A contingency table is created.\n",
    "genders = pd.crosstab(users.gender, users.user_behavior_class)\n",
    "\n",
    "# Then, I'll apply the non-parametric test for comparaison (Chi-squared):\n",
    "stat, p, dof, expected = chi2_contingency(genders)\n",
    "print(\"\\nChi 2 squared Test:\")\n",
    "print(f\"X2-statistic: {stat}, P-value: {p}\")"
   ]
  },
  {
   "cell_type": "markdown",
   "metadata": {},
   "source": [
    "The P-value calculated 0.1363230 is higher than 0.05, then there is no relationship between gender and user classes. That means, variability in user behaviour explained by the gender of the user. Therefore, This variable should not be included in the model."
   ]
  },
  {
   "cell_type": "markdown",
   "metadata": {},
   "source": [
    "### - Analysis for variable \"operating_system\":"
   ]
  },
  {
   "cell_type": "code",
   "execution_count": 25,
   "metadata": {},
   "outputs": [
    {
     "data": {
      "image/png": "[encoded data removed]",
      "text/plain": [
       "<Figure size 640x480 with 1 Axes>"
      ]
     },
     "metadata": {},
     "output_type": "display_data"
    }
   ],
   "source": [
    "# The 'operating_system' variable behave as:\n",
    "sns.histplot(x=\"operating_system\", \n",
    "             hue=\"user_behavior_class\", \n",
    "             multiple=\"dodge\", \n",
    "             data=users, \n",
    "             shrink= 0.75, \n",
    "             palette=\"pastel\")\n",
    "plt.title(\"Distribution of user classes by Operating system used\")\n",
    "plt.show()"
   ]
  },
  {
   "cell_type": "code",
   "execution_count": 26,
   "metadata": {},
   "outputs": [
    {
     "name": "stdout",
     "output_type": "stream",
     "text": [
      "\n",
      "Chi 2 squared Test:\n",
      "X2-statistic: 2.4139480808456293, P-value: 0.6601080959701755\n"
     ]
    }
   ],
   "source": [
    "# Since both variables are categorical in nature, the chi-squared test of independence will be used. \n",
    "\n",
    "# A contingency table is created.\n",
    "operating_system = pd.crosstab(users.operating_system, users.user_behavior_class)\n",
    "\n",
    "# Then, I'll apply the non-parametric test for comparaison (Chi-squared):\n",
    "stat, p, dof, expected = chi2_contingency(operating_system)\n",
    "print(\"\\nChi 2 squared Test:\")\n",
    "print(f\"X2-statistic: {stat}, P-value: {p}\")"
   ]
  },
  {
   "cell_type": "markdown",
   "metadata": {},
   "source": [
    "The P-value calculated 0.660108 is higher than 0.05, then there is no relationship between operating system used and user classes. That means, variability in user behaviour explained by the operating system of the user's phone. Therefore, This variable should not be included in the model."
   ]
  },
  {
   "cell_type": "markdown",
   "metadata": {},
   "source": [
    "### - Analysis for variable \"age\":"
   ]
  },
  {
   "cell_type": "code",
   "execution_count": 27,
   "metadata": {},
   "outputs": [
    {
     "data": {
      "image/png": "[encoded data removed]",
      "text/plain": [
       "<Figure size 1000x600 with 1 Axes>"
      ]
     },
     "metadata": {},
     "output_type": "display_data"
    }
   ],
   "source": [
    "# visualizing the age distribution per user category\n",
    "plt.figure(figsize=(10,6))\n",
    "sns.boxplot(x='user_behavior_class', y='age', data=users)\n",
    "plt.title('Age distribution per user category')\n",
    "plt.show()"
   ]
  },
  {
   "cell_type": "code",
   "execution_count": 28,
   "metadata": {},
   "outputs": [
    {
     "name": "stdout",
     "output_type": "stream",
     "text": [
      "Normality Test (Shapiro-Wilk):\n",
      "Class of user 1: ShapiroResult(statistic=0.9601140392950264, pvalue=0.0005320171751616268)\n",
      "Class of user 2: ShapiroResult(statistic=0.9554465055701064, pvalue=0.00011988118395769519)\n",
      "Class of user 3: ShapiroResult(statistic=0.9305610052606342, pvalue=1.8080608319968525e-06)\n",
      "Class of user 4: ShapiroResult(statistic=0.9310666622520742, pvalue=2.629407735150447e-06)\n",
      "Class of user 5: ShapiroResult(statistic=0.9496488878272851, pvalue=7.278021089130132e-05)\n",
      "\n",
      "Levene’s Test for Equal Variance:\n",
      "Statistic: 1.827599921542959, P-value: 0.12168352328390827\n",
      "There is not homogeinity of variance between group of devices because 0.12168352328390827 is higher than 0.05\n"
     ]
    }
   ],
   "source": [
    "# The firts step is spliting the categories in the column as follows:\n",
    "groups_age = [group[\"age\"].values for name, group in users.groupby(\"user_behavior_class\")]\n",
    "\n",
    "# Test for Normality (Shapiro-Wilk)\n",
    "print(\"Normality Test (Shapiro-Wilk):\")\n",
    "print(\"Class of user 1:\", shapiro(groups_age[0]))\n",
    "print(\"Class of user 2:\", shapiro(groups_age[1]))\n",
    "print(\"Class of user 3:\", shapiro(groups_age[2]))\n",
    "print(\"Class of user 4:\", shapiro(groups_age[3]))\n",
    "print(\"Class of user 5:\", shapiro(groups_age[4]))\n",
    "\n",
    "# Test for Equal Variances (Levene’s Test)\n",
    "stat, p = levene(*groups_age)\n",
    "print(\"\\nLevene’s Test for Equal Variance:\")\n",
    "print(f\"Statistic: {stat}, P-value: {p}\")\n",
    "print(f'There is not homogeinity of variance between group of devices because {p} is higher than 0.05')"
   ]
  },
  {
   "cell_type": "code",
   "execution_count": 33,
   "metadata": {},
   "outputs": [
    {
     "name": "stdout",
     "output_type": "stream",
     "text": [
      "Kruskal-Wallis H Test:\n",
      "H-statistic: 0.22854571186024578, P-value: 0.9939475792329974\n"
     ]
    }
   ],
   "source": [
    "# The assumption of normally distributed data is proven, but there is no evidence of homoscedasticity. \n",
    "# Then, I will apply the non-parametric Kruskal-Wallis test to assess differences between groups:\n",
    "stat, p = kruskal(*groups_age)\n",
    "print(\"Kruskal-Wallis H Test:\")\n",
    "print(f\"H-statistic: {stat}, P-value: {p}\")"
   ]
  },
  {
   "cell_type": "markdown",
   "metadata": {},
   "source": [
    "The P-value calculated 0.9939 is far higher than 0.05; then, any observed differences in age between user classes groups are likely due to random variation rather than a true relationship. Therefore, This variable should not be included in the model."
   ]
  },
  {
   "cell_type": "markdown",
   "metadata": {},
   "source": [
    "### - Analysis for variable \"app_usage_time_(min/day)\":"
   ]
  },
  {
   "cell_type": "code",
   "execution_count": 36,
   "metadata": {},
   "outputs": [
    {
     "data": {
      "image/png": "[encoded data removed]",
      "text/plain": [
       "<Figure size 1000x600 with 1 Axes>"
      ]
     },
     "metadata": {},
     "output_type": "display_data"
    }
   ],
   "source": [
    "# visualizing the app usage time distribution per user category\n",
    "plt.figure(figsize=(10,6))\n",
    "sns.boxplot(x='user_behavior_class', y='app_usage_time_(min/day)', data=users)\n",
    "plt.title('App usage time distribution per user category')\n",
    "plt.show()"
   ]
  },
  {
   "cell_type": "code",
   "execution_count": 35,
   "metadata": {},
   "outputs": [
    {
     "name": "stdout",
     "output_type": "stream",
     "text": [
      "Normality Test (Shapiro-Wilk):\n",
      "Class of user 1: ShapiroResult(statistic=0.9472808488530936, pvalue=4.7665563609424605e-05)\n",
      "Class of user 2: ShapiroResult(statistic=0.9542199604472779, pvalue=9.406855993366491e-05)\n",
      "Class of user 3: ShapiroResult(statistic=0.9471580689500327, pvalue=2.9769996337401914e-05)\n",
      "Class of user 4: ShapiroResult(statistic=0.9402060510027039, pvalue=1.1528660275613888e-05)\n",
      "Class of user 5: ShapiroResult(statistic=0.9644347136612353, pvalue=0.0012873018839486298)\n",
      "\n",
      "Levene’s Test for Equal Variance:\n",
      "Statistic: 46.95485178064219, P-value: 5.941588330548182e-35\n",
      "There is homogeinity of variance between group of user classes because 5.941588330548182e-35 is smaller than 0.05\n"
     ]
    }
   ],
   "source": [
    "# The firts step is spliting the categories in the column as follows:\n",
    "groups_app_usage = [group[\"app_usage_time_(min/day)\"].values for name, group in users.groupby(\"user_behavior_class\")]\n",
    "\n",
    "# Test for Normality (Shapiro-Wilk)\n",
    "print(\"Normality Test (Shapiro-Wilk):\")\n",
    "print(\"Class of user 1:\", shapiro(groups_app_usage[0]))\n",
    "print(\"Class of user 2:\", shapiro(groups_app_usage[1]))\n",
    "print(\"Class of user 3:\", shapiro(groups_app_usage[2]))\n",
    "print(\"Class of user 4:\", shapiro(groups_app_usage[3]))\n",
    "print(\"Class of user 5:\", shapiro(groups_app_usage[4]))\n",
    "\n",
    "# Test for Equal Variances (Levene’s Test)\n",
    "stat, p = levene(*groups_app_usage)\n",
    "print(\"\\nLevene’s Test for Equal Variance:\")\n",
    "print(f\"Statistic: {stat}, P-value: {p}\")\n",
    "print(f'There is homogeinity of variance between group of user classes because {p} is smaller than 0.05')"
   ]
  },
  {
   "cell_type": "code",
   "execution_count": 39,
   "metadata": {},
   "outputs": [
    {
     "name": "stdout",
     "output_type": "stream",
     "text": [
      "One-way ANOVA Test:\n",
      "F-statistic: 4555.299163870112, P-value: 0.0\n"
     ]
    }
   ],
   "source": [
    "# The variable 'app_usage_time_(min/day)' follows a normal distribution, and evidence supports homoscedasticity between user groups. \n",
    "# Then, I will apply the parametric One-way ANOVA test to assess differences between groups:\n",
    "stat, p = f_oneway(*groups_app_usage)\n",
    "print(\"One-way ANOVA Test:\")\n",
    "print(f\"F-statistic: {stat}, P-value: {p}\")"
   ]
  },
  {
   "cell_type": "markdown",
   "metadata": {},
   "source": [
    "As observed in the image above, some classes have significantly higher usage times than others. The extremely small p-value suggests that the observed differences in group means are almost certainly not due to random chance. Therefore, this variable clearly differentiates user behavior."
   ]
  },
  {
   "cell_type": "markdown",
   "metadata": {},
   "source": [
    "### - Analysis for variable \"screen_on_time_(min/day)\":"
   ]
  },
  {
   "cell_type": "code",
   "execution_count": 37,
   "metadata": {},
   "outputs": [
    {
     "data": {
      "image/png": "[encoded data removed]",
      "text/plain": [
       "<Figure size 1000x600 with 1 Axes>"
      ]
     },
     "metadata": {},
     "output_type": "display_data"
    }
   ],
   "source": [
    "# visualizing the app usage time distribution per user category\n",
    "plt.figure(figsize=(10,6))\n",
    "sns.boxplot(x='user_behavior_class', y='screen_on_time_(min/day)', data=users)\n",
    "plt.title('Screen on time distribution per user category')\n",
    "plt.show()"
   ]
  },
  {
   "cell_type": "code",
   "execution_count": 38,
   "metadata": {},
   "outputs": [
    {
     "name": "stdout",
     "output_type": "stream",
     "text": [
      "Normality Test (Shapiro-Wilk):\n",
      "Class of user 1: ShapiroResult(statistic=0.951463560727136, pvalue=0.00010130594441840498)\n",
      "Class of user 2: ShapiroResult(statistic=0.9481646124406252, pvalue=2.9639694764748247e-05)\n",
      "Class of user 3: ShapiroResult(statistic=0.957196183711702, pvalue=0.00020142913868483834)\n",
      "Class of user 4: ShapiroResult(statistic=0.9392486001939377, pvalue=9.822379138439395e-06)\n",
      "Class of user 5: ShapiroResult(statistic=0.9465914588564697, pvalue=4.221232855650459e-05)\n",
      "\n",
      "Levene’s Test for Equal Variance:\n",
      "Statistic: 73.65950492550043, P-value: 4.793197178324948e-52\n",
      "There is homogeinity of variance between group of user classes because 4.793197178324948e-52 is smaller than 0.05\n"
     ]
    }
   ],
   "source": [
    "# The firts step is spliting the categories in the column as follows:\n",
    "groups_screen = [group[\"screen_on_time_(min/day)\"].values for name, group in users.groupby(\"user_behavior_class\")]\n",
    "\n",
    "# Test for Normality (Shapiro-Wilk)\n",
    "print(\"Normality Test (Shapiro-Wilk):\")\n",
    "print(\"Class of user 1:\", shapiro(groups_screen[0]))\n",
    "print(\"Class of user 2:\", shapiro(groups_screen[1]))\n",
    "print(\"Class of user 3:\", shapiro(groups_screen[2]))\n",
    "print(\"Class of user 4:\", shapiro(groups_screen[3]))\n",
    "print(\"Class of user 5:\", shapiro(groups_screen[4]))\n",
    "\n",
    "# Test for Equal Variances (Levene’s Test)\n",
    "stat, p = levene(*groups_screen)\n",
    "print(\"\\nLevene’s Test for Equal Variance:\")\n",
    "print(f\"Statistic: {stat}, P-value: {p}\")\n",
    "print(f'There is homogeinity of variance between group of user classes because {p} is smaller than 0.05')"
   ]
  },
  {
   "cell_type": "code",
   "execution_count": 40,
   "metadata": {},
   "outputs": [
    {
     "name": "stdout",
     "output_type": "stream",
     "text": [
      "One-way ANOVA Test:\n",
      "F-statistic: 3272.298927152075, P-value: 0.0\n"
     ]
    }
   ],
   "source": [
    "# The variable 'screen_on_time_(min/day)' follows a normal distribution, and evidence supports homoscedasticity between user groups. \n",
    "# Then, I will apply the parametric One-way ANOVA test to assess differences between groups:\n",
    "stat, p = f_oneway(*groups_screen)\n",
    "print(\"One-way ANOVA Test:\")\n",
    "print(f\"F-statistic: {stat}, P-value: {p}\")"
   ]
  },
  {
   "cell_type": "markdown",
   "metadata": {},
   "source": [
    "Based on the image above, certain classes exhibit notably higher usage times compared to others. The very small p-value indicates that the differences in group means are highly unlikely to be due to random variation. As a result, this variable effectively distinguishes user behavior."
   ]
  },
  {
   "cell_type": "code",
   "execution_count": 30,
   "metadata": {},
   "outputs": [
    {
     "data": {
      "text/plain": [
       "Index(['user_id', 'device_model', 'operating_system',\n",
       "       'app_usage_time_(min/day)', 'screen_on_time_(hours/day)',\n",
       "       'battery_drain_(mah/day)', 'number_of_apps_installed',\n",
       "       'data_usage_(mb/day)', 'age', 'gender', 'user_behavior_class',\n",
       "       'screen_on_time_(min/day)'],\n",
       "      dtype='object')"
      ]
     },
     "execution_count": 30,
     "metadata": {},
     "output_type": "execute_result"
    }
   ],
   "source": [
    "users.columns"
   ]
  }
 ],
 "metadata": {
  "kernelspec": {
   "display_name": "base",
   "language": "python",
   "name": "python3"
  },
  "language_info": {
   "codemirror_mode": {
    "name": "ipython",
    "version": 3
   },
   "file_extension": ".py",
   "mimetype": "text/x-python",
   "name": "python",
   "nbconvert_exporter": "python",
   "pygments_lexer": "ipython3",
   "version": "3.12.7"
  }
 },
 "nbformat": 4,
 "nbformat_minor": 2
}
