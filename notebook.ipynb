{
 "cells": [
  {
   "cell_type": "markdown",
   "metadata": {},
   "source": [
    "# Data Exploratory Analysis\n",
    "The following outlines the process I used to understand and analyze the dataset."
   ]
  },
  {
   "cell_type": "code",
   "execution_count": 1,
   "metadata": {},
   "outputs": [],
   "source": [
    "# The first step involves importing the libraries required for the process:\n",
    "import pandas as pd\n",
    "import numpy as np\n",
    "import matplotlib.pyplot as plt\n",
    "import seaborn as sns\n",
    "\n",
    "# The graphics style selected is:\n",
    "sns.reset_orig() \n",
    "plt.style.use('ggplot')\n",
    "\n",
    "# Statistical packages used\n",
    "from scipy.stats import shapiro, levene, ttest_ind, mannwhitneyu, f_oneway, kruskal, pearsonr\n",
    "\n",
    "# Model packages used\n",
    "from sklearn.model_selection import train_test_split\n",
    "from sklearn.metrics import accuracy_score, multilabel_confusion_matrix, classification_report\n",
    "from sklearn.feature_extraction import DictVectorizer\n",
    "\n",
    "from sklearn.ensemble import RandomForestRegressor, GradientBoostingRegressor\n",
    "from sklearn import svm\n",
    "from sklearn.model_selection import GridSearchCV\n",
    "\n",
    "# To save the model\n",
    "import pickle"
   ]
  },
  {
   "cell_type": "code",
   "execution_count": 2,
   "metadata": {},
   "outputs": [],
   "source": [
    "# The following allows us to view all the columns of the dataset, regardless of its size:\n",
    "pd.set_option('display.max_columns', None)"
   ]
  },
  {
   "cell_type": "code",
   "execution_count": null,
   "metadata": {},
   "outputs": [],
   "source": [
    "# Then the dataset is loaded as:\n",
    "users = pd.read_csv(\"C://Users/jober/Data_Projects/classification_of_consumer_behaviour/Dataset/user_behaviour_dataset.csv\", sep=\";\", )"
   ]
  },
  {
   "cell_type": "markdown",
   "metadata": {},
   "source": [
    "## Step 1: Understanding the data\n",
    "This step give us a general sense of the dataset: "
   ]
  },
  {
   "cell_type": "code",
   "execution_count": 4,
   "metadata": {},
   "outputs": [
    {
     "data": {
      "text/plain": [
       "(700, 11)"
      ]
     },
     "execution_count": 4,
     "metadata": {},
     "output_type": "execute_result"
    }
   ],
   "source": [
    "users.shape"
   ]
  },
  {
   "cell_type": "code",
   "execution_count": 5,
   "metadata": {},
   "outputs": [
    {
     "data": {
      "text/html": [
       "<div>\n",
       "<style scoped>\n",
       "    .dataframe tbody tr th:only-of-type {\n",
       "        vertical-align: middle;\n",
       "    }\n",
       "\n",
       "    .dataframe tbody tr th {\n",
       "        vertical-align: top;\n",
       "    }\n",
       "\n",
       "    .dataframe thead th {\n",
       "        text-align: right;\n",
       "    }\n",
       "</style>\n",
       "<table border=\"1\" class=\"dataframe\">\n",
       "  <thead>\n",
       "    <tr style=\"text-align: right;\">\n",
       "      <th></th>\n",
       "      <th>User ID</th>\n",
       "      <th>Device Model</th>\n",
       "      <th>Operating System</th>\n",
       "      <th>App Usage Time (min/day)</th>\n",
       "      <th>Screen On Time (hours/day)</th>\n",
       "      <th>Battery Drain (mAh/day)</th>\n",
       "      <th>Number of Apps Installed</th>\n",
       "      <th>Data Usage (MB/day)</th>\n",
       "      <th>Age</th>\n",
       "      <th>Gender</th>\n",
       "      <th>User Behavior Class</th>\n",
       "    </tr>\n",
       "  </thead>\n",
       "  <tbody>\n",
       "    <tr>\n",
       "      <th>0</th>\n",
       "      <td>1</td>\n",
       "      <td>Google Pixel 5</td>\n",
       "      <td>Android</td>\n",
       "      <td>393</td>\n",
       "      <td>6.4</td>\n",
       "      <td>1872</td>\n",
       "      <td>67</td>\n",
       "      <td>1122</td>\n",
       "      <td>40</td>\n",
       "      <td>Male</td>\n",
       "      <td>4</td>\n",
       "    </tr>\n",
       "    <tr>\n",
       "      <th>1</th>\n",
       "      <td>2</td>\n",
       "      <td>OnePlus 9</td>\n",
       "      <td>Android</td>\n",
       "      <td>268</td>\n",
       "      <td>4.7</td>\n",
       "      <td>1331</td>\n",
       "      <td>42</td>\n",
       "      <td>944</td>\n",
       "      <td>47</td>\n",
       "      <td>Female</td>\n",
       "      <td>3</td>\n",
       "    </tr>\n",
       "    <tr>\n",
       "      <th>2</th>\n",
       "      <td>3</td>\n",
       "      <td>Xiaomi Mi 11</td>\n",
       "      <td>Android</td>\n",
       "      <td>154</td>\n",
       "      <td>4.0</td>\n",
       "      <td>761</td>\n",
       "      <td>32</td>\n",
       "      <td>322</td>\n",
       "      <td>42</td>\n",
       "      <td>Male</td>\n",
       "      <td>2</td>\n",
       "    </tr>\n",
       "    <tr>\n",
       "      <th>3</th>\n",
       "      <td>4</td>\n",
       "      <td>Google Pixel 5</td>\n",
       "      <td>Android</td>\n",
       "      <td>239</td>\n",
       "      <td>4.8</td>\n",
       "      <td>1676</td>\n",
       "      <td>56</td>\n",
       "      <td>871</td>\n",
       "      <td>20</td>\n",
       "      <td>Male</td>\n",
       "      <td>3</td>\n",
       "    </tr>\n",
       "    <tr>\n",
       "      <th>4</th>\n",
       "      <td>5</td>\n",
       "      <td>iPhone 12</td>\n",
       "      <td>iOS</td>\n",
       "      <td>187</td>\n",
       "      <td>4.3</td>\n",
       "      <td>1367</td>\n",
       "      <td>58</td>\n",
       "      <td>988</td>\n",
       "      <td>31</td>\n",
       "      <td>Female</td>\n",
       "      <td>3</td>\n",
       "    </tr>\n",
       "  </tbody>\n",
       "</table>\n",
       "</div>"
      ],
      "text/plain": [
       "   User ID    Device Model Operating System  App Usage Time (min/day)  \\\n",
       "0        1  Google Pixel 5          Android                       393   \n",
       "1        2       OnePlus 9          Android                       268   \n",
       "2        3    Xiaomi Mi 11          Android                       154   \n",
       "3        4  Google Pixel 5          Android                       239   \n",
       "4        5       iPhone 12              iOS                       187   \n",
       "\n",
       "   Screen On Time (hours/day)  Battery Drain (mAh/day)  \\\n",
       "0                         6.4                     1872   \n",
       "1                         4.7                     1331   \n",
       "2                         4.0                      761   \n",
       "3                         4.8                     1676   \n",
       "4                         4.3                     1367   \n",
       "\n",
       "   Number of Apps Installed  Data Usage (MB/day)  Age  Gender  \\\n",
       "0                        67                 1122   40    Male   \n",
       "1                        42                  944   47  Female   \n",
       "2                        32                  322   42    Male   \n",
       "3                        56                  871   20    Male   \n",
       "4                        58                  988   31  Female   \n",
       "\n",
       "   User Behavior Class  \n",
       "0                    4  \n",
       "1                    3  \n",
       "2                    2  \n",
       "3                    3  \n",
       "4                    3  "
      ]
     },
     "execution_count": 5,
     "metadata": {},
     "output_type": "execute_result"
    }
   ],
   "source": [
    "users.head()"
   ]
  },
  {
   "cell_type": "code",
   "execution_count": 6,
   "metadata": {},
   "outputs": [
    {
     "data": {
      "text/plain": [
       "Index(['User ID', 'Device Model', 'Operating System',\n",
       "       'App Usage Time (min/day)', 'Screen On Time (hours/day)',\n",
       "       'Battery Drain (mAh/day)', 'Number of Apps Installed',\n",
       "       'Data Usage (MB/day)', 'Age', 'Gender', 'User Behavior Class'],\n",
       "      dtype='object')"
      ]
     },
     "execution_count": 6,
     "metadata": {},
     "output_type": "execute_result"
    }
   ],
   "source": [
    "users.columns"
   ]
  },
  {
   "cell_type": "code",
   "execution_count": 7,
   "metadata": {},
   "outputs": [
    {
     "name": "stdout",
     "output_type": "stream",
     "text": [
      "<class 'pandas.core.frame.DataFrame'>\n",
      "RangeIndex: 700 entries, 0 to 699\n",
      "Data columns (total 11 columns):\n",
      " #   Column                      Non-Null Count  Dtype  \n",
      "---  ------                      --------------  -----  \n",
      " 0   User ID                     700 non-null    int64  \n",
      " 1   Device Model                700 non-null    object \n",
      " 2   Operating System            700 non-null    object \n",
      " 3   App Usage Time (min/day)    700 non-null    int64  \n",
      " 4   Screen On Time (hours/day)  700 non-null    float64\n",
      " 5   Battery Drain (mAh/day)     700 non-null    int64  \n",
      " 6   Number of Apps Installed    700 non-null    int64  \n",
      " 7   Data Usage (MB/day)         700 non-null    int64  \n",
      " 8   Age                         700 non-null    int64  \n",
      " 9   Gender                      700 non-null    object \n",
      " 10  User Behavior Class         700 non-null    int64  \n",
      "dtypes: float64(1), int64(7), object(3)\n",
      "memory usage: 60.3+ KB\n"
     ]
    }
   ],
   "source": [
    "# Using the info() method, we can quickly identify the data type of each column and detect null values:\"\n",
    "users.info()"
   ]
  },
  {
   "cell_type": "code",
   "execution_count": 13,
   "metadata": {},
   "outputs": [
    {
     "data": {
      "text/html": [
       "<div>\n",
       "<style scoped>\n",
       "    .dataframe tbody tr th:only-of-type {\n",
       "        vertical-align: middle;\n",
       "    }\n",
       "\n",
       "    .dataframe tbody tr th {\n",
       "        vertical-align: top;\n",
       "    }\n",
       "\n",
       "    .dataframe thead th {\n",
       "        text-align: right;\n",
       "    }\n",
       "</style>\n",
       "<table border=\"1\" class=\"dataframe\">\n",
       "  <thead>\n",
       "    <tr style=\"text-align: right;\">\n",
       "      <th></th>\n",
       "      <th>User ID</th>\n",
       "      <th>App Usage Time (min/day)</th>\n",
       "      <th>Screen On Time (hours/day)</th>\n",
       "      <th>Battery Drain (mAh/day)</th>\n",
       "      <th>Number of Apps Installed</th>\n",
       "      <th>Data Usage (MB/day)</th>\n",
       "      <th>Age</th>\n",
       "      <th>User Behavior Class</th>\n",
       "    </tr>\n",
       "  </thead>\n",
       "  <tbody>\n",
       "    <tr>\n",
       "      <th>count</th>\n",
       "      <td>700.00000</td>\n",
       "      <td>700.000000</td>\n",
       "      <td>700.000000</td>\n",
       "      <td>700.000000</td>\n",
       "      <td>700.000000</td>\n",
       "      <td>700.000000</td>\n",
       "      <td>700.000000</td>\n",
       "      <td>700.000000</td>\n",
       "    </tr>\n",
       "    <tr>\n",
       "      <th>mean</th>\n",
       "      <td>350.50000</td>\n",
       "      <td>271.128571</td>\n",
       "      <td>5.272714</td>\n",
       "      <td>1525.158571</td>\n",
       "      <td>50.681429</td>\n",
       "      <td>929.742857</td>\n",
       "      <td>38.482857</td>\n",
       "      <td>2.990000</td>\n",
       "    </tr>\n",
       "    <tr>\n",
       "      <th>std</th>\n",
       "      <td>202.21688</td>\n",
       "      <td>177.199484</td>\n",
       "      <td>3.068584</td>\n",
       "      <td>819.136414</td>\n",
       "      <td>26.943324</td>\n",
       "      <td>640.451729</td>\n",
       "      <td>12.012916</td>\n",
       "      <td>1.401476</td>\n",
       "    </tr>\n",
       "    <tr>\n",
       "      <th>min</th>\n",
       "      <td>1.00000</td>\n",
       "      <td>30.000000</td>\n",
       "      <td>1.000000</td>\n",
       "      <td>302.000000</td>\n",
       "      <td>10.000000</td>\n",
       "      <td>102.000000</td>\n",
       "      <td>18.000000</td>\n",
       "      <td>1.000000</td>\n",
       "    </tr>\n",
       "    <tr>\n",
       "      <th>25%</th>\n",
       "      <td>175.75000</td>\n",
       "      <td>113.250000</td>\n",
       "      <td>2.500000</td>\n",
       "      <td>722.250000</td>\n",
       "      <td>26.000000</td>\n",
       "      <td>373.000000</td>\n",
       "      <td>28.000000</td>\n",
       "      <td>2.000000</td>\n",
       "    </tr>\n",
       "    <tr>\n",
       "      <th>50%</th>\n",
       "      <td>350.50000</td>\n",
       "      <td>227.500000</td>\n",
       "      <td>4.900000</td>\n",
       "      <td>1502.500000</td>\n",
       "      <td>49.000000</td>\n",
       "      <td>823.500000</td>\n",
       "      <td>38.000000</td>\n",
       "      <td>3.000000</td>\n",
       "    </tr>\n",
       "    <tr>\n",
       "      <th>75%</th>\n",
       "      <td>525.25000</td>\n",
       "      <td>434.250000</td>\n",
       "      <td>7.400000</td>\n",
       "      <td>2229.500000</td>\n",
       "      <td>74.000000</td>\n",
       "      <td>1341.000000</td>\n",
       "      <td>49.000000</td>\n",
       "      <td>4.000000</td>\n",
       "    </tr>\n",
       "    <tr>\n",
       "      <th>max</th>\n",
       "      <td>700.00000</td>\n",
       "      <td>598.000000</td>\n",
       "      <td>12.000000</td>\n",
       "      <td>2993.000000</td>\n",
       "      <td>99.000000</td>\n",
       "      <td>2497.000000</td>\n",
       "      <td>59.000000</td>\n",
       "      <td>5.000000</td>\n",
       "    </tr>\n",
       "  </tbody>\n",
       "</table>\n",
       "</div>"
      ],
      "text/plain": [
       "         User ID  App Usage Time (min/day)  Screen On Time (hours/day)  \\\n",
       "count  700.00000                700.000000                  700.000000   \n",
       "mean   350.50000                271.128571                    5.272714   \n",
       "std    202.21688                177.199484                    3.068584   \n",
       "min      1.00000                 30.000000                    1.000000   \n",
       "25%    175.75000                113.250000                    2.500000   \n",
       "50%    350.50000                227.500000                    4.900000   \n",
       "75%    525.25000                434.250000                    7.400000   \n",
       "max    700.00000                598.000000                   12.000000   \n",
       "\n",
       "       Battery Drain (mAh/day)  Number of Apps Installed  Data Usage (MB/day)  \\\n",
       "count               700.000000                700.000000           700.000000   \n",
       "mean               1525.158571                 50.681429           929.742857   \n",
       "std                 819.136414                 26.943324           640.451729   \n",
       "min                 302.000000                 10.000000           102.000000   \n",
       "25%                 722.250000                 26.000000           373.000000   \n",
       "50%                1502.500000                 49.000000           823.500000   \n",
       "75%                2229.500000                 74.000000          1341.000000   \n",
       "max                2993.000000                 99.000000          2497.000000   \n",
       "\n",
       "              Age  User Behavior Class  \n",
       "count  700.000000           700.000000  \n",
       "mean    38.482857             2.990000  \n",
       "std     12.012916             1.401476  \n",
       "min     18.000000             1.000000  \n",
       "25%     28.000000             2.000000  \n",
       "50%     38.000000             3.000000  \n",
       "75%     49.000000             4.000000  \n",
       "max     59.000000             5.000000  "
      ]
     },
     "execution_count": 13,
     "metadata": {},
     "output_type": "execute_result"
    }
   ],
   "source": [
    "# The describe() function provides basic statistics for the numerical variables in the dataset:\n",
    "users.describe()"
   ]
  },
  {
   "cell_type": "markdown",
   "metadata": {},
   "source": [
    "## Step 2: Data preparation\n",
    "There are no null values. This is a clean dataset, then it doesn't requires wrangling. Analysis can be performed directly."
   ]
  },
  {
   "cell_type": "code",
   "execution_count": 14,
   "metadata": {},
   "outputs": [
    {
     "data": {
      "text/plain": [
       "0"
      ]
     },
     "execution_count": 14,
     "metadata": {},
     "output_type": "execute_result"
    }
   ],
   "source": [
    "# Checking for duplicates:\n",
    "users.duplicated().sum()"
   ]
  }
 ],
 "metadata": {
  "kernelspec": {
   "display_name": "base",
   "language": "python",
   "name": "python3"
  },
  "language_info": {
   "codemirror_mode": {
    "name": "ipython",
    "version": 3
   },
   "file_extension": ".py",
   "mimetype": "text/x-python",
   "name": "python",
   "nbconvert_exporter": "python",
   "pygments_lexer": "ipython3",
   "version": "3.12.7"
  }
 },
 "nbformat": 4,
 "nbformat_minor": 2
}
