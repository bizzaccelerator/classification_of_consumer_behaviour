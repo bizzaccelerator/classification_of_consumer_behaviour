{
 "cells": [
  {
   "cell_type": "markdown",
   "metadata": {},
   "source": [
    "# Data Exploratory Analysis\n",
    "The following outlines the process I used to understand and analyze the dataset."
   ]
  },
  {
   "cell_type": "code",
   "execution_count": 1,
   "metadata": {},
   "outputs": [],
   "source": [
    "# The first step involves importing the libraries required for the process:\n",
    "import pandas as pd\n",
    "import numpy as np\n",
    "import matplotlib.pyplot as plt\n",
    "import seaborn as sns\n",
    "\n",
    "# The graphics style selected is:\n",
    "sns.reset_orig() \n",
    "plt.style.use('ggplot')\n",
    "\n",
    "# Statistical packages used\n",
    "from scipy.stats import shapiro, levene, chi2_contingency, f_oneway, kruskal\n",
    "\n",
    "# Model packages used\n",
    "from sklearn.model_selection import train_test_split\n",
    "from sklearn.metrics import mutual_info_score, accuracy_score, precision_score, recall_score, confusion_matrix, ConfusionMatrixDisplay, classification_report\n",
    "from sklearn.feature_extraction import DictVectorizer\n",
    "from sklearn.preprocessing import StandardScaler\n",
    "\n",
    "from sklearn.tree import DecisionTreeClassifier \n",
    "from sklearn.ensemble import RandomForestClassifier, GradientBoostingClassifier\n",
    "from sklearn.svm import SVC\n",
    "from sklearn.model_selection import GridSearchCV\n",
    "\n",
    "# To save the model\n",
    "import pickle"
   ]
  },
  {
   "cell_type": "code",
   "execution_count": 2,
   "metadata": {},
   "outputs": [],
   "source": [
    "# The following allows us to view all the columns of the dataset, regardless of its size:\n",
    "pd.set_option('display.max_columns', None)"
   ]
  },
  {
   "cell_type": "code",
   "execution_count": 3,
   "metadata": {},
   "outputs": [],
   "source": [
    "# Then the dataset is loaded as:\n",
    "users = pd.read_csv(\"C://Users/jober/Data_Projects/classification_of_consumer_behaviour/Dataset/user_behaviour_dataset.csv\", sep=\";\", )"
   ]
  },
  {
   "cell_type": "markdown",
   "metadata": {},
   "source": [
    "## Step 1: Understanding the data\n",
    "This step give us a general sense of the dataset: "
   ]
  },
  {
   "cell_type": "code",
   "execution_count": 4,
   "metadata": {},
   "outputs": [
    {
     "data": {
      "text/plain": [
       "(700, 11)"
      ]
     },
     "execution_count": 4,
     "metadata": {},
     "output_type": "execute_result"
    }
   ],
   "source": [
    "users.shape"
   ]
  },
  {
   "cell_type": "code",
   "execution_count": 5,
   "metadata": {},
   "outputs": [
    {
     "data": {
      "text/html": [
       "<div>\n",
       "<style scoped>\n",
       "    .dataframe tbody tr th:only-of-type {\n",
       "        vertical-align: middle;\n",
       "    }\n",
       "\n",
       "    .dataframe tbody tr th {\n",
       "        vertical-align: top;\n",
       "    }\n",
       "\n",
       "    .dataframe thead th {\n",
       "        text-align: right;\n",
       "    }\n",
       "</style>\n",
       "<table border=\"1\" class=\"dataframe\">\n",
       "  <thead>\n",
       "    <tr style=\"text-align: right;\">\n",
       "      <th></th>\n",
       "      <th>User ID</th>\n",
       "      <th>Device Model</th>\n",
       "      <th>Operating System</th>\n",
       "      <th>App Usage Time (min/day)</th>\n",
       "      <th>Screen On Time (hours/day)</th>\n",
       "      <th>Battery Drain (mAh/day)</th>\n",
       "      <th>Number of Apps Installed</th>\n",
       "      <th>Data Usage (MB/day)</th>\n",
       "      <th>Age</th>\n",
       "      <th>Gender</th>\n",
       "      <th>User Behavior Class</th>\n",
       "    </tr>\n",
       "  </thead>\n",
       "  <tbody>\n",
       "    <tr>\n",
       "      <th>0</th>\n",
       "      <td>1</td>\n",
       "      <td>Google Pixel 5</td>\n",
       "      <td>Android</td>\n",
       "      <td>393</td>\n",
       "      <td>6.4</td>\n",
       "      <td>1872</td>\n",
       "      <td>67</td>\n",
       "      <td>1122</td>\n",
       "      <td>40</td>\n",
       "      <td>Male</td>\n",
       "      <td>4</td>\n",
       "    </tr>\n",
       "    <tr>\n",
       "      <th>1</th>\n",
       "      <td>2</td>\n",
       "      <td>OnePlus 9</td>\n",
       "      <td>Android</td>\n",
       "      <td>268</td>\n",
       "      <td>4.7</td>\n",
       "      <td>1331</td>\n",
       "      <td>42</td>\n",
       "      <td>944</td>\n",
       "      <td>47</td>\n",
       "      <td>Female</td>\n",
       "      <td>3</td>\n",
       "    </tr>\n",
       "    <tr>\n",
       "      <th>2</th>\n",
       "      <td>3</td>\n",
       "      <td>Xiaomi Mi 11</td>\n",
       "      <td>Android</td>\n",
       "      <td>154</td>\n",
       "      <td>4.0</td>\n",
       "      <td>761</td>\n",
       "      <td>32</td>\n",
       "      <td>322</td>\n",
       "      <td>42</td>\n",
       "      <td>Male</td>\n",
       "      <td>2</td>\n",
       "    </tr>\n",
       "    <tr>\n",
       "      <th>3</th>\n",
       "      <td>4</td>\n",
       "      <td>Google Pixel 5</td>\n",
       "      <td>Android</td>\n",
       "      <td>239</td>\n",
       "      <td>4.8</td>\n",
       "      <td>1676</td>\n",
       "      <td>56</td>\n",
       "      <td>871</td>\n",
       "      <td>20</td>\n",
       "      <td>Male</td>\n",
       "      <td>3</td>\n",
       "    </tr>\n",
       "    <tr>\n",
       "      <th>4</th>\n",
       "      <td>5</td>\n",
       "      <td>iPhone 12</td>\n",
       "      <td>iOS</td>\n",
       "      <td>187</td>\n",
       "      <td>4.3</td>\n",
       "      <td>1367</td>\n",
       "      <td>58</td>\n",
       "      <td>988</td>\n",
       "      <td>31</td>\n",
       "      <td>Female</td>\n",
       "      <td>3</td>\n",
       "    </tr>\n",
       "  </tbody>\n",
       "</table>\n",
       "</div>"
      ],
      "text/plain": [
       "   User ID    Device Model Operating System  App Usage Time (min/day)  \\\n",
       "0        1  Google Pixel 5          Android                       393   \n",
       "1        2       OnePlus 9          Android                       268   \n",
       "2        3    Xiaomi Mi 11          Android                       154   \n",
       "3        4  Google Pixel 5          Android                       239   \n",
       "4        5       iPhone 12              iOS                       187   \n",
       "\n",
       "   Screen On Time (hours/day)  Battery Drain (mAh/day)  \\\n",
       "0                         6.4                     1872   \n",
       "1                         4.7                     1331   \n",
       "2                         4.0                      761   \n",
       "3                         4.8                     1676   \n",
       "4                         4.3                     1367   \n",
       "\n",
       "   Number of Apps Installed  Data Usage (MB/day)  Age  Gender  \\\n",
       "0                        67                 1122   40    Male   \n",
       "1                        42                  944   47  Female   \n",
       "2                        32                  322   42    Male   \n",
       "3                        56                  871   20    Male   \n",
       "4                        58                  988   31  Female   \n",
       "\n",
       "   User Behavior Class  \n",
       "0                    4  \n",
       "1                    3  \n",
       "2                    2  \n",
       "3                    3  \n",
       "4                    3  "
      ]
     },
     "execution_count": 5,
     "metadata": {},
     "output_type": "execute_result"
    }
   ],
   "source": [
    "users.head()"
   ]
  },
  {
   "cell_type": "code",
   "execution_count": 6,
   "metadata": {},
   "outputs": [
    {
     "data": {
      "text/plain": [
       "Index(['User ID', 'Device Model', 'Operating System',\n",
       "       'App Usage Time (min/day)', 'Screen On Time (hours/day)',\n",
       "       'Battery Drain (mAh/day)', 'Number of Apps Installed',\n",
       "       'Data Usage (MB/day)', 'Age', 'Gender', 'User Behavior Class'],\n",
       "      dtype='object')"
      ]
     },
     "execution_count": 6,
     "metadata": {},
     "output_type": "execute_result"
    }
   ],
   "source": [
    "users.columns"
   ]
  },
  {
   "cell_type": "code",
   "execution_count": 7,
   "metadata": {},
   "outputs": [
    {
     "name": "stdout",
     "output_type": "stream",
     "text": [
      "<class 'pandas.core.frame.DataFrame'>\n",
      "RangeIndex: 700 entries, 0 to 699\n",
      "Data columns (total 11 columns):\n",
      " #   Column                      Non-Null Count  Dtype  \n",
      "---  ------                      --------------  -----  \n",
      " 0   User ID                     700 non-null    int64  \n",
      " 1   Device Model                700 non-null    object \n",
      " 2   Operating System            700 non-null    object \n",
      " 3   App Usage Time (min/day)    700 non-null    int64  \n",
      " 4   Screen On Time (hours/day)  700 non-null    float64\n",
      " 5   Battery Drain (mAh/day)     700 non-null    int64  \n",
      " 6   Number of Apps Installed    700 non-null    int64  \n",
      " 7   Data Usage (MB/day)         700 non-null    int64  \n",
      " 8   Age                         700 non-null    int64  \n",
      " 9   Gender                      700 non-null    object \n",
      " 10  User Behavior Class         700 non-null    int64  \n",
      "dtypes: float64(1), int64(7), object(3)\n",
      "memory usage: 60.3+ KB\n"
     ]
    }
   ],
   "source": [
    "# Using the info() method, we can quickly identify the data type of each column and detect null values:\"\n",
    "users.info()"
   ]
  },
  {
   "cell_type": "code",
   "execution_count": 8,
   "metadata": {},
   "outputs": [
    {
     "data": {
      "text/html": [
       "<div>\n",
       "<style scoped>\n",
       "    .dataframe tbody tr th:only-of-type {\n",
       "        vertical-align: middle;\n",
       "    }\n",
       "\n",
       "    .dataframe tbody tr th {\n",
       "        vertical-align: top;\n",
       "    }\n",
       "\n",
       "    .dataframe thead th {\n",
       "        text-align: right;\n",
       "    }\n",
       "</style>\n",
       "<table border=\"1\" class=\"dataframe\">\n",
       "  <thead>\n",
       "    <tr style=\"text-align: right;\">\n",
       "      <th></th>\n",
       "      <th>User ID</th>\n",
       "      <th>App Usage Time (min/day)</th>\n",
       "      <th>Screen On Time (hours/day)</th>\n",
       "      <th>Battery Drain (mAh/day)</th>\n",
       "      <th>Number of Apps Installed</th>\n",
       "      <th>Data Usage (MB/day)</th>\n",
       "      <th>Age</th>\n",
       "      <th>User Behavior Class</th>\n",
       "    </tr>\n",
       "  </thead>\n",
       "  <tbody>\n",
       "    <tr>\n",
       "      <th>count</th>\n",
       "      <td>700.00000</td>\n",
       "      <td>700.000000</td>\n",
       "      <td>700.000000</td>\n",
       "      <td>700.000000</td>\n",
       "      <td>700.000000</td>\n",
       "      <td>700.000000</td>\n",
       "      <td>700.000000</td>\n",
       "      <td>700.000000</td>\n",
       "    </tr>\n",
       "    <tr>\n",
       "      <th>mean</th>\n",
       "      <td>350.50000</td>\n",
       "      <td>271.128571</td>\n",
       "      <td>5.272714</td>\n",
       "      <td>1525.158571</td>\n",
       "      <td>50.681429</td>\n",
       "      <td>929.742857</td>\n",
       "      <td>38.482857</td>\n",
       "      <td>2.990000</td>\n",
       "    </tr>\n",
       "    <tr>\n",
       "      <th>std</th>\n",
       "      <td>202.21688</td>\n",
       "      <td>177.199484</td>\n",
       "      <td>3.068584</td>\n",
       "      <td>819.136414</td>\n",
       "      <td>26.943324</td>\n",
       "      <td>640.451729</td>\n",
       "      <td>12.012916</td>\n",
       "      <td>1.401476</td>\n",
       "    </tr>\n",
       "    <tr>\n",
       "      <th>min</th>\n",
       "      <td>1.00000</td>\n",
       "      <td>30.000000</td>\n",
       "      <td>1.000000</td>\n",
       "      <td>302.000000</td>\n",
       "      <td>10.000000</td>\n",
       "      <td>102.000000</td>\n",
       "      <td>18.000000</td>\n",
       "      <td>1.000000</td>\n",
       "    </tr>\n",
       "    <tr>\n",
       "      <th>25%</th>\n",
       "      <td>175.75000</td>\n",
       "      <td>113.250000</td>\n",
       "      <td>2.500000</td>\n",
       "      <td>722.250000</td>\n",
       "      <td>26.000000</td>\n",
       "      <td>373.000000</td>\n",
       "      <td>28.000000</td>\n",
       "      <td>2.000000</td>\n",
       "    </tr>\n",
       "    <tr>\n",
       "      <th>50%</th>\n",
       "      <td>350.50000</td>\n",
       "      <td>227.500000</td>\n",
       "      <td>4.900000</td>\n",
       "      <td>1502.500000</td>\n",
       "      <td>49.000000</td>\n",
       "      <td>823.500000</td>\n",
       "      <td>38.000000</td>\n",
       "      <td>3.000000</td>\n",
       "    </tr>\n",
       "    <tr>\n",
       "      <th>75%</th>\n",
       "      <td>525.25000</td>\n",
       "      <td>434.250000</td>\n",
       "      <td>7.400000</td>\n",
       "      <td>2229.500000</td>\n",
       "      <td>74.000000</td>\n",
       "      <td>1341.000000</td>\n",
       "      <td>49.000000</td>\n",
       "      <td>4.000000</td>\n",
       "    </tr>\n",
       "    <tr>\n",
       "      <th>max</th>\n",
       "      <td>700.00000</td>\n",
       "      <td>598.000000</td>\n",
       "      <td>12.000000</td>\n",
       "      <td>2993.000000</td>\n",
       "      <td>99.000000</td>\n",
       "      <td>2497.000000</td>\n",
       "      <td>59.000000</td>\n",
       "      <td>5.000000</td>\n",
       "    </tr>\n",
       "  </tbody>\n",
       "</table>\n",
       "</div>"
      ],
      "text/plain": [
       "         User ID  App Usage Time (min/day)  Screen On Time (hours/day)  \\\n",
       "count  700.00000                700.000000                  700.000000   \n",
       "mean   350.50000                271.128571                    5.272714   \n",
       "std    202.21688                177.199484                    3.068584   \n",
       "min      1.00000                 30.000000                    1.000000   \n",
       "25%    175.75000                113.250000                    2.500000   \n",
       "50%    350.50000                227.500000                    4.900000   \n",
       "75%    525.25000                434.250000                    7.400000   \n",
       "max    700.00000                598.000000                   12.000000   \n",
       "\n",
       "       Battery Drain (mAh/day)  Number of Apps Installed  Data Usage (MB/day)  \\\n",
       "count               700.000000                700.000000           700.000000   \n",
       "mean               1525.158571                 50.681429           929.742857   \n",
       "std                 819.136414                 26.943324           640.451729   \n",
       "min                 302.000000                 10.000000           102.000000   \n",
       "25%                 722.250000                 26.000000           373.000000   \n",
       "50%                1502.500000                 49.000000           823.500000   \n",
       "75%                2229.500000                 74.000000          1341.000000   \n",
       "max                2993.000000                 99.000000          2497.000000   \n",
       "\n",
       "              Age  User Behavior Class  \n",
       "count  700.000000           700.000000  \n",
       "mean    38.482857             2.990000  \n",
       "std     12.012916             1.401476  \n",
       "min     18.000000             1.000000  \n",
       "25%     28.000000             2.000000  \n",
       "50%     38.000000             3.000000  \n",
       "75%     49.000000             4.000000  \n",
       "max     59.000000             5.000000  "
      ]
     },
     "execution_count": 8,
     "metadata": {},
     "output_type": "execute_result"
    }
   ],
   "source": [
    "# The describe() function provides basic statistics for the numerical variables in the dataset:\n",
    "users.describe()"
   ]
  },
  {
   "cell_type": "markdown",
   "metadata": {},
   "source": [
    "## Step 2: Data preparation\n",
    "Now that I have a general understanding of the data, some evaluation is needed before proceeding with further analysis."
   ]
  },
  {
   "cell_type": "code",
   "execution_count": 9,
   "metadata": {},
   "outputs": [
    {
     "data": {
      "text/plain": [
       "0"
      ]
     },
     "execution_count": 9,
     "metadata": {},
     "output_type": "execute_result"
    }
   ],
   "source": [
    "# Checking for duplicates:\n",
    "users.duplicated().sum()"
   ]
  },
  {
   "cell_type": "code",
   "execution_count": 10,
   "metadata": {},
   "outputs": [
    {
     "data": {
      "text/plain": [
       "User ID                       0\n",
       "Device Model                  0\n",
       "Operating System              0\n",
       "App Usage Time (min/day)      0\n",
       "Screen On Time (hours/day)    0\n",
       "Battery Drain (mAh/day)       0\n",
       "Number of Apps Installed      0\n",
       "Data Usage (MB/day)           0\n",
       "Age                           0\n",
       "Gender                        0\n",
       "User Behavior Class           0\n",
       "dtype: int64"
      ]
     },
     "execution_count": 10,
     "metadata": {},
     "output_type": "execute_result"
    }
   ],
   "source": [
    "# Checking for null values \n",
    "users.isna().sum()"
   ]
  },
  {
   "cell_type": "code",
   "execution_count": 11,
   "metadata": {},
   "outputs": [],
   "source": [
    "# Column names in our refined dataframe are converted to lowercase, and spaces are removed for consistency and usability:\n",
    "users.columns = [name.lower() for name in users.columns]\n",
    "users.columns = [name.replace(\" \",\"_\") for name in users.columns]"
   ]
  },
  {
   "cell_type": "code",
   "execution_count": 12,
   "metadata": {},
   "outputs": [
    {
     "data": {
      "text/html": [
       "<div>\n",
       "<style scoped>\n",
       "    .dataframe tbody tr th:only-of-type {\n",
       "        vertical-align: middle;\n",
       "    }\n",
       "\n",
       "    .dataframe tbody tr th {\n",
       "        vertical-align: top;\n",
       "    }\n",
       "\n",
       "    .dataframe thead th {\n",
       "        text-align: right;\n",
       "    }\n",
       "</style>\n",
       "<table border=\"1\" class=\"dataframe\">\n",
       "  <thead>\n",
       "    <tr style=\"text-align: right;\">\n",
       "      <th></th>\n",
       "      <th>user_id</th>\n",
       "      <th>device_model</th>\n",
       "      <th>operating_system</th>\n",
       "      <th>app_usage_time_(min/day)</th>\n",
       "      <th>screen_on_time_(hours/day)</th>\n",
       "      <th>battery_drain_(mah/day)</th>\n",
       "      <th>number_of_apps_installed</th>\n",
       "      <th>data_usage_(mb/day)</th>\n",
       "      <th>age</th>\n",
       "      <th>gender</th>\n",
       "      <th>user_behavior_class</th>\n",
       "    </tr>\n",
       "  </thead>\n",
       "  <tbody>\n",
       "    <tr>\n",
       "      <th>0</th>\n",
       "      <td>1</td>\n",
       "      <td>Google Pixel 5</td>\n",
       "      <td>Android</td>\n",
       "      <td>393</td>\n",
       "      <td>6.4</td>\n",
       "      <td>1872</td>\n",
       "      <td>67</td>\n",
       "      <td>1122</td>\n",
       "      <td>40</td>\n",
       "      <td>Male</td>\n",
       "      <td>4</td>\n",
       "    </tr>\n",
       "    <tr>\n",
       "      <th>1</th>\n",
       "      <td>2</td>\n",
       "      <td>OnePlus 9</td>\n",
       "      <td>Android</td>\n",
       "      <td>268</td>\n",
       "      <td>4.7</td>\n",
       "      <td>1331</td>\n",
       "      <td>42</td>\n",
       "      <td>944</td>\n",
       "      <td>47</td>\n",
       "      <td>Female</td>\n",
       "      <td>3</td>\n",
       "    </tr>\n",
       "    <tr>\n",
       "      <th>2</th>\n",
       "      <td>3</td>\n",
       "      <td>Xiaomi Mi 11</td>\n",
       "      <td>Android</td>\n",
       "      <td>154</td>\n",
       "      <td>4.0</td>\n",
       "      <td>761</td>\n",
       "      <td>32</td>\n",
       "      <td>322</td>\n",
       "      <td>42</td>\n",
       "      <td>Male</td>\n",
       "      <td>2</td>\n",
       "    </tr>\n",
       "    <tr>\n",
       "      <th>3</th>\n",
       "      <td>4</td>\n",
       "      <td>Google Pixel 5</td>\n",
       "      <td>Android</td>\n",
       "      <td>239</td>\n",
       "      <td>4.8</td>\n",
       "      <td>1676</td>\n",
       "      <td>56</td>\n",
       "      <td>871</td>\n",
       "      <td>20</td>\n",
       "      <td>Male</td>\n",
       "      <td>3</td>\n",
       "    </tr>\n",
       "    <tr>\n",
       "      <th>4</th>\n",
       "      <td>5</td>\n",
       "      <td>iPhone 12</td>\n",
       "      <td>iOS</td>\n",
       "      <td>187</td>\n",
       "      <td>4.3</td>\n",
       "      <td>1367</td>\n",
       "      <td>58</td>\n",
       "      <td>988</td>\n",
       "      <td>31</td>\n",
       "      <td>Female</td>\n",
       "      <td>3</td>\n",
       "    </tr>\n",
       "  </tbody>\n",
       "</table>\n",
       "</div>"
      ],
      "text/plain": [
       "   user_id    device_model operating_system  app_usage_time_(min/day)  \\\n",
       "0        1  Google Pixel 5          Android                       393   \n",
       "1        2       OnePlus 9          Android                       268   \n",
       "2        3    Xiaomi Mi 11          Android                       154   \n",
       "3        4  Google Pixel 5          Android                       239   \n",
       "4        5       iPhone 12              iOS                       187   \n",
       "\n",
       "   screen_on_time_(hours/day)  battery_drain_(mah/day)  \\\n",
       "0                         6.4                     1872   \n",
       "1                         4.7                     1331   \n",
       "2                         4.0                      761   \n",
       "3                         4.8                     1676   \n",
       "4                         4.3                     1367   \n",
       "\n",
       "   number_of_apps_installed  data_usage_(mb/day)  age  gender  \\\n",
       "0                        67                 1122   40    Male   \n",
       "1                        42                  944   47  Female   \n",
       "2                        32                  322   42    Male   \n",
       "3                        56                  871   20    Male   \n",
       "4                        58                  988   31  Female   \n",
       "\n",
       "   user_behavior_class  \n",
       "0                    4  \n",
       "1                    3  \n",
       "2                    2  \n",
       "3                    3  \n",
       "4                    3  "
      ]
     },
     "execution_count": 12,
     "metadata": {},
     "output_type": "execute_result"
    }
   ],
   "source": [
    "# The edited dataset is:\n",
    "users.head()"
   ]
  },
  {
   "cell_type": "markdown",
   "metadata": {},
   "source": [
    "The variables *app_usage_time_(min/day)* and *screen_on_time_(hours/day)* use different time units. To ensure consistency, screen_on_time will be transformed into a minutes-per-day ratio."
   ]
  },
  {
   "cell_type": "code",
   "execution_count": 13,
   "metadata": {},
   "outputs": [],
   "source": [
    "users['screen_on_time_(min/day)'] = users['screen_on_time_(hours/day)']*60"
   ]
  },
  {
   "cell_type": "code",
   "execution_count": 14,
   "metadata": {},
   "outputs": [
    {
     "name": "stdout",
     "output_type": "stream",
     "text": [
      "[4 3 2 5 1]\n",
      "\n",
      " While those are numeric values, they are best treated as categories.\n"
     ]
    }
   ],
   "source": [
    "# Modify the type of target variable:\n",
    "print(users['user_behavior_class'].unique())\n",
    "users['user_behavior_class'] = users['user_behavior_class'].astype(object)\n",
    "print('\\n While those are numeric values, they are best treated as categories.')"
   ]
  },
  {
   "cell_type": "code",
   "execution_count": 15,
   "metadata": {},
   "outputs": [
    {
     "name": "stdout",
     "output_type": "stream",
     "text": [
      "<class 'pandas.core.frame.DataFrame'>\n",
      "RangeIndex: 700 entries, 0 to 699\n",
      "Data columns (total 12 columns):\n",
      " #   Column                      Non-Null Count  Dtype  \n",
      "---  ------                      --------------  -----  \n",
      " 0   user_id                     700 non-null    int64  \n",
      " 1   device_model                700 non-null    object \n",
      " 2   operating_system            700 non-null    object \n",
      " 3   app_usage_time_(min/day)    700 non-null    int64  \n",
      " 4   screen_on_time_(hours/day)  700 non-null    float64\n",
      " 5   battery_drain_(mah/day)     700 non-null    int64  \n",
      " 6   number_of_apps_installed    700 non-null    int64  \n",
      " 7   data_usage_(mb/day)         700 non-null    int64  \n",
      " 8   age                         700 non-null    int64  \n",
      " 9   gender                      700 non-null    object \n",
      " 10  user_behavior_class         700 non-null    object \n",
      " 11  screen_on_time_(min/day)    700 non-null    float64\n",
      "dtypes: float64(2), int64(6), object(4)\n",
      "memory usage: 65.8+ KB\n"
     ]
    }
   ],
   "source": [
    "users.info()"
   ]
  },
  {
   "cell_type": "code",
   "execution_count": 16,
   "metadata": {},
   "outputs": [
    {
     "data": {
      "text/html": [
       "<div>\n",
       "<style scoped>\n",
       "    .dataframe tbody tr th:only-of-type {\n",
       "        vertical-align: middle;\n",
       "    }\n",
       "\n",
       "    .dataframe tbody tr th {\n",
       "        vertical-align: top;\n",
       "    }\n",
       "\n",
       "    .dataframe thead th {\n",
       "        text-align: right;\n",
       "    }\n",
       "</style>\n",
       "<table border=\"1\" class=\"dataframe\">\n",
       "  <thead>\n",
       "    <tr style=\"text-align: right;\">\n",
       "      <th></th>\n",
       "      <th>user_id</th>\n",
       "      <th>device_model</th>\n",
       "      <th>operating_system</th>\n",
       "      <th>app_usage_time_(min/day)</th>\n",
       "      <th>screen_on_time_(hours/day)</th>\n",
       "      <th>battery_drain_(mah/day)</th>\n",
       "      <th>number_of_apps_installed</th>\n",
       "      <th>data_usage_(mb/day)</th>\n",
       "      <th>age</th>\n",
       "      <th>gender</th>\n",
       "      <th>user_behavior_class</th>\n",
       "      <th>screen_on_time_(min/day)</th>\n",
       "    </tr>\n",
       "  </thead>\n",
       "  <tbody>\n",
       "    <tr>\n",
       "      <th>count</th>\n",
       "      <td>700.00000</td>\n",
       "      <td>700</td>\n",
       "      <td>700</td>\n",
       "      <td>700.000000</td>\n",
       "      <td>700.000000</td>\n",
       "      <td>700.000000</td>\n",
       "      <td>700.000000</td>\n",
       "      <td>700.000000</td>\n",
       "      <td>700.000000</td>\n",
       "      <td>700</td>\n",
       "      <td>700.0</td>\n",
       "      <td>700.000000</td>\n",
       "    </tr>\n",
       "    <tr>\n",
       "      <th>unique</th>\n",
       "      <td>NaN</td>\n",
       "      <td>5</td>\n",
       "      <td>2</td>\n",
       "      <td>NaN</td>\n",
       "      <td>NaN</td>\n",
       "      <td>NaN</td>\n",
       "      <td>NaN</td>\n",
       "      <td>NaN</td>\n",
       "      <td>NaN</td>\n",
       "      <td>2</td>\n",
       "      <td>5.0</td>\n",
       "      <td>NaN</td>\n",
       "    </tr>\n",
       "    <tr>\n",
       "      <th>top</th>\n",
       "      <td>NaN</td>\n",
       "      <td>Xiaomi Mi 11</td>\n",
       "      <td>Android</td>\n",
       "      <td>NaN</td>\n",
       "      <td>NaN</td>\n",
       "      <td>NaN</td>\n",
       "      <td>NaN</td>\n",
       "      <td>NaN</td>\n",
       "      <td>NaN</td>\n",
       "      <td>Male</td>\n",
       "      <td>2.0</td>\n",
       "      <td>NaN</td>\n",
       "    </tr>\n",
       "    <tr>\n",
       "      <th>freq</th>\n",
       "      <td>NaN</td>\n",
       "      <td>146</td>\n",
       "      <td>554</td>\n",
       "      <td>NaN</td>\n",
       "      <td>NaN</td>\n",
       "      <td>NaN</td>\n",
       "      <td>NaN</td>\n",
       "      <td>NaN</td>\n",
       "      <td>NaN</td>\n",
       "      <td>364</td>\n",
       "      <td>146.0</td>\n",
       "      <td>NaN</td>\n",
       "    </tr>\n",
       "    <tr>\n",
       "      <th>mean</th>\n",
       "      <td>350.50000</td>\n",
       "      <td>NaN</td>\n",
       "      <td>NaN</td>\n",
       "      <td>271.128571</td>\n",
       "      <td>5.272714</td>\n",
       "      <td>1525.158571</td>\n",
       "      <td>50.681429</td>\n",
       "      <td>929.742857</td>\n",
       "      <td>38.482857</td>\n",
       "      <td>NaN</td>\n",
       "      <td>NaN</td>\n",
       "      <td>316.362857</td>\n",
       "    </tr>\n",
       "    <tr>\n",
       "      <th>std</th>\n",
       "      <td>202.21688</td>\n",
       "      <td>NaN</td>\n",
       "      <td>NaN</td>\n",
       "      <td>177.199484</td>\n",
       "      <td>3.068584</td>\n",
       "      <td>819.136414</td>\n",
       "      <td>26.943324</td>\n",
       "      <td>640.451729</td>\n",
       "      <td>12.012916</td>\n",
       "      <td>NaN</td>\n",
       "      <td>NaN</td>\n",
       "      <td>184.115035</td>\n",
       "    </tr>\n",
       "    <tr>\n",
       "      <th>min</th>\n",
       "      <td>1.00000</td>\n",
       "      <td>NaN</td>\n",
       "      <td>NaN</td>\n",
       "      <td>30.000000</td>\n",
       "      <td>1.000000</td>\n",
       "      <td>302.000000</td>\n",
       "      <td>10.000000</td>\n",
       "      <td>102.000000</td>\n",
       "      <td>18.000000</td>\n",
       "      <td>NaN</td>\n",
       "      <td>NaN</td>\n",
       "      <td>60.000000</td>\n",
       "    </tr>\n",
       "    <tr>\n",
       "      <th>25%</th>\n",
       "      <td>175.75000</td>\n",
       "      <td>NaN</td>\n",
       "      <td>NaN</td>\n",
       "      <td>113.250000</td>\n",
       "      <td>2.500000</td>\n",
       "      <td>722.250000</td>\n",
       "      <td>26.000000</td>\n",
       "      <td>373.000000</td>\n",
       "      <td>28.000000</td>\n",
       "      <td>NaN</td>\n",
       "      <td>NaN</td>\n",
       "      <td>150.000000</td>\n",
       "    </tr>\n",
       "    <tr>\n",
       "      <th>50%</th>\n",
       "      <td>350.50000</td>\n",
       "      <td>NaN</td>\n",
       "      <td>NaN</td>\n",
       "      <td>227.500000</td>\n",
       "      <td>4.900000</td>\n",
       "      <td>1502.500000</td>\n",
       "      <td>49.000000</td>\n",
       "      <td>823.500000</td>\n",
       "      <td>38.000000</td>\n",
       "      <td>NaN</td>\n",
       "      <td>NaN</td>\n",
       "      <td>294.000000</td>\n",
       "    </tr>\n",
       "    <tr>\n",
       "      <th>75%</th>\n",
       "      <td>525.25000</td>\n",
       "      <td>NaN</td>\n",
       "      <td>NaN</td>\n",
       "      <td>434.250000</td>\n",
       "      <td>7.400000</td>\n",
       "      <td>2229.500000</td>\n",
       "      <td>74.000000</td>\n",
       "      <td>1341.000000</td>\n",
       "      <td>49.000000</td>\n",
       "      <td>NaN</td>\n",
       "      <td>NaN</td>\n",
       "      <td>444.000000</td>\n",
       "    </tr>\n",
       "    <tr>\n",
       "      <th>max</th>\n",
       "      <td>700.00000</td>\n",
       "      <td>NaN</td>\n",
       "      <td>NaN</td>\n",
       "      <td>598.000000</td>\n",
       "      <td>12.000000</td>\n",
       "      <td>2993.000000</td>\n",
       "      <td>99.000000</td>\n",
       "      <td>2497.000000</td>\n",
       "      <td>59.000000</td>\n",
       "      <td>NaN</td>\n",
       "      <td>NaN</td>\n",
       "      <td>720.000000</td>\n",
       "    </tr>\n",
       "  </tbody>\n",
       "</table>\n",
       "</div>"
      ],
      "text/plain": [
       "          user_id  device_model operating_system  app_usage_time_(min/day)  \\\n",
       "count   700.00000           700              700                700.000000   \n",
       "unique        NaN             5                2                       NaN   \n",
       "top           NaN  Xiaomi Mi 11          Android                       NaN   \n",
       "freq          NaN           146              554                       NaN   \n",
       "mean    350.50000           NaN              NaN                271.128571   \n",
       "std     202.21688           NaN              NaN                177.199484   \n",
       "min       1.00000           NaN              NaN                 30.000000   \n",
       "25%     175.75000           NaN              NaN                113.250000   \n",
       "50%     350.50000           NaN              NaN                227.500000   \n",
       "75%     525.25000           NaN              NaN                434.250000   \n",
       "max     700.00000           NaN              NaN                598.000000   \n",
       "\n",
       "        screen_on_time_(hours/day)  battery_drain_(mah/day)  \\\n",
       "count                   700.000000               700.000000   \n",
       "unique                         NaN                      NaN   \n",
       "top                            NaN                      NaN   \n",
       "freq                           NaN                      NaN   \n",
       "mean                      5.272714              1525.158571   \n",
       "std                       3.068584               819.136414   \n",
       "min                       1.000000               302.000000   \n",
       "25%                       2.500000               722.250000   \n",
       "50%                       4.900000              1502.500000   \n",
       "75%                       7.400000              2229.500000   \n",
       "max                      12.000000              2993.000000   \n",
       "\n",
       "        number_of_apps_installed  data_usage_(mb/day)         age gender  \\\n",
       "count                 700.000000           700.000000  700.000000    700   \n",
       "unique                       NaN                  NaN         NaN      2   \n",
       "top                          NaN                  NaN         NaN   Male   \n",
       "freq                         NaN                  NaN         NaN    364   \n",
       "mean                   50.681429           929.742857   38.482857    NaN   \n",
       "std                    26.943324           640.451729   12.012916    NaN   \n",
       "min                    10.000000           102.000000   18.000000    NaN   \n",
       "25%                    26.000000           373.000000   28.000000    NaN   \n",
       "50%                    49.000000           823.500000   38.000000    NaN   \n",
       "75%                    74.000000          1341.000000   49.000000    NaN   \n",
       "max                    99.000000          2497.000000   59.000000    NaN   \n",
       "\n",
       "        user_behavior_class  screen_on_time_(min/day)  \n",
       "count                 700.0                700.000000  \n",
       "unique                  5.0                       NaN  \n",
       "top                     2.0                       NaN  \n",
       "freq                  146.0                       NaN  \n",
       "mean                    NaN                316.362857  \n",
       "std                     NaN                184.115035  \n",
       "min                     NaN                 60.000000  \n",
       "25%                     NaN                150.000000  \n",
       "50%                     NaN                294.000000  \n",
       "75%                     NaN                444.000000  \n",
       "max                     NaN                720.000000  "
      ]
     },
     "execution_count": 16,
     "metadata": {},
     "output_type": "execute_result"
    }
   ],
   "source": [
    "# The main statistics for out clean dataset are:\n",
    "users.describe(include='all')"
   ]
  },
  {
   "cell_type": "markdown",
   "metadata": {},
   "source": [
    "There are no null values nor repeated rows. This is a clean dataset, then it doesn't requires wrangling. Analysis can now be performed directly."
   ]
  },
  {
   "cell_type": "code",
   "execution_count": 17,
   "metadata": {},
   "outputs": [
    {
     "data": {
      "text/plain": [
       "Index(['user_id', 'device_model', 'operating_system',\n",
       "       'app_usage_time_(min/day)', 'screen_on_time_(hours/day)',\n",
       "       'battery_drain_(mah/day)', 'number_of_apps_installed',\n",
       "       'data_usage_(mb/day)', 'age', 'gender', 'user_behavior_class',\n",
       "       'screen_on_time_(min/day)'],\n",
       "      dtype='object')"
      ]
     },
     "execution_count": 17,
     "metadata": {},
     "output_type": "execute_result"
    }
   ],
   "source": [
    "users.columns"
   ]
  },
  {
   "cell_type": "code",
   "execution_count": 18,
   "metadata": {},
   "outputs": [],
   "source": [
    "# With these sets of variables:\n",
    "categorical = ['user_id', 'device_model', 'operating_system',\n",
    "               'age', 'gender', 'user_behavior_class']\n",
    "\n",
    "numerical = ['app_usage_time_(min/day)', 'screen_on_time_(min/day)', 'battery_drain_(mah/day)', \n",
    "             'number_of_apps_installed', 'data_usage_(mb/day)']"
   ]
  },
  {
   "cell_type": "markdown",
   "metadata": {},
   "source": [
    "The ranges of al Features are:"
   ]
  },
  {
   "cell_type": "code",
   "execution_count": 19,
   "metadata": {},
   "outputs": [
    {
     "data": {
      "image/png": "[encoded data removed]",
      "text/plain": [
       "<Figure size 640x480 with 1 Axes>"
      ]
     },
     "metadata": {},
     "output_type": "display_data"
    }
   ],
   "source": [
    "users.drop('user_behavior_class', axis=1).boxplot()\n",
    "plt.title('Feature Ranges')\n",
    "plt.tick_params(axis='x', labelrotation=90)\n",
    "plt.show()"
   ]
  },
  {
   "cell_type": "markdown",
   "metadata": {},
   "source": [
    "## Step 3: Feature understanding\n",
    "\n",
    "Now, it is important to understand how the variables behave:\n",
    "\n",
    "### - Target variable (user_behavior_class):"
   ]
  },
  {
   "cell_type": "code",
   "execution_count": 20,
   "metadata": {},
   "outputs": [
    {
     "data": {
      "text/plain": [
       "<Axes: xlabel='user_behavior_class', ylabel='Count'>"
      ]
     },
     "execution_count": 20,
     "metadata": {},
     "output_type": "execute_result"
    }
   ],
   "source": [
    "sns.histplot(\n",
    "    users,\n",
    "    x=\"user_behavior_class\", hue=\"gender\",\n",
    "    multiple=\"stack\",\n",
    "    edgecolor=\".3\",\n",
    "    linewidth=.5,\n",
    "    log_scale=False,\n",
    ")"
   ]
  },
  {
   "cell_type": "code",
   "execution_count": 21,
   "metadata": {},
   "outputs": [
    {
     "name": "stdout",
     "output_type": "stream",
     "text": [
      "Mean: 2.99, Median: 3.0\n"
     ]
    }
   ],
   "source": [
    "# The Central Tendency measures are\n",
    "mean = users['user_behavior_class'].mean()\n",
    "median = users['user_behavior_class'].median()\n",
    "print(f\"Mean: {mean}, Median: {median}\")"
   ]
  },
  {
   "cell_type": "code",
   "execution_count": 22,
   "metadata": {},
   "outputs": [
    {
     "data": {
      "image/png": "[encoded data removed]",
      "text/plain": [
       "<Figure size 640x480 with 1 Axes>"
      ]
     },
     "metadata": {},
     "output_type": "display_data"
    }
   ],
   "source": [
    "# The Outliers can be identifyed from a Boxplot\n",
    "sns.boxplot(x=users['user_behavior_class'])\n",
    "plt.title('Box Plot')\n",
    "plt.show()"
   ]
  },
  {
   "cell_type": "markdown",
   "metadata": {},
   "source": [
    "There are no outliers visible at first glance.\n",
    "\n",
    "### - Analysis for variable \"device_model\":"
   ]
  },
  {
   "cell_type": "code",
   "execution_count": 23,
   "metadata": {},
   "outputs": [
    {
     "data": {
      "text/plain": [
       "Text(0.5, 1.0, 'Users of different device models')"
      ]
     },
     "execution_count": 23,
     "metadata": {},
     "output_type": "execute_result"
    }
   ],
   "source": [
    "# The variable behave as:\n",
    "sns.histplot(users, x='device_model', \n",
    "             hue='user_behavior_class', \n",
    "             multiple=\"dodge\", \n",
    "             palette=\"pastel\",\n",
    "             shrink=.75)\n",
    "plt.title(\"Users of different device models\")"
   ]
  },
  {
   "cell_type": "code",
   "execution_count": 24,
   "metadata": {},
   "outputs": [
    {
     "data": {
      "text/plain": [
       "array(['Google Pixel 5', 'OnePlus 9', 'Xiaomi Mi 11', 'iPhone 12',\n",
       "       'Samsung Galaxy S21'], dtype=object)"
      ]
     },
     "execution_count": 24,
     "metadata": {},
     "output_type": "execute_result"
    }
   ],
   "source": [
    "users['device_model'].unique()"
   ]
  },
  {
   "cell_type": "code",
   "execution_count": 25,
   "metadata": {},
   "outputs": [
    {
     "name": "stdout",
     "output_type": "stream",
     "text": [
      "\n",
      "Chi 2 squared Test:\n",
      "X2-statistic: 9.323292999855825, P-value: 0.8995047686361158\n"
     ]
    }
   ],
   "source": [
    "# Since both variables are categorical in nature, the chi-squared test of independence will be used. \n",
    "\n",
    "# A contingency table is created.\n",
    "devices = pd.crosstab(users.device_model, users.user_behavior_class)\n",
    "\n",
    "# Then, I'll apply the non-parametric test for comparaison (Chi-squared):\n",
    "stat, p, dof, expected = chi2_contingency(devices)\n",
    "print(\"\\nChi 2 squared Test:\")\n",
    "print(f\"X2-statistic: {stat}, P-value: {p}\")"
   ]
  },
  {
   "cell_type": "markdown",
   "metadata": {},
   "source": [
    "The P-value calculated 0.8995 is higher than 0.05, then there is no variability explained by the type of device used. Therefore, This variable should not be included in the model."
   ]
  },
  {
   "cell_type": "markdown",
   "metadata": {},
   "source": [
    "### - Analysis for variable \"gender\":"
   ]
  },
  {
   "cell_type": "code",
   "execution_count": 26,
   "metadata": {},
   "outputs": [
    {
     "data": {
      "image/png": "[encoded data removed]",
      "text/plain": [
       "<Figure size 640x480 with 1 Axes>"
      ]
     },
     "metadata": {},
     "output_type": "display_data"
    }
   ],
   "source": [
    "# The 'gender' variable behave as:\n",
    "sns.histplot(x=\"gender\", \n",
    "             hue=\"user_behavior_class\", \n",
    "             multiple=\"dodge\", \n",
    "             data=users, \n",
    "             shrink= 0.75, \n",
    "             palette=\"pastel\")\n",
    "plt.title(\"Distribution of user classes by Gender\")\n",
    "plt.show()"
   ]
  },
  {
   "cell_type": "code",
   "execution_count": 27,
   "metadata": {},
   "outputs": [
    {
     "name": "stdout",
     "output_type": "stream",
     "text": [
      "\n",
      "Chi 2 squared Test:\n",
      "X2-statistic: 6.99178419475091, P-value: 0.13632303058200942\n"
     ]
    }
   ],
   "source": [
    "# Since both variables are categorical in nature, the chi-squared test of independence will be used. \n",
    "\n",
    "# A contingency table is created.\n",
    "genders = pd.crosstab(users.gender, users.user_behavior_class)\n",
    "\n",
    "# Then, I'll apply the non-parametric test for comparaison (Chi-squared):\n",
    "stat, p, dof, expected = chi2_contingency(genders)\n",
    "print(\"\\nChi 2 squared Test:\")\n",
    "print(f\"X2-statistic: {stat}, P-value: {p}\")"
   ]
  },
  {
   "cell_type": "markdown",
   "metadata": {},
   "source": [
    "The P-value calculated 0.1363230 is higher than 0.05, then there is no relationship between gender and user classes. That means, variability in user behaviour explained by the gender of the user. Therefore, This variable should not be included in the model."
   ]
  },
  {
   "cell_type": "markdown",
   "metadata": {},
   "source": [
    "### - Analysis for variable \"operating_system\":"
   ]
  },
  {
   "cell_type": "code",
   "execution_count": 28,
   "metadata": {},
   "outputs": [
    {
     "data": {
      "image/png": "[encoded data removed]",
      "text/plain": [
       "<Figure size 640x480 with 1 Axes>"
      ]
     },
     "metadata": {},
     "output_type": "display_data"
    }
   ],
   "source": [
    "# The 'operating_system' variable behave as:\n",
    "sns.histplot(x=\"operating_system\", \n",
    "             hue=\"user_behavior_class\", \n",
    "             multiple=\"dodge\", \n",
    "             data=users, \n",
    "             shrink= 0.75, \n",
    "             palette=\"pastel\")\n",
    "plt.title(\"Distribution of user classes by Operating system used\")\n",
    "plt.show()"
   ]
  },
  {
   "cell_type": "code",
   "execution_count": 29,
   "metadata": {},
   "outputs": [
    {
     "name": "stdout",
     "output_type": "stream",
     "text": [
      "\n",
      "Chi 2 squared Test:\n",
      "X2-statistic: 2.4139480808456293, P-value: 0.6601080959701755\n"
     ]
    }
   ],
   "source": [
    "# Since both variables are categorical in nature, the chi-squared test of independence will be used. \n",
    "\n",
    "# A contingency table is created.\n",
    "operating_system = pd.crosstab(users.operating_system, users.user_behavior_class)\n",
    "\n",
    "# Then, I'll apply the non-parametric test for comparaison (Chi-squared):\n",
    "stat, p, dof, expected = chi2_contingency(operating_system)\n",
    "print(\"\\nChi 2 squared Test:\")\n",
    "print(f\"X2-statistic: {stat}, P-value: {p}\")"
   ]
  },
  {
   "cell_type": "markdown",
   "metadata": {},
   "source": [
    "The P-value calculated 0.660108 is higher than 0.05, then there is no relationship between operating system used and user classes. That means, variability in user behaviour explained by the operating system of the user's phone. Therefore, This variable should not be included in the model."
   ]
  },
  {
   "cell_type": "markdown",
   "metadata": {},
   "source": [
    "### - Analysis for variable \"age\":"
   ]
  },
  {
   "cell_type": "code",
   "execution_count": 30,
   "metadata": {},
   "outputs": [
    {
     "data": {
      "image/png": "[encoded data removed]",
      "text/plain": [
       "<Figure size 1000x600 with 1 Axes>"
      ]
     },
     "metadata": {},
     "output_type": "display_data"
    }
   ],
   "source": [
    "# visualizing the age distribution per user category\n",
    "plt.figure(figsize=(10,6))\n",
    "sns.boxplot(x='user_behavior_class', y='age', data=users)\n",
    "plt.title('Age distribution per user category')\n",
    "plt.show()"
   ]
  },
  {
   "cell_type": "code",
   "execution_count": 31,
   "metadata": {},
   "outputs": [
    {
     "name": "stdout",
     "output_type": "stream",
     "text": [
      "Normality Test (Shapiro-Wilk):\n",
      "Class of user 1: ShapiroResult(statistic=0.9601140392950264, pvalue=0.0005320171751616268)\n",
      "Class of user 2: ShapiroResult(statistic=0.9554465055701064, pvalue=0.00011988118395769519)\n",
      "Class of user 3: ShapiroResult(statistic=0.9305610052606342, pvalue=1.8080608319968525e-06)\n",
      "Class of user 4: ShapiroResult(statistic=0.9310666622520742, pvalue=2.629407735150447e-06)\n",
      "Class of user 5: ShapiroResult(statistic=0.9496488878272851, pvalue=7.278021089130132e-05)\n",
      "\n",
      "Levene’s Test for Equal Variance:\n",
      "Statistic: 1.827599921542959, P-value: 0.12168352328390827\n",
      "There is not homogeinity of variance between group of devices because 0.12168352328390827 is higher than 0.05\n"
     ]
    }
   ],
   "source": [
    "# The firts step is spliting the categories in the column as follows:\n",
    "groups_age = [group[\"age\"].values for name, group in users.groupby(\"user_behavior_class\")]\n",
    "\n",
    "# Test for Normality (Shapiro-Wilk)\n",
    "print(\"Normality Test (Shapiro-Wilk):\")\n",
    "print(\"Class of user 1:\", shapiro(groups_age[0]))\n",
    "print(\"Class of user 2:\", shapiro(groups_age[1]))\n",
    "print(\"Class of user 3:\", shapiro(groups_age[2]))\n",
    "print(\"Class of user 4:\", shapiro(groups_age[3]))\n",
    "print(\"Class of user 5:\", shapiro(groups_age[4]))\n",
    "\n",
    "# Test for Equal Variances (Levene’s Test)\n",
    "stat, p = levene(*groups_age)\n",
    "print(\"\\nLevene’s Test for Equal Variance:\")\n",
    "print(f\"Statistic: {stat}, P-value: {p}\")\n",
    "print(f'There is not homogeinity of variance between group of devices because {p} is higher than 0.05')"
   ]
  },
  {
   "cell_type": "code",
   "execution_count": 32,
   "metadata": {},
   "outputs": [
    {
     "name": "stdout",
     "output_type": "stream",
     "text": [
      "Kruskal-Wallis H Test:\n",
      "H-statistic: 0.22854571186024578, P-value: 0.9939475792329974\n"
     ]
    }
   ],
   "source": [
    "# The assumption of normally distributed data is proven, but there is no evidence of homoscedasticity. \n",
    "# Then, I will apply the non-parametric Kruskal-Wallis test to assess differences between groups:\n",
    "stat, p = kruskal(*groups_age)\n",
    "print(\"Kruskal-Wallis H Test:\")\n",
    "print(f\"H-statistic: {stat}, P-value: {p}\")"
   ]
  },
  {
   "cell_type": "markdown",
   "metadata": {},
   "source": [
    "The P-value calculated 0.9939 is far higher than 0.05; then, any observed differences in age between user classes groups are likely due to random variation rather than a true relationship. Therefore, This variable should not be included in the model."
   ]
  },
  {
   "cell_type": "markdown",
   "metadata": {},
   "source": [
    "### - Analysis for variable \"app_usage_time_(min/day)\":"
   ]
  },
  {
   "cell_type": "code",
   "execution_count": 33,
   "metadata": {},
   "outputs": [
    {
     "data": {
      "image/png": "[encoded data removed]",
      "text/plain": [
       "<Figure size 1000x600 with 1 Axes>"
      ]
     },
     "metadata": {},
     "output_type": "display_data"
    }
   ],
   "source": [
    "# visualizing the app usage time distribution per user category\n",
    "plt.figure(figsize=(10,6))\n",
    "sns.boxplot(x='user_behavior_class', y='app_usage_time_(min/day)', data=users)\n",
    "plt.title('App usage time distribution per user category')\n",
    "plt.show()"
   ]
  },
  {
   "cell_type": "code",
   "execution_count": 34,
   "metadata": {},
   "outputs": [
    {
     "name": "stdout",
     "output_type": "stream",
     "text": [
      "Normality Test (Shapiro-Wilk):\n",
      "Class of user 1: ShapiroResult(statistic=0.9472808488530936, pvalue=4.7665563609424605e-05)\n",
      "Class of user 2: ShapiroResult(statistic=0.9542199604472779, pvalue=9.406855993366491e-05)\n",
      "Class of user 3: ShapiroResult(statistic=0.9471580689500327, pvalue=2.9769996337401914e-05)\n",
      "Class of user 4: ShapiroResult(statistic=0.9402060510027039, pvalue=1.1528660275613888e-05)\n",
      "Class of user 5: ShapiroResult(statistic=0.9644347136612353, pvalue=0.0012873018839486298)\n",
      "\n",
      "Levene’s Test for Equal Variance:\n",
      "Statistic: 46.95485178064219, P-value: 5.941588330548182e-35\n",
      "There is homogeinity of variance between group of user classes because 5.941588330548182e-35 is smaller than 0.05\n"
     ]
    }
   ],
   "source": [
    "# The firts step is spliting the categories in the column as follows:\n",
    "groups_app_usage = [group[\"app_usage_time_(min/day)\"].values for name, group in users.groupby(\"user_behavior_class\")]\n",
    "\n",
    "# Test for Normality (Shapiro-Wilk)\n",
    "print(\"Normality Test (Shapiro-Wilk):\")\n",
    "print(\"Class of user 1:\", shapiro(groups_app_usage[0]))\n",
    "print(\"Class of user 2:\", shapiro(groups_app_usage[1]))\n",
    "print(\"Class of user 3:\", shapiro(groups_app_usage[2]))\n",
    "print(\"Class of user 4:\", shapiro(groups_app_usage[3]))\n",
    "print(\"Class of user 5:\", shapiro(groups_app_usage[4]))\n",
    "\n",
    "# Test for Equal Variances (Levene’s Test)\n",
    "stat, p = levene(*groups_app_usage)\n",
    "print(\"\\nLevene’s Test for Equal Variance:\")\n",
    "print(f\"Statistic: {stat}, P-value: {p}\")\n",
    "print(f'There is homogeinity of variance between group of user classes because {p} is smaller than 0.05')"
   ]
  },
  {
   "cell_type": "code",
   "execution_count": 35,
   "metadata": {},
   "outputs": [
    {
     "name": "stdout",
     "output_type": "stream",
     "text": [
      "One-way ANOVA Test:\n",
      "F-statistic: 4555.299163870112, P-value: 0.0\n"
     ]
    }
   ],
   "source": [
    "# The variable 'app_usage_time_(min/day)' follows a normal distribution, and evidence supports homoscedasticity between user groups. \n",
    "# Then, I will apply the parametric One-way ANOVA test to assess differences between groups:\n",
    "stat, p = f_oneway(*groups_app_usage)\n",
    "print(\"One-way ANOVA Test:\")\n",
    "print(f\"F-statistic: {stat}, P-value: {p}\")"
   ]
  },
  {
   "cell_type": "markdown",
   "metadata": {},
   "source": [
    "As observed in the image above, some classes have significantly higher usage times than others. The extremely small p-value suggests that the observed differences in group means are almost certainly not due to random chance. Therefore, this variable clearly differentiates user behavior."
   ]
  },
  {
   "cell_type": "markdown",
   "metadata": {},
   "source": [
    "### - Analysis for variable \"screen_on_time_(min/day)\":"
   ]
  },
  {
   "cell_type": "code",
   "execution_count": 36,
   "metadata": {},
   "outputs": [
    {
     "data": {
      "image/png": "[encoded data removed]",
      "text/plain": [
       "<Figure size 1000x600 with 1 Axes>"
      ]
     },
     "metadata": {},
     "output_type": "display_data"
    }
   ],
   "source": [
    "# visualizing the screen exposition time per user category\n",
    "plt.figure(figsize=(10,6))\n",
    "sns.boxplot(x='user_behavior_class', y='screen_on_time_(min/day)', data=users)\n",
    "plt.title('Screen on time distribution per user category')\n",
    "plt.show()"
   ]
  },
  {
   "cell_type": "code",
   "execution_count": 37,
   "metadata": {},
   "outputs": [
    {
     "name": "stdout",
     "output_type": "stream",
     "text": [
      "Normality Test (Shapiro-Wilk):\n",
      "Class of user 1: ShapiroResult(statistic=0.951463560727136, pvalue=0.00010130594441840498)\n",
      "Class of user 2: ShapiroResult(statistic=0.9481646124406252, pvalue=2.9639694764748247e-05)\n",
      "Class of user 3: ShapiroResult(statistic=0.957196183711702, pvalue=0.00020142913868483834)\n",
      "Class of user 4: ShapiroResult(statistic=0.9392486001939377, pvalue=9.822379138439395e-06)\n",
      "Class of user 5: ShapiroResult(statistic=0.9465914588564697, pvalue=4.221232855650459e-05)\n",
      "\n",
      "Levene’s Test for Equal Variance:\n",
      "Statistic: 73.65950492550043, P-value: 4.793197178324948e-52\n",
      "There is homogeinity of variance between group of user classes because 4.793197178324948e-52 is smaller than 0.05\n"
     ]
    }
   ],
   "source": [
    "# The firts step is spliting the categories in the column as follows:\n",
    "groups_screen = [group[\"screen_on_time_(min/day)\"].values for name, group in users.groupby(\"user_behavior_class\")]\n",
    "\n",
    "# Test for Normality (Shapiro-Wilk)\n",
    "print(\"Normality Test (Shapiro-Wilk):\")\n",
    "print(\"Class of user 1:\", shapiro(groups_screen[0]))\n",
    "print(\"Class of user 2:\", shapiro(groups_screen[1]))\n",
    "print(\"Class of user 3:\", shapiro(groups_screen[2]))\n",
    "print(\"Class of user 4:\", shapiro(groups_screen[3]))\n",
    "print(\"Class of user 5:\", shapiro(groups_screen[4]))\n",
    "\n",
    "# Test for Equal Variances (Levene’s Test)\n",
    "stat, p = levene(*groups_screen)\n",
    "print(\"\\nLevene’s Test for Equal Variance:\")\n",
    "print(f\"Statistic: {stat}, P-value: {p}\")\n",
    "print(f'There is homogeinity of variance between group of user classes because {p} is smaller than 0.05')"
   ]
  },
  {
   "cell_type": "code",
   "execution_count": 38,
   "metadata": {},
   "outputs": [
    {
     "name": "stdout",
     "output_type": "stream",
     "text": [
      "One-way ANOVA Test:\n",
      "F-statistic: 3272.298927152075, P-value: 0.0\n"
     ]
    }
   ],
   "source": [
    "# The variable 'screen_on_time_(min/day)' follows a normal distribution, and evidence supports homoscedasticity between user groups. \n",
    "# Then, I will apply the parametric One-way ANOVA test to assess differences between groups:\n",
    "stat, p = f_oneway(*groups_screen)\n",
    "print(\"One-way ANOVA Test:\")\n",
    "print(f\"F-statistic: {stat}, P-value: {p}\")"
   ]
  },
  {
   "cell_type": "markdown",
   "metadata": {},
   "source": [
    "Based on the image above, certain classes exhibit notably higher usage times compared to others. The very small p-value indicates that the differences in group means are highly unlikely to be due to random variation. As a result, this variable effectively distinguishes user behavior."
   ]
  },
  {
   "cell_type": "markdown",
   "metadata": {},
   "source": [
    "### - Analysis for variable \"battery_drain_(mah/day)\":"
   ]
  },
  {
   "cell_type": "code",
   "execution_count": 39,
   "metadata": {},
   "outputs": [
    {
     "data": {
      "image/png": "[encoded data removed]",
      "text/plain": [
       "<Figure size 1000x600 with 1 Axes>"
      ]
     },
     "metadata": {},
     "output_type": "display_data"
    }
   ],
   "source": [
    "# visualizing the battery consumption per user category\n",
    "plt.figure(figsize=(10,6))\n",
    "sns.boxplot(x='user_behavior_class', y='battery_drain_(mah/day)', data=users)\n",
    "plt.title('Battery consumption per user category')\n",
    "plt.show()"
   ]
  },
  {
   "cell_type": "code",
   "execution_count": 40,
   "metadata": {},
   "outputs": [
    {
     "name": "stdout",
     "output_type": "stream",
     "text": [
      "Normality Test (Shapiro-Wilk):\n",
      "Class of user 1: ShapiroResult(statistic=0.9447238277266147, pvalue=3.0488139321611214e-05)\n",
      "Class of user 2: ShapiroResult(statistic=0.9363005244503125, pvalue=3.693053200424206e-06)\n",
      "Class of user 3: ShapiroResult(statistic=0.9511359471028092, pvalue=6.211014406710434e-05)\n",
      "Class of user 4: ShapiroResult(statistic=0.9615008799050774, pvalue=0.0005999739100527178)\n",
      "Class of user 5: ShapiroResult(statistic=0.9366416255692789, pvalue=7.915946323253332e-06)\n",
      "\n",
      "Levene’s Test for Equal Variance:\n",
      "Statistic: 24.90278823414599, P-value: 2.7223344149503504e-19\n",
      "There is homogeinity of variance between group of user classes because 2.7223344149503504e-19 is smaller than 0.05\n"
     ]
    }
   ],
   "source": [
    "# The firts step is spliting the categories in the column as follows:\n",
    "groups_battery = [group[\"battery_drain_(mah/day)\"].values for name, group in users.groupby(\"user_behavior_class\")]\n",
    "\n",
    "# Test for Normality (Shapiro-Wilk)\n",
    "print(\"Normality Test (Shapiro-Wilk):\")\n",
    "print(\"Class of user 1:\", shapiro(groups_battery[0]))\n",
    "print(\"Class of user 2:\", shapiro(groups_battery[1]))\n",
    "print(\"Class of user 3:\", shapiro(groups_battery[2]))\n",
    "print(\"Class of user 4:\", shapiro(groups_battery[3]))\n",
    "print(\"Class of user 5:\", shapiro(groups_battery[4]))\n",
    "\n",
    "# Test for Equal Variances (Levene’s Test)\n",
    "stat, p = levene(*groups_battery)\n",
    "print(\"\\nLevene’s Test for Equal Variance:\")\n",
    "print(f\"Statistic: {stat}, P-value: {p}\")\n",
    "print(f'There is homogeinity of variance between group of user classes because {p} is smaller than 0.05')"
   ]
  },
  {
   "cell_type": "code",
   "execution_count": 41,
   "metadata": {},
   "outputs": [
    {
     "name": "stdout",
     "output_type": "stream",
     "text": [
      "One-way ANOVA Test:\n",
      "F-statistic: 4282.373777407797, P-value: 0.0\n"
     ]
    }
   ],
   "source": [
    "# The variable 'battery_drain_(mah/day)' follows a normal distribution, and evidence supports homoscedasticity between user groups. \n",
    "# Then, I will apply the parametric One-way ANOVA test to assess differences between groups:\n",
    "stat, p = f_oneway(*groups_battery)\n",
    "print(\"One-way ANOVA Test:\")\n",
    "print(f\"F-statistic: {stat}, P-value: {p}\")"
   ]
  },
  {
   "cell_type": "markdown",
   "metadata": {},
   "source": [
    "The P-value calculated is smaller than 1e300. Hence, it's smaller than 0.05, then there is variability explained in user classes by the battery consumption patterns. Therefore, This variable should be included in the model."
   ]
  },
  {
   "cell_type": "markdown",
   "metadata": {},
   "source": [
    "### - Analysis for variable \"number_of_apps_installed\":"
   ]
  },
  {
   "cell_type": "code",
   "execution_count": 42,
   "metadata": {},
   "outputs": [
    {
     "data": {
      "image/png": "[encoded data removed]",
      "text/plain": [
       "<Figure size 1000x600 with 1 Axes>"
      ]
     },
     "metadata": {},
     "output_type": "display_data"
    }
   ],
   "source": [
    "# visualizing the number of apps installed per user category\n",
    "plt.figure(figsize=(10,6))\n",
    "sns.boxplot(x='user_behavior_class', y='number_of_apps_installed', data=users)\n",
    "plt.title('Number of apps installed per user category')\n",
    "plt.show()"
   ]
  },
  {
   "cell_type": "code",
   "execution_count": 43,
   "metadata": {},
   "outputs": [
    {
     "name": "stdout",
     "output_type": "stream",
     "text": [
      "Normality Test (Shapiro-Wilk):\n",
      "Class of user 1: ShapiroResult(statistic=0.9332518210890568, pvalue=4.617839773860109e-06)\n",
      "Class of user 2: ShapiroResult(statistic=0.9319849467838194, pvalue=1.8226095923943423e-06)\n",
      "Class of user 3: ShapiroResult(statistic=0.9407247843881843, pvalue=9.581435216512816e-06)\n",
      "Class of user 4: ShapiroResult(statistic=0.9493748069724248, pvalue=5.7354905500010334e-05)\n",
      "Class of user 5: ShapiroResult(statistic=0.9423914925049903, pvalue=2.04609153738246e-05)\n",
      "\n",
      "Levene’s Test for Equal Variance:\n",
      "Statistic: 18.792602441489556, P-value: 1.1061933185363703e-14\n",
      "There is homogeinity of variance between group of user classes because 1.1061933185363703e-14 is smaller than 0.05\n"
     ]
    }
   ],
   "source": [
    "# The firts step is spliting the categories in the column as follows:\n",
    "groups_app_number = [group[\"number_of_apps_installed\"].values for name, group in users.groupby(\"user_behavior_class\")]\n",
    "\n",
    "# Test for Normality (Shapiro-Wilk)\n",
    "print(\"Normality Test (Shapiro-Wilk):\")\n",
    "print(\"Class of user 1:\", shapiro(groups_app_number[0]))\n",
    "print(\"Class of user 2:\", shapiro(groups_app_number[1]))\n",
    "print(\"Class of user 3:\", shapiro(groups_app_number[2]))\n",
    "print(\"Class of user 4:\", shapiro(groups_app_number[3]))\n",
    "print(\"Class of user 5:\", shapiro(groups_app_number[4]))\n",
    "\n",
    "# Test for Equal Variances (Levene’s Test)\n",
    "stat, p = levene(*groups_app_number)\n",
    "print(\"\\nLevene’s Test for Equal Variance:\")\n",
    "print(f\"Statistic: {stat}, P-value: {p}\")\n",
    "print(f'There is homogeinity of variance between group of user classes because {p} is smaller than 0.05')"
   ]
  },
  {
   "cell_type": "code",
   "execution_count": 44,
   "metadata": {},
   "outputs": [
    {
     "name": "stdout",
     "output_type": "stream",
     "text": [
      "One-way ANOVA Test:\n",
      "F-statistic: 4677.960387921165, P-value: 0.0\n"
     ]
    }
   ],
   "source": [
    "# The variable 'number_of_apps_installed' follows a normal distribution, and evidence supports homoscedasticity between user groups. \n",
    "# Then, I will apply the parametric One-way ANOVA test to assess differences between groups:\n",
    "stat, p = f_oneway(*groups_app_number)\n",
    "print(\"One-way ANOVA Test:\")\n",
    "print(f\"F-statistic: {stat}, P-value: {p}\")"
   ]
  },
  {
   "cell_type": "markdown",
   "metadata": {},
   "source": [
    "The P-value calculated is smaller than 0.05, then there is variability explained by the number of apps installed by the different users. Therefore, This variable should be included in the model."
   ]
  },
  {
   "cell_type": "markdown",
   "metadata": {},
   "source": [
    "### - Analysis for variable \"data_usage_(mb/day)\":"
   ]
  },
  {
   "cell_type": "code",
   "execution_count": 45,
   "metadata": {},
   "outputs": [
    {
     "data": {
      "image/png": "[encoded data removed]",
      "text/plain": [
       "<Figure size 1000x600 with 1 Axes>"
      ]
     },
     "metadata": {},
     "output_type": "display_data"
    }
   ],
   "source": [
    "# visualizing the data usage distribution per user category\n",
    "plt.figure(figsize=(10,6))\n",
    "sns.boxplot(x='user_behavior_class', y='data_usage_(mb/day)', data=users)\n",
    "plt.title('Data usage distribution per user category')\n",
    "plt.show()"
   ]
  },
  {
   "cell_type": "code",
   "execution_count": 46,
   "metadata": {},
   "outputs": [
    {
     "name": "stdout",
     "output_type": "stream",
     "text": [
      "Normality Test (Shapiro-Wilk):\n",
      "Class of user 1: ShapiroResult(statistic=0.9321468144603032, pvalue=3.886051728334073e-06)\n",
      "Class of user 2: ShapiroResult(statistic=0.9433880273766511, pvalue=1.2477107106125782e-05)\n",
      "Class of user 3: ShapiroResult(statistic=0.9408798860030743, pvalue=9.839461806700609e-06)\n",
      "Class of user 4: ShapiroResult(statistic=0.9322458680280987, pvalue=3.1624339907178564e-06)\n",
      "Class of user 5: ShapiroResult(statistic=0.9415026813154603, pvalue=1.7613430145494607e-05)\n",
      "\n",
      "Levene’s Test for Equal Variance:\n",
      "Statistic: 122.52078966175151, P-value: 4.192661769734315e-79\n",
      "There is homogeinity of variance between group of user classes because 4.192661769734315e-79 is smaller than 0.05\n"
     ]
    }
   ],
   "source": [
    "# The firts step is spliting the categories in the column as follows:\n",
    "groups_data = [group[\"data_usage_(mb/day)\"].values for name, group in users.groupby(\"user_behavior_class\")]\n",
    "\n",
    "# Test for Normality (Shapiro-Wilk)\n",
    "print(\"Normality Test (Shapiro-Wilk):\")\n",
    "print(\"Class of user 1:\", shapiro(groups_data[0]))\n",
    "print(\"Class of user 2:\", shapiro(groups_data[1]))\n",
    "print(\"Class of user 3:\", shapiro(groups_data[2]))\n",
    "print(\"Class of user 4:\", shapiro(groups_data[3]))\n",
    "print(\"Class of user 5:\", shapiro(groups_data[4]))\n",
    "\n",
    "# Test for Equal Variances (Levene’s Test)\n",
    "stat, p = levene(*groups_data)\n",
    "print(\"\\nLevene’s Test for Equal Variance:\")\n",
    "print(f\"Statistic: {stat}, P-value: {p}\")\n",
    "print(f'There is homogeinity of variance between group of user classes because {p} is smaller than 0.05')"
   ]
  },
  {
   "cell_type": "code",
   "execution_count": 47,
   "metadata": {},
   "outputs": [
    {
     "name": "stdout",
     "output_type": "stream",
     "text": [
      "One-way ANOVA Test:\n",
      "F-statistic: 2526.899738782396, P-value: 0.0\n"
     ]
    }
   ],
   "source": [
    "# The variable 'data_usage_(mb/day)' follows a normal distribution, and evidence supports homoscedasticity between user groups. \n",
    "# Then, I will apply the parametric One-way ANOVA test to assess differences between groups:\n",
    "stat, p = f_oneway(*groups_data)\n",
    "print(\"One-way ANOVA Test:\")\n",
    "print(f\"F-statistic: {stat}, P-value: {p}\")"
   ]
  },
  {
   "cell_type": "markdown",
   "metadata": {},
   "source": [
    "The calculated p-value is less than 0.05, indicating that the amount of data used by different users explains some of the variability. Consequently, this variable should be included in the model."
   ]
  },
  {
   "cell_type": "markdown",
   "metadata": {},
   "source": [
    "### - Analysis of information explaind by categorical variables:\n",
    "\n",
    "To determine the key variables, I use the following function: "
   ]
  },
  {
   "cell_type": "code",
   "execution_count": 48,
   "metadata": {},
   "outputs": [],
   "source": [
    "def mutual_info_categorical(series):\n",
    "    return mutual_info_score(series, users.user_behavior_class)"
   ]
  },
  {
   "cell_type": "markdown",
   "metadata": {},
   "source": [
    "Then, applying the function above I got: "
   ]
  },
  {
   "cell_type": "code",
   "execution_count": 49,
   "metadata": {},
   "outputs": [
    {
     "data": {
      "text/plain": [
       "user_id                1.609041\n",
       "user_behavior_class    1.609041\n",
       "age                    0.118253\n",
       "device_model           0.006736\n",
       "gender                 0.005002\n",
       "operating_system       0.001797\n",
       "dtype: float64"
      ]
     },
     "execution_count": 49,
     "metadata": {},
     "output_type": "execute_result"
    }
   ],
   "source": [
    "mi = users[categorical].apply(mutual_info_categorical)\n",
    "mi.sort_values(ascending=False)"
   ]
  },
  {
   "cell_type": "markdown",
   "metadata": {},
   "source": [
    "From this, it becomes clear that these variables are not significant for our future elaborated model."
   ]
  },
  {
   "cell_type": "markdown",
   "metadata": {},
   "source": [
    "### - Analysis of correlated variables:"
   ]
  },
  {
   "cell_type": "code",
   "execution_count": 50,
   "metadata": {},
   "outputs": [
    {
     "data": {
      "text/plain": [
       "app_usage_time_(min/day)    0.970498\n",
       "screen_on_time_(min/day)    0.964581\n",
       "battery_drain_(mah/day)     0.978587\n",
       "number_of_apps_installed    0.981255\n",
       "data_usage_(mb/day)         0.946734\n",
       "dtype: float64"
      ]
     },
     "execution_count": 50,
     "metadata": {},
     "output_type": "execute_result"
    }
   ],
   "source": [
    "users[numerical].corrwith(users.user_behavior_class)"
   ]
  },
  {
   "cell_type": "markdown",
   "metadata": {},
   "source": [
    "From the results above, it is evident that all numerical variables in our dataset are positively correlated with the target variable (user_behavior_class). This indicates that higher user categories require more resources from their phones."
   ]
  },
  {
   "cell_type": "markdown",
   "metadata": {},
   "source": [
    "Based on the analysis developed, the variables useful for our purpose of classifying users are:"
   ]
  },
  {
   "cell_type": "code",
   "execution_count": 51,
   "metadata": {},
   "outputs": [],
   "source": [
    "# The significant variables identifyed were:\n",
    "significant_var = ['app_usage_time_(min/day)', 'battery_drain_(mah/day)', 'number_of_apps_installed','data_usage_(mb/day)', \n",
    "                    'screen_on_time_(min/day)', 'user_behavior_class']\n",
    "\n",
    "# The not significant variables identifyed were:\n",
    "not_significant_var = ['device_model', 'gender', 'operating_system', 'age']"
   ]
  },
  {
   "cell_type": "markdown",
   "metadata": {},
   "source": [
    "## Step 4: Model identification\n",
    "The cleaned dataset is filtered to include the significant variables identified above."
   ]
  },
  {
   "cell_type": "code",
   "execution_count": 52,
   "metadata": {},
   "outputs": [
    {
     "data": {
      "text/html": [
       "<div>\n",
       "<style scoped>\n",
       "    .dataframe tbody tr th:only-of-type {\n",
       "        vertical-align: middle;\n",
       "    }\n",
       "\n",
       "    .dataframe tbody tr th {\n",
       "        vertical-align: top;\n",
       "    }\n",
       "\n",
       "    .dataframe thead th {\n",
       "        text-align: right;\n",
       "    }\n",
       "</style>\n",
       "<table border=\"1\" class=\"dataframe\">\n",
       "  <thead>\n",
       "    <tr style=\"text-align: right;\">\n",
       "      <th></th>\n",
       "      <th>app_usage_time_(min/day)</th>\n",
       "      <th>battery_drain_(mah/day)</th>\n",
       "      <th>number_of_apps_installed</th>\n",
       "      <th>data_usage_(mb/day)</th>\n",
       "      <th>screen_on_time_(min/day)</th>\n",
       "      <th>user_behavior_class</th>\n",
       "    </tr>\n",
       "  </thead>\n",
       "  <tbody>\n",
       "    <tr>\n",
       "      <th>0</th>\n",
       "      <td>393</td>\n",
       "      <td>1872</td>\n",
       "      <td>67</td>\n",
       "      <td>1122</td>\n",
       "      <td>384.0</td>\n",
       "      <td>4</td>\n",
       "    </tr>\n",
       "    <tr>\n",
       "      <th>1</th>\n",
       "      <td>268</td>\n",
       "      <td>1331</td>\n",
       "      <td>42</td>\n",
       "      <td>944</td>\n",
       "      <td>282.0</td>\n",
       "      <td>3</td>\n",
       "    </tr>\n",
       "    <tr>\n",
       "      <th>2</th>\n",
       "      <td>154</td>\n",
       "      <td>761</td>\n",
       "      <td>32</td>\n",
       "      <td>322</td>\n",
       "      <td>240.0</td>\n",
       "      <td>2</td>\n",
       "    </tr>\n",
       "    <tr>\n",
       "      <th>3</th>\n",
       "      <td>239</td>\n",
       "      <td>1676</td>\n",
       "      <td>56</td>\n",
       "      <td>871</td>\n",
       "      <td>288.0</td>\n",
       "      <td>3</td>\n",
       "    </tr>\n",
       "    <tr>\n",
       "      <th>4</th>\n",
       "      <td>187</td>\n",
       "      <td>1367</td>\n",
       "      <td>58</td>\n",
       "      <td>988</td>\n",
       "      <td>258.0</td>\n",
       "      <td>3</td>\n",
       "    </tr>\n",
       "  </tbody>\n",
       "</table>\n",
       "</div>"
      ],
      "text/plain": [
       "   app_usage_time_(min/day)  battery_drain_(mah/day)  \\\n",
       "0                       393                     1872   \n",
       "1                       268                     1331   \n",
       "2                       154                      761   \n",
       "3                       239                     1676   \n",
       "4                       187                     1367   \n",
       "\n",
       "   number_of_apps_installed  data_usage_(mb/day)  screen_on_time_(min/day)  \\\n",
       "0                        67                 1122                     384.0   \n",
       "1                        42                  944                     282.0   \n",
       "2                        32                  322                     240.0   \n",
       "3                        56                  871                     288.0   \n",
       "4                        58                  988                     258.0   \n",
       "\n",
       "  user_behavior_class  \n",
       "0                   4  \n",
       "1                   3  \n",
       "2                   2  \n",
       "3                   3  \n",
       "4                   3  "
      ]
     },
     "execution_count": 52,
     "metadata": {},
     "output_type": "execute_result"
    }
   ],
   "source": [
    "users_cleaned = users[significant_var]\n",
    "users_cleaned.reset_index\n",
    "users_cleaned.head()"
   ]
  },
  {
   "cell_type": "code",
   "execution_count": 53,
   "metadata": {},
   "outputs": [
    {
     "data": {
      "text/plain": [
       "{'user_id': 4,\n",
       " 'device_model': 'Google Pixel 5',\n",
       " 'operating_system': 'Android',\n",
       " 'app_usage_time_(min/day)': 239,\n",
       " 'screen_on_time_(hours/day)': 4.8,\n",
       " 'battery_drain_(mah/day)': 1676,\n",
       " 'number_of_apps_installed': 56,\n",
       " 'data_usage_(mb/day)': 871,\n",
       " 'age': 20,\n",
       " 'gender': 'Male',\n",
       " 'user_behavior_class': 3,\n",
       " 'screen_on_time_(min/day)': 288.0}"
      ]
     },
     "execution_count": 53,
     "metadata": {},
     "output_type": "execute_result"
    }
   ],
   "source": [
    "# The data is transformed to dictionaries as this example:\n",
    "users_dict = users.to_dict(orient='records')\n",
    "users_dict = users_dict[3]\n",
    "users_dict"
   ]
  },
  {
   "cell_type": "markdown",
   "metadata": {},
   "source": [
    "Working dataset is prepared and splitted as follows:"
   ]
  },
  {
   "cell_type": "code",
   "execution_count": 54,
   "metadata": {},
   "outputs": [],
   "source": [
    "# Preparation dataset\n",
    "X = users_cleaned.drop('user_behavior_class', axis=1)\n",
    "y = users_cleaned['user_behavior_class']\n",
    "\n",
    "# Convert target to categorical codes so scikit-learn classification models can work properly\n",
    "y = y.astype('category').cat.codes\n",
    "\n",
    "# Turning the dataframes into dictionaries:\n",
    "X_dic = X.to_dict(orient='records')"
   ]
  },
  {
   "cell_type": "code",
   "execution_count": 55,
   "metadata": {},
   "outputs": [],
   "source": [
    "# Instanciating the vectorizer for the dictionary:\n",
    "dv = DictVectorizer(sparse=False)\n",
    "\n",
    "# Applying the vectorizer:\n",
    "X_encoded = dv.fit_transform(X_dic)"
   ]
  },
  {
   "cell_type": "code",
   "execution_count": 56,
   "metadata": {},
   "outputs": [
    {
     "name": "stdout",
     "output_type": "stream",
     "text": [
      "The column names are: ['app_usage_time_(min/day)' 'battery_drain_(mah/day)'\n",
      " 'data_usage_(mb/day)' 'number_of_apps_installed'\n",
      " 'screen_on_time_(min/day)']\n",
      "\n",
      " The first element of the transformed dataset is: \n"
     ]
    },
    {
     "data": {
      "text/plain": [
       "array([ 393., 1872., 1122.,   67.,  384.])"
      ]
     },
     "execution_count": 56,
     "metadata": {},
     "output_type": "execute_result"
    }
   ],
   "source": [
    "# The vectorized rows are transformed to the form of:\n",
    "print(f'The column names are: {dv.get_feature_names_out()}')\n",
    "print('\\n The first element of the transformed dataset is: ')\n",
    "X_encoded[0]"
   ]
  },
  {
   "cell_type": "markdown",
   "metadata": {},
   "source": [
    "Then, dataset is splitted as follows: 60% for training, 20% for validation, and 20% for testing."
   ]
  },
  {
   "cell_type": "code",
   "execution_count": 57,
   "metadata": {},
   "outputs": [
    {
     "name": "stdout",
     "output_type": "stream",
     "text": [
      "The number of registries in the train dataset is 420, in the validation dataset is 140, and in the test dataset is 140.\n"
     ]
    }
   ],
   "source": [
    "# We first split for testing\n",
    "X_full_train, X_test, y_full_train, y_test = train_test_split(X_encoded, y, test_size=0.2, random_state=2)\n",
    "\n",
    "# Then we split again for validation\n",
    "X_train, X_val, y_train, y_val = train_test_split(X_full_train, y_full_train, test_size=0.25, random_state=2)\n",
    "\n",
    "# The lenght of the datasets can be validated as:\n",
    "print(f'The number of registries in the train dataset is {len(X_train)}, in the validation dataset is {len(X_val)}, and in the test dataset is {len(X_test)}.')"
   ]
  },
  {
   "cell_type": "markdown",
   "metadata": {},
   "source": [
    "### - Let's try some models:\n",
    "\n",
    "__1. Decision Tree Model:__"
   ]
  },
  {
   "cell_type": "code",
   "execution_count": 58,
   "metadata": {},
   "outputs": [
    {
     "name": "stdout",
     "output_type": "stream",
     "text": [
      "Decision Tree Metrics:\n",
      "Accuracy: 0.5785714285714286\n"
     ]
    }
   ],
   "source": [
    "# The model is trained as  follows:\n",
    "decision_tree = DecisionTreeClassifier(max_depth=2)\n",
    "\n",
    "# The trained model is used to predict the values in the test dataset:\n",
    "decision_tree.fit(X_train, y_train)\n",
    "y_pred_val = decision_tree.predict(X_val)\n",
    "\n",
    "# The indicator chosen for assessing the validity of the model is Accuracy:\n",
    "print(\"Decision Tree Metrics:\")\n",
    "print(\"Accuracy:\", accuracy_score(y_val, y_pred_val))\n"
   ]
  },
  {
   "cell_type": "code",
   "execution_count": 59,
   "metadata": {},
   "outputs": [
    {
     "data": {
      "text/plain": [
       "{'ccp_alpha': 0.0,\n",
       " 'class_weight': None,\n",
       " 'criterion': 'gini',\n",
       " 'max_depth': 2,\n",
       " 'max_features': None,\n",
       " 'max_leaf_nodes': None,\n",
       " 'min_impurity_decrease': 0.0,\n",
       " 'min_samples_leaf': 1,\n",
       " 'min_samples_split': 2,\n",
       " 'min_weight_fraction_leaf': 0.0,\n",
       " 'monotonic_cst': None,\n",
       " 'random_state': None,\n",
       " 'splitter': 'best'}"
      ]
     },
     "execution_count": 59,
     "metadata": {},
     "output_type": "execute_result"
    }
   ],
   "source": [
    "# The parameters of the trained model are:\n",
    "decision_tree.get_params()"
   ]
  },
  {
   "cell_type": "code",
   "execution_count": 60,
   "metadata": {},
   "outputs": [],
   "source": [
    "# Tunning the hyperparameters is crucial. In this case, I'll define the followings:\n",
    "param_grid = {    \n",
    "    'max_depth': [None, 3, 5, 10, 20, 30],              # Maximum depth of each tree\n",
    "    'min_samples_split': [2, 5, 10],                    # Minimum samples required to split\n",
    "    'min_samples_leaf': [1, 2, 4],                      # Minimum samples in a leaf\n",
    "    'max_features': [None, 'sqrt', 'log2']              # Features to consider at each split\n",
    "}"
   ]
  },
  {
   "cell_type": "code",
   "execution_count": 61,
   "metadata": {},
   "outputs": [
    {
     "name": "stdout",
     "output_type": "stream",
     "text": [
      "Fitting 3 folds for each of 162 candidates, totalling 486 fits\n",
      "Best parameters for my Decision Tree model are: {'max_depth': None, 'max_features': None, 'min_samples_leaf': 1, 'min_samples_split': 2}\n"
     ]
    }
   ],
   "source": [
    "# I'll use GridSearchCV for exhaustive tuning and preventing overfitting.\n",
    "grid_search = GridSearchCV(estimator=decision_tree, param_grid=param_grid, \n",
    "                           scoring='accuracy', cv=3, verbose=2, n_jobs=-1, \n",
    "                           error_score='raise')\n",
    "\n",
    "grid_search.fit(X_train, y_train)\n",
    "\n",
    "print(\"Best parameters for my Decision Tree model are:\", grid_search.best_params_)\n",
    "best_dt_model = grid_search.best_estimator_"
   ]
  },
  {
   "cell_type": "code",
   "execution_count": 62,
   "metadata": {},
   "outputs": [],
   "source": [
    "# Generate predictions with the best model \n",
    "y_pred_val_opt = best_dt_model.predict(X_val)\n",
    "\n",
    "# Create a confusion matrix \n",
    "cm_dt = confusion_matrix(y_val, y_pred_val_opt)"
   ]
  },
  {
   "cell_type": "code",
   "execution_count": 63,
   "metadata": {},
   "outputs": [
    {
     "data": {
      "image/png": "[encoded data removed]",
      "text/plain": [
       "<Figure size 640x480 with 2 Axes>"
      ]
     },
     "metadata": {},
     "output_type": "display_data"
    }
   ],
   "source": [
    "# Display the confusion matrix created\n",
    "disp = ConfusionMatrixDisplay(confusion_matrix=cm_dt, display_labels=best_dt_model.classes_).plot()\n",
    "plt.title('Confusion Matrix for the optimzed Decision Tree Model')\n",
    "plt.show()"
   ]
  },
  {
   "cell_type": "code",
   "execution_count": 64,
   "metadata": {},
   "outputs": [
    {
     "name": "stdout",
     "output_type": "stream",
     "text": [
      "              precision    recall  f1-score   support\n",
      "\n",
      "           1       1.00      1.00      1.00        32\n",
      "           2       1.00      1.00      1.00        34\n",
      "           3       1.00      1.00      1.00        17\n",
      "           4       1.00      1.00      1.00        26\n",
      "           5       1.00      1.00      1.00        31\n",
      "\n",
      "    accuracy                           1.00       140\n",
      "   macro avg       1.00      1.00      1.00       140\n",
      "weighted avg       1.00      1.00      1.00       140\n",
      "\n"
     ]
    }
   ],
   "source": [
    "# The classification_report provides a comprehensive overview of classification performance across \n",
    "# multiple metrics (precision, recall, f1-score) for each class in the model\n",
    "dt_report = classification_report(y_val, y_pred_val_opt, target_names=['1', '2', '3', '4', '5'])\n",
    "print(dt_report)"
   ]
  },
  {
   "cell_type": "markdown",
   "metadata": {},
   "source": [
    "__2. Random Forest Model:__"
   ]
  },
  {
   "cell_type": "code",
   "execution_count": 65,
   "metadata": {},
   "outputs": [
    {
     "name": "stdout",
     "output_type": "stream",
     "text": [
      "Random Forest Metrics:\n",
      "Accuracy: 1.0\n"
     ]
    }
   ],
   "source": [
    "# The model is trained as follows:\n",
    "random_forest = RandomForestClassifier(max_depth=2, random_state=2)\n",
    "\n",
    "# The trained model is used to predict the values in the test dataset:\n",
    "random_forest.fit(X_train, y_train)\n",
    "y_pred_val = random_forest.predict(X_val)\n",
    "\n",
    "# The indicator chosen for assessing the validity of the model is Accuracy:\n",
    "print(\"Random Forest Metrics:\")\n",
    "print(\"Accuracy:\", accuracy_score(y_val, y_pred_val))"
   ]
  },
  {
   "cell_type": "code",
   "execution_count": 66,
   "metadata": {},
   "outputs": [
    {
     "data": {
      "text/plain": [
       "{'bootstrap': True,\n",
       " 'ccp_alpha': 0.0,\n",
       " 'class_weight': None,\n",
       " 'criterion': 'gini',\n",
       " 'max_depth': 2,\n",
       " 'max_features': 'sqrt',\n",
       " 'max_leaf_nodes': None,\n",
       " 'max_samples': None,\n",
       " 'min_impurity_decrease': 0.0,\n",
       " 'min_samples_leaf': 1,\n",
       " 'min_samples_split': 2,\n",
       " 'min_weight_fraction_leaf': 0.0,\n",
       " 'monotonic_cst': None,\n",
       " 'n_estimators': 100,\n",
       " 'n_jobs': None,\n",
       " 'oob_score': False,\n",
       " 'random_state': 2,\n",
       " 'verbose': 0,\n",
       " 'warm_start': False}"
      ]
     },
     "execution_count": 66,
     "metadata": {},
     "output_type": "execute_result"
    }
   ],
   "source": [
    "# The parameters of the trained model are:\n",
    "random_forest.get_params()"
   ]
  },
  {
   "cell_type": "code",
   "execution_count": 67,
   "metadata": {},
   "outputs": [],
   "source": [
    "# Tunning the hyperparameters is crucial. In this case, I'll define the followings:\n",
    "param_grid = {\n",
    "    'n_estimators': [20, 50, 100, 200, 300],    # Number of trees\n",
    "    'max_depth': [None, 10, 20, 30],            # Maximum depth of each tree\n",
    "    'min_samples_split': [2, 5, 10],            # Minimum samples required to split\n",
    "    'min_samples_leaf': [1, 2, 4],              # Minimum samples in a leaf\n",
    "    'max_features': [1.0, 'sqrt', 'log2'],      # Features to consider at each split\n",
    "    'bootstrap': [True, False],                 # Whether to use bootstrap samples\n",
    "}"
   ]
  },
  {
   "cell_type": "code",
   "execution_count": 68,
   "metadata": {},
   "outputs": [
    {
     "name": "stdout",
     "output_type": "stream",
     "text": [
      "Fitting 3 folds for each of 1080 candidates, totalling 3240 fits\n",
      "Best parameters for our Random forest model are: {'bootstrap': True, 'max_depth': None, 'max_features': 1.0, 'min_samples_leaf': 1, 'min_samples_split': 2, 'n_estimators': 20}\n"
     ]
    }
   ],
   "source": [
    "# I'll use GridSearchCV for exhaustive tuning and preventing overfitting.\n",
    "grid_search = GridSearchCV(estimator=random_forest, param_grid=param_grid, \n",
    "                           scoring='accuracy', cv=3, verbose=2, n_jobs=-1, \n",
    "                           error_score='raise')\n",
    "grid_search.fit(X_train, y_train)\n",
    "\n",
    "print(\"Best parameters for our Random forest model are:\", grid_search.best_params_)\n",
    "best_rf_model = grid_search.best_estimator_"
   ]
  },
  {
   "cell_type": "code",
   "execution_count": 69,
   "metadata": {},
   "outputs": [],
   "source": [
    "# Generate predictions with the best model \n",
    "y_pred_val_opt = best_rf_model.predict(X_val)\n",
    "\n",
    "# Create a confusion matrix \n",
    "cm_rf = confusion_matrix(y_val, y_pred_val_opt)"
   ]
  },
  {
   "cell_type": "code",
   "execution_count": 70,
   "metadata": {},
   "outputs": [
    {
     "data": {
      "image/png": "[encoded data removed]",
      "text/plain": [
       "<Figure size 640x480 with 2 Axes>"
      ]
     },
     "metadata": {},
     "output_type": "display_data"
    }
   ],
   "source": [
    "# Display the confusion matrix created\n",
    "disp = ConfusionMatrixDisplay(confusion_matrix=cm_rf, display_labels=best_rf_model.classes_).plot()\n",
    "plt.title('Confusion Matrix for the optimzed Random Forest Model')\n",
    "plt.show()"
   ]
  },
  {
   "cell_type": "code",
   "execution_count": 71,
   "metadata": {},
   "outputs": [
    {
     "name": "stdout",
     "output_type": "stream",
     "text": [
      "              precision    recall  f1-score   support\n",
      "\n",
      "           1       1.00      1.00      1.00        32\n",
      "           2       1.00      1.00      1.00        34\n",
      "           3       1.00      1.00      1.00        17\n",
      "           4       1.00      1.00      1.00        26\n",
      "           5       1.00      1.00      1.00        31\n",
      "\n",
      "    accuracy                           1.00       140\n",
      "   macro avg       1.00      1.00      1.00       140\n",
      "weighted avg       1.00      1.00      1.00       140\n",
      "\n"
     ]
    }
   ],
   "source": [
    "# The classification_report provides a comprehensive overview of classification performance across \n",
    "# multiple metrics (precision, recall, f1-score) for each class in the model\n",
    "rf_report = classification_report(y_val, y_pred_val_opt, target_names=['1', '2', '3', '4', '5'])\n",
    "print(rf_report)"
   ]
  },
  {
   "cell_type": "markdown",
   "metadata": {},
   "source": [
    "__3. Gradient Boosted Trees (GBT) Model:__"
   ]
  },
  {
   "cell_type": "code",
   "execution_count": 72,
   "metadata": {},
   "outputs": [
    {
     "name": "stdout",
     "output_type": "stream",
     "text": [
      "Gradient Boosted Trees (GBT) Metrics:\n",
      "Accuracy: 1.0\n"
     ]
    }
   ],
   "source": [
    "# The model is trained as follows:\n",
    "gbt = GradientBoostingClassifier(n_estimators=100, learning_rate=0.1, max_depth=1, random_state=2)\n",
    "\n",
    "# The trained model is used to predict the values in the test dataset:\n",
    "gbt.fit(X_train, y_train)\n",
    "y_pred_val = gbt.predict(X_val)\n",
    "\n",
    "# The indicator chosen for assessing the validity of the model is Accuracy:\n",
    "print(\"Gradient Boosted Trees (GBT) Metrics:\")\n",
    "print(\"Accuracy:\", accuracy_score(y_val, y_pred_val))"
   ]
  },
  {
   "cell_type": "code",
   "execution_count": 73,
   "metadata": {},
   "outputs": [
    {
     "data": {
      "text/plain": [
       "{'ccp_alpha': 0.0,\n",
       " 'criterion': 'friedman_mse',\n",
       " 'init': None,\n",
       " 'learning_rate': 0.1,\n",
       " 'loss': 'log_loss',\n",
       " 'max_depth': 1,\n",
       " 'max_features': None,\n",
       " 'max_leaf_nodes': None,\n",
       " 'min_impurity_decrease': 0.0,\n",
       " 'min_samples_leaf': 1,\n",
       " 'min_samples_split': 2,\n",
       " 'min_weight_fraction_leaf': 0.0,\n",
       " 'n_estimators': 100,\n",
       " 'n_iter_no_change': None,\n",
       " 'random_state': 2,\n",
       " 'subsample': 1.0,\n",
       " 'tol': 0.0001,\n",
       " 'validation_fraction': 0.1,\n",
       " 'verbose': 0,\n",
       " 'warm_start': False}"
      ]
     },
     "execution_count": 73,
     "metadata": {},
     "output_type": "execute_result"
    }
   ],
   "source": [
    "gbt.get_params()"
   ]
  },
  {
   "cell_type": "code",
   "execution_count": 74,
   "metadata": {},
   "outputs": [],
   "source": [
    "# Tunning the hyperparameters is crucial. In this case, I'll define the followings:\n",
    "param_grid = {\n",
    "    'n_estimators': [100, 200, 300],\n",
    "    'learning_rate': [0.01, 0.1, 0.2],\n",
    "    'max_depth': [3, 5, 7],\n",
    "    'min_samples_split': [2, 5, 10],\n",
    "    'min_samples_leaf': [1, 2, 4]\n",
    "}"
   ]
  },
  {
   "cell_type": "code",
   "execution_count": 75,
   "metadata": {},
   "outputs": [
    {
     "name": "stdout",
     "output_type": "stream",
     "text": [
      "Fitting 3 folds for each of 243 candidates, totalling 729 fits\n",
      "Best parameters for our Random forest model are: {'learning_rate': 0.01, 'max_depth': 3, 'min_samples_leaf': 1, 'min_samples_split': 2, 'n_estimators': 100}\n"
     ]
    }
   ],
   "source": [
    "# I'll use GridSearchCV for exhaustive tuning and preventing overfitting.\n",
    "grid_search = GridSearchCV(estimator=gbt, param_grid=param_grid, \n",
    "                           scoring='accuracy', cv=3, verbose=2, n_jobs=-1, \n",
    "                           error_score='raise')\n",
    "grid_search.fit(X_train, y_train)\n",
    "\n",
    "print(\"Best parameters for our Random forest model are:\", grid_search.best_params_)\n",
    "best_gbt_model = grid_search.best_estimator_"
   ]
  },
  {
   "cell_type": "code",
   "execution_count": 76,
   "metadata": {},
   "outputs": [],
   "source": [
    "# Generate predictions with the best model \n",
    "y_pred_val_opt = best_gbt_model.predict(X_val)\n",
    "\n",
    "# Create a confusion matrix \n",
    "cm_gbt = confusion_matrix(y_val, y_pred_val_opt)"
   ]
  },
  {
   "cell_type": "code",
   "execution_count": 77,
   "metadata": {},
   "outputs": [
    {
     "data": {
      "image/png": "[encoded data removed]",
      "text/plain": [
       "<Figure size 640x480 with 2 Axes>"
      ]
     },
     "metadata": {},
     "output_type": "display_data"
    }
   ],
   "source": [
    "# Display the confusion matrix created\n",
    "disp = ConfusionMatrixDisplay(confusion_matrix=cm_gbt, display_labels=best_gbt_model.classes_).plot()\n",
    "plt.title('Confusion Matrix for the optimzed GBT Model')\n",
    "plt.show()"
   ]
  },
  {
   "cell_type": "code",
   "execution_count": 78,
   "metadata": {},
   "outputs": [
    {
     "name": "stdout",
     "output_type": "stream",
     "text": [
      "              precision    recall  f1-score   support\n",
      "\n",
      "           1       1.00      1.00      1.00        32\n",
      "           2       1.00      1.00      1.00        34\n",
      "           3       1.00      1.00      1.00        17\n",
      "           4       1.00      1.00      1.00        26\n",
      "           5       1.00      1.00      1.00        31\n",
      "\n",
      "    accuracy                           1.00       140\n",
      "   macro avg       1.00      1.00      1.00       140\n",
      "weighted avg       1.00      1.00      1.00       140\n",
      "\n"
     ]
    }
   ],
   "source": [
    "# The classification_report provides a comprehensive overview of classification performance across \n",
    "# multiple metrics (precision, recall, f1-score) for each class in the model\n",
    "gbt_report = classification_report(y_val, y_pred_val_opt, target_names=['1', '2', '3', '4', '5'])\n",
    "print(gbt_report)"
   ]
  },
  {
   "cell_type": "markdown",
   "metadata": {},
   "source": [
    "__4. Support Vector Classifier Model:__"
   ]
  },
  {
   "cell_type": "markdown",
   "metadata": {},
   "source": [
    "SVM relies on distance and kernel computations, that's why SMV is highly sensitive to feature magnitudes."
   ]
  },
  {
   "cell_type": "code",
   "execution_count": 79,
   "metadata": {},
   "outputs": [],
   "source": [
    "# Standardize features for this model\n",
    "scaler = StandardScaler()\n",
    "X_train_scaled = scaler.fit_transform(X_train)\n",
    "X_val_scaled = scaler.fit_transform(X_val)"
   ]
  },
  {
   "cell_type": "code",
   "execution_count": 80,
   "metadata": {},
   "outputs": [
    {
     "name": "stdout",
     "output_type": "stream",
     "text": [
      "Support Vector Machine (SVM) Metrics:\n",
      "Accuracy: 0.9642857142857143\n"
     ]
    }
   ],
   "source": [
    "# The model is trained as follows:\n",
    "svm_class = SVC(kernel='rbf', gamma='auto', C=1.0, random_state=2)\n",
    "\n",
    "# The trained model is used to predict the values in the test dataset:\n",
    "svm_class.fit(X_train_scaled, y_train)\n",
    "y_pred_val = svm_class.predict(X_val_scaled)\n",
    "\n",
    "# The indicator chosen for assessing the validity of the model is Accuracy:\n",
    "print(\"Support Vector Machine (SVM) Metrics:\")\n",
    "print(\"Accuracy:\", accuracy_score(y_val, y_pred_val))"
   ]
  },
  {
   "cell_type": "code",
   "execution_count": 81,
   "metadata": {},
   "outputs": [
    {
     "data": {
      "text/plain": [
       "{'C': 1.0,\n",
       " 'break_ties': False,\n",
       " 'cache_size': 200,\n",
       " 'class_weight': None,\n",
       " 'coef0': 0.0,\n",
       " 'decision_function_shape': 'ovr',\n",
       " 'degree': 3,\n",
       " 'gamma': 'auto',\n",
       " 'kernel': 'rbf',\n",
       " 'max_iter': -1,\n",
       " 'probability': False,\n",
       " 'random_state': 2,\n",
       " 'shrinking': True,\n",
       " 'tol': 0.001,\n",
       " 'verbose': False}"
      ]
     },
     "execution_count": 81,
     "metadata": {},
     "output_type": "execute_result"
    }
   ],
   "source": [
    "# The parameters of the SVM are:\n",
    "svm_class.get_params()"
   ]
  },
  {
   "cell_type": "code",
   "execution_count": 82,
   "metadata": {},
   "outputs": [],
   "source": [
    "# Tunning the hyperparameters is crucial. In this case, I'll define the followings:\n",
    "param_grid = {\n",
    "    'C': [0.01, 0.1, 1, 10],\n",
    "    'kernel': ['linear', 'rbf', 'poly'],\n",
    "    'gamma': ['scale', 'auto']\n",
    "}"
   ]
  },
  {
   "cell_type": "code",
   "execution_count": 83,
   "metadata": {},
   "outputs": [
    {
     "name": "stdout",
     "output_type": "stream",
     "text": [
      "Fitting 3 folds for each of 24 candidates, totalling 72 fits\n",
      "Best parameters for our Support Vector Machime (SVM) model are: {'C': 0.1, 'gamma': 'scale', 'kernel': 'linear'}\n"
     ]
    }
   ],
   "source": [
    "# I'll use GridSearchCV for exhaustive tuning and preventing overfitting.\n",
    "grid_search = GridSearchCV(estimator=svm_class, param_grid=param_grid, \n",
    "                           scoring='accuracy', cv=3, verbose=2, n_jobs=-1, \n",
    "                           error_score='raise')\n",
    "grid_search.fit(X_train_scaled, y_train)\n",
    "\n",
    "print(\"Best parameters for our Support Vector Machime (SVM) model are:\", grid_search.best_params_)\n",
    "best_svm_model = grid_search.best_estimator_"
   ]
  },
  {
   "cell_type": "code",
   "execution_count": 84,
   "metadata": {},
   "outputs": [],
   "source": [
    "# Generate predictions with the best model \n",
    "y_pred_val_opt = best_svm_model.predict(X_val_scaled)\n",
    "\n",
    "# Create a confusion matrix \n",
    "cm_svm = confusion_matrix(y_val, y_pred_val_opt)"
   ]
  },
  {
   "cell_type": "code",
   "execution_count": 85,
   "metadata": {},
   "outputs": [
    {
     "data": {
      "image/png": "[encoded data removed]",
      "text/plain": [
       "<Figure size 640x480 with 2 Axes>"
      ]
     },
     "metadata": {},
     "output_type": "display_data"
    }
   ],
   "source": [
    "# Display the confusion matrix created\n",
    "disp = ConfusionMatrixDisplay(confusion_matrix=cm_svm, display_labels=best_svm_model.classes_).plot()\n",
    "plt.title('Confusion Matrix for the optimzed SVM Model')\n",
    "plt.show()"
   ]
  },
  {
   "cell_type": "code",
   "execution_count": 86,
   "metadata": {},
   "outputs": [
    {
     "name": "stdout",
     "output_type": "stream",
     "text": [
      "              precision    recall  f1-score   support\n",
      "\n",
      "           1       1.00      0.88      0.93        32\n",
      "           2       0.89      1.00      0.94        34\n",
      "           3       1.00      1.00      1.00        17\n",
      "           4       1.00      1.00      1.00        26\n",
      "           5       1.00      1.00      1.00        31\n",
      "\n",
      "    accuracy                           0.97       140\n",
      "   macro avg       0.98      0.97      0.98       140\n",
      "weighted avg       0.97      0.97      0.97       140\n",
      "\n"
     ]
    }
   ],
   "source": [
    "# The classification_report provides a comprehensive overview of classification performance across \n",
    "# multiple metrics (precision, recall, f1-score) for each class in the model\n",
    "svm_report = classification_report(y_val, y_pred_val_opt, target_names=['1', '2', '3', '4', '5'])\n",
    "print(svm_report)"
   ]
  },
  {
   "cell_type": "markdown",
   "metadata": {},
   "source": [
    "__To summarize, the chosen models produce the following Accuracy, Precision and Recall scores when applied to the test dataset:__"
   ]
  },
  {
   "cell_type": "code",
   "execution_count": 90,
   "metadata": {},
   "outputs": [],
   "source": [
    "# The list of models evaluated are:\n",
    "listed_models = { \n",
    "                 \"Raw Decision Tree\": decision_tree, \n",
    "                 \"Optimized Decision Tree\": best_dt_model, \n",
    "                  \"Raw Random forest\": random_forest,\n",
    "                  \"Optimized Random Forest\": best_rf_model,\n",
    "                  \"Raw Gradient Boosted trees\": gbt, \n",
    "                  \"Optimized GBT\": best_gbt_model,\n",
    "                  \"Raw SVM Classifier\": svm_class, \n",
    "                  \"Optimized SVM Classifier\": best_svm_model,\n",
    "                }"
   ]
  },
  {
   "cell_type": "code",
   "execution_count": 91,
   "metadata": {},
   "outputs": [
    {
     "name": "stderr",
     "output_type": "stream",
     "text": [
      "c:\\Users\\jober\\anaconda3\\Lib\\site-packages\\sklearn\\metrics\\_classification.py:1531: UndefinedMetricWarning: Precision is ill-defined and being set to 0.0 in labels with no predicted samples. Use `zero_division` parameter to control this behavior.\n",
      "  _warn_prf(average, modifier, f\"{metric.capitalize()} is\", len(result))\n"
     ]
    },
    {
     "data": {
      "text/html": [
       "<div>\n",
       "<style scoped>\n",
       "    .dataframe tbody tr th:only-of-type {\n",
       "        vertical-align: middle;\n",
       "    }\n",
       "\n",
       "    .dataframe tbody tr th {\n",
       "        vertical-align: top;\n",
       "    }\n",
       "\n",
       "    .dataframe thead th {\n",
       "        text-align: right;\n",
       "    }\n",
       "</style>\n",
       "<table border=\"1\" class=\"dataframe\">\n",
       "  <thead>\n",
       "    <tr style=\"text-align: right;\">\n",
       "      <th></th>\n",
       "      <th>Model</th>\n",
       "      <th>Accuracy</th>\n",
       "      <th>Precision</th>\n",
       "      <th>Recall</th>\n",
       "    </tr>\n",
       "  </thead>\n",
       "  <tbody>\n",
       "    <tr>\n",
       "      <th>0</th>\n",
       "      <td>Raw Decision Tree</td>\n",
       "      <td>0.564286</td>\n",
       "      <td>0.348954</td>\n",
       "      <td>0.564286</td>\n",
       "    </tr>\n",
       "    <tr>\n",
       "      <th>1</th>\n",
       "      <td>Optimized Decision Tree</td>\n",
       "      <td>0.985714</td>\n",
       "      <td>0.986667</td>\n",
       "      <td>0.985714</td>\n",
       "    </tr>\n",
       "    <tr>\n",
       "      <th>2</th>\n",
       "      <td>Raw Random forest</td>\n",
       "      <td>1.000000</td>\n",
       "      <td>1.000000</td>\n",
       "      <td>1.000000</td>\n",
       "    </tr>\n",
       "    <tr>\n",
       "      <th>3</th>\n",
       "      <td>Optimized Random Forest</td>\n",
       "      <td>1.000000</td>\n",
       "      <td>1.000000</td>\n",
       "      <td>1.000000</td>\n",
       "    </tr>\n",
       "    <tr>\n",
       "      <th>4</th>\n",
       "      <td>Raw Gradient Boosted trees</td>\n",
       "      <td>1.000000</td>\n",
       "      <td>1.000000</td>\n",
       "      <td>1.000000</td>\n",
       "    </tr>\n",
       "    <tr>\n",
       "      <th>5</th>\n",
       "      <td>Optimized GBT</td>\n",
       "      <td>1.000000</td>\n",
       "      <td>1.000000</td>\n",
       "      <td>1.000000</td>\n",
       "    </tr>\n",
       "    <tr>\n",
       "      <th>6</th>\n",
       "      <td>Raw SVM Classifier</td>\n",
       "      <td>0.992857</td>\n",
       "      <td>0.993214</td>\n",
       "      <td>0.992857</td>\n",
       "    </tr>\n",
       "    <tr>\n",
       "      <th>7</th>\n",
       "      <td>Optimized SVM Classifier</td>\n",
       "      <td>0.992857</td>\n",
       "      <td>0.993214</td>\n",
       "      <td>0.992857</td>\n",
       "    </tr>\n",
       "  </tbody>\n",
       "</table>\n",
       "</div>"
      ],
      "text/plain": [
       "                        Model  Accuracy  Precision    Recall\n",
       "0           Raw Decision Tree  0.564286   0.348954  0.564286\n",
       "1     Optimized Decision Tree  0.985714   0.986667  0.985714\n",
       "2           Raw Random forest  1.000000   1.000000  1.000000\n",
       "3     Optimized Random Forest  1.000000   1.000000  1.000000\n",
       "4  Raw Gradient Boosted trees  1.000000   1.000000  1.000000\n",
       "5               Optimized GBT  1.000000   1.000000  1.000000\n",
       "6          Raw SVM Classifier  0.992857   0.993214  0.992857\n",
       "7    Optimized SVM Classifier  0.992857   0.993214  0.992857"
      ]
     },
     "execution_count": 91,
     "metadata": {},
     "output_type": "execute_result"
    }
   ],
   "source": [
    "# The evaluation is performed by: \n",
    "result_scores = [] \n",
    "for name, model in listed_models.items():\n",
    "    if 'SVM' in name:\n",
    "        scaler = StandardScaler()\n",
    "        X_test_scaled = scaler.fit_transform(X_test)\n",
    "        y_pred = model.predict(X_test_scaled)\n",
    "    else:\n",
    "        y_pred = model.predict(X_test)\n",
    "    \n",
    "    #Then the calculation of metris is:\n",
    "    accuracy_model = accuracy_score(y_test, y_pred)\n",
    "    precision_model = precision_score(y_test, y_pred, average='weighted')\n",
    "    recall_model = recall_score(y_test, y_pred, average='weighted')\n",
    "    result_scores.append([name, accuracy_model, precision_model, recall_model])\n",
    "\n",
    "scores_summary = pd.DataFrame(result_scores, columns=['Model', 'Accuracy', 'Precision', 'Recall'])\n",
    "\n",
    "# The summary of evaluation metrics is:\n",
    "scores_summary"
   ]
  }
 ],
 "metadata": {
  "kernelspec": {
   "display_name": "base",
   "language": "python",
   "name": "python3"
  },
  "language_info": {
   "codemirror_mode": {
    "name": "ipython",
    "version": 3
   },
   "file_extension": ".py",
   "mimetype": "text/x-python",
   "name": "python",
   "nbconvert_exporter": "python",
   "pygments_lexer": "ipython3",
   "version": "3.12.7"
  }
 },
 "nbformat": 4,
 "nbformat_minor": 2
}
