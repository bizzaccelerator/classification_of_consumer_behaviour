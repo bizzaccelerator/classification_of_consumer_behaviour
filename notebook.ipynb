{
 "cells": [
  {
   "cell_type": "markdown",
   "metadata": {},
   "source": [
    "# Data Exploratory Analysis\n",
    "The following outlines the process I used to understand and analyze the dataset."
   ]
  },
  {
   "cell_type": "code",
   "execution_count": 46,
   "metadata": {},
   "outputs": [],
   "source": [
    "# The first step involves importing the libraries required for the process:\n",
    "import pandas as pd\n",
    "import numpy as np\n",
    "import matplotlib.pyplot as plt\n",
    "import seaborn as sns\n",
    "\n",
    "# The graphics style selected is:\n",
    "sns.reset_orig() \n",
    "plt.style.use('ggplot')\n",
    "\n",
    "# Statistical packages used\n",
    "from scipy.stats import shapiro, levene, chi2_contingency, ttest_ind, mannwhitneyu, f_oneway, kruskal, pearsonr\n",
    "\n",
    "# Model packages used\n",
    "from sklearn.model_selection import train_test_split\n",
    "from sklearn.metrics import accuracy_score, multilabel_confusion_matrix, classification_report\n",
    "from sklearn.feature_extraction import DictVectorizer\n",
    "\n",
    "from sklearn.ensemble import RandomForestRegressor, GradientBoostingRegressor\n",
    "from sklearn import svm\n",
    "from sklearn.model_selection import GridSearchCV\n",
    "\n",
    "# To save the model\n",
    "import pickle"
   ]
  },
  {
   "cell_type": "code",
   "execution_count": 2,
   "metadata": {},
   "outputs": [],
   "source": [
    "# The following allows us to view all the columns of the dataset, regardless of its size:\n",
    "pd.set_option('display.max_columns', None)"
   ]
  },
  {
   "cell_type": "code",
   "execution_count": 3,
   "metadata": {},
   "outputs": [],
   "source": [
    "# Then the dataset is loaded as:\n",
    "users = pd.read_csv(\"C://Users/jober/Data_Projects/classification_of_consumer_behaviour/Dataset/user_behaviour_dataset.csv\", sep=\";\", )"
   ]
  },
  {
   "cell_type": "markdown",
   "metadata": {},
   "source": [
    "## Step 1: Understanding the data\n",
    "This step give us a general sense of the dataset: "
   ]
  },
  {
   "cell_type": "code",
   "execution_count": 4,
   "metadata": {},
   "outputs": [
    {
     "data": {
      "text/plain": [
       "(700, 11)"
      ]
     },
     "execution_count": 4,
     "metadata": {},
     "output_type": "execute_result"
    }
   ],
   "source": [
    "users.shape"
   ]
  },
  {
   "cell_type": "code",
   "execution_count": 5,
   "metadata": {},
   "outputs": [
    {
     "data": {
      "text/html": [
       "<div>\n",
       "<style scoped>\n",
       "    .dataframe tbody tr th:only-of-type {\n",
       "        vertical-align: middle;\n",
       "    }\n",
       "\n",
       "    .dataframe tbody tr th {\n",
       "        vertical-align: top;\n",
       "    }\n",
       "\n",
       "    .dataframe thead th {\n",
       "        text-align: right;\n",
       "    }\n",
       "</style>\n",
       "<table border=\"1\" class=\"dataframe\">\n",
       "  <thead>\n",
       "    <tr style=\"text-align: right;\">\n",
       "      <th></th>\n",
       "      <th>User ID</th>\n",
       "      <th>Device Model</th>\n",
       "      <th>Operating System</th>\n",
       "      <th>App Usage Time (min/day)</th>\n",
       "      <th>Screen On Time (hours/day)</th>\n",
       "      <th>Battery Drain (mAh/day)</th>\n",
       "      <th>Number of Apps Installed</th>\n",
       "      <th>Data Usage (MB/day)</th>\n",
       "      <th>Age</th>\n",
       "      <th>Gender</th>\n",
       "      <th>User Behavior Class</th>\n",
       "    </tr>\n",
       "  </thead>\n",
       "  <tbody>\n",
       "    <tr>\n",
       "      <th>0</th>\n",
       "      <td>1</td>\n",
       "      <td>Google Pixel 5</td>\n",
       "      <td>Android</td>\n",
       "      <td>393</td>\n",
       "      <td>6.4</td>\n",
       "      <td>1872</td>\n",
       "      <td>67</td>\n",
       "      <td>1122</td>\n",
       "      <td>40</td>\n",
       "      <td>Male</td>\n",
       "      <td>4</td>\n",
       "    </tr>\n",
       "    <tr>\n",
       "      <th>1</th>\n",
       "      <td>2</td>\n",
       "      <td>OnePlus 9</td>\n",
       "      <td>Android</td>\n",
       "      <td>268</td>\n",
       "      <td>4.7</td>\n",
       "      <td>1331</td>\n",
       "      <td>42</td>\n",
       "      <td>944</td>\n",
       "      <td>47</td>\n",
       "      <td>Female</td>\n",
       "      <td>3</td>\n",
       "    </tr>\n",
       "    <tr>\n",
       "      <th>2</th>\n",
       "      <td>3</td>\n",
       "      <td>Xiaomi Mi 11</td>\n",
       "      <td>Android</td>\n",
       "      <td>154</td>\n",
       "      <td>4.0</td>\n",
       "      <td>761</td>\n",
       "      <td>32</td>\n",
       "      <td>322</td>\n",
       "      <td>42</td>\n",
       "      <td>Male</td>\n",
       "      <td>2</td>\n",
       "    </tr>\n",
       "    <tr>\n",
       "      <th>3</th>\n",
       "      <td>4</td>\n",
       "      <td>Google Pixel 5</td>\n",
       "      <td>Android</td>\n",
       "      <td>239</td>\n",
       "      <td>4.8</td>\n",
       "      <td>1676</td>\n",
       "      <td>56</td>\n",
       "      <td>871</td>\n",
       "      <td>20</td>\n",
       "      <td>Male</td>\n",
       "      <td>3</td>\n",
       "    </tr>\n",
       "    <tr>\n",
       "      <th>4</th>\n",
       "      <td>5</td>\n",
       "      <td>iPhone 12</td>\n",
       "      <td>iOS</td>\n",
       "      <td>187</td>\n",
       "      <td>4.3</td>\n",
       "      <td>1367</td>\n",
       "      <td>58</td>\n",
       "      <td>988</td>\n",
       "      <td>31</td>\n",
       "      <td>Female</td>\n",
       "      <td>3</td>\n",
       "    </tr>\n",
       "  </tbody>\n",
       "</table>\n",
       "</div>"
      ],
      "text/plain": [
       "   User ID    Device Model Operating System  App Usage Time (min/day)  \\\n",
       "0        1  Google Pixel 5          Android                       393   \n",
       "1        2       OnePlus 9          Android                       268   \n",
       "2        3    Xiaomi Mi 11          Android                       154   \n",
       "3        4  Google Pixel 5          Android                       239   \n",
       "4        5       iPhone 12              iOS                       187   \n",
       "\n",
       "   Screen On Time (hours/day)  Battery Drain (mAh/day)  \\\n",
       "0                         6.4                     1872   \n",
       "1                         4.7                     1331   \n",
       "2                         4.0                      761   \n",
       "3                         4.8                     1676   \n",
       "4                         4.3                     1367   \n",
       "\n",
       "   Number of Apps Installed  Data Usage (MB/day)  Age  Gender  \\\n",
       "0                        67                 1122   40    Male   \n",
       "1                        42                  944   47  Female   \n",
       "2                        32                  322   42    Male   \n",
       "3                        56                  871   20    Male   \n",
       "4                        58                  988   31  Female   \n",
       "\n",
       "   User Behavior Class  \n",
       "0                    4  \n",
       "1                    3  \n",
       "2                    2  \n",
       "3                    3  \n",
       "4                    3  "
      ]
     },
     "execution_count": 5,
     "metadata": {},
     "output_type": "execute_result"
    }
   ],
   "source": [
    "users.head()"
   ]
  },
  {
   "cell_type": "code",
   "execution_count": 6,
   "metadata": {},
   "outputs": [
    {
     "data": {
      "text/plain": [
       "Index(['User ID', 'Device Model', 'Operating System',\n",
       "       'App Usage Time (min/day)', 'Screen On Time (hours/day)',\n",
       "       'Battery Drain (mAh/day)', 'Number of Apps Installed',\n",
       "       'Data Usage (MB/day)', 'Age', 'Gender', 'User Behavior Class'],\n",
       "      dtype='object')"
      ]
     },
     "execution_count": 6,
     "metadata": {},
     "output_type": "execute_result"
    }
   ],
   "source": [
    "users.columns"
   ]
  },
  {
   "cell_type": "code",
   "execution_count": 7,
   "metadata": {},
   "outputs": [
    {
     "name": "stdout",
     "output_type": "stream",
     "text": [
      "<class 'pandas.core.frame.DataFrame'>\n",
      "RangeIndex: 700 entries, 0 to 699\n",
      "Data columns (total 11 columns):\n",
      " #   Column                      Non-Null Count  Dtype  \n",
      "---  ------                      --------------  -----  \n",
      " 0   User ID                     700 non-null    int64  \n",
      " 1   Device Model                700 non-null    object \n",
      " 2   Operating System            700 non-null    object \n",
      " 3   App Usage Time (min/day)    700 non-null    int64  \n",
      " 4   Screen On Time (hours/day)  700 non-null    float64\n",
      " 5   Battery Drain (mAh/day)     700 non-null    int64  \n",
      " 6   Number of Apps Installed    700 non-null    int64  \n",
      " 7   Data Usage (MB/day)         700 non-null    int64  \n",
      " 8   Age                         700 non-null    int64  \n",
      " 9   Gender                      700 non-null    object \n",
      " 10  User Behavior Class         700 non-null    int64  \n",
      "dtypes: float64(1), int64(7), object(3)\n",
      "memory usage: 60.3+ KB\n"
     ]
    }
   ],
   "source": [
    "# Using the info() method, we can quickly identify the data type of each column and detect null values:\"\n",
    "users.info()"
   ]
  },
  {
   "cell_type": "code",
   "execution_count": 8,
   "metadata": {},
   "outputs": [
    {
     "data": {
      "text/html": [
       "<div>\n",
       "<style scoped>\n",
       "    .dataframe tbody tr th:only-of-type {\n",
       "        vertical-align: middle;\n",
       "    }\n",
       "\n",
       "    .dataframe tbody tr th {\n",
       "        vertical-align: top;\n",
       "    }\n",
       "\n",
       "    .dataframe thead th {\n",
       "        text-align: right;\n",
       "    }\n",
       "</style>\n",
       "<table border=\"1\" class=\"dataframe\">\n",
       "  <thead>\n",
       "    <tr style=\"text-align: right;\">\n",
       "      <th></th>\n",
       "      <th>User ID</th>\n",
       "      <th>App Usage Time (min/day)</th>\n",
       "      <th>Screen On Time (hours/day)</th>\n",
       "      <th>Battery Drain (mAh/day)</th>\n",
       "      <th>Number of Apps Installed</th>\n",
       "      <th>Data Usage (MB/day)</th>\n",
       "      <th>Age</th>\n",
       "      <th>User Behavior Class</th>\n",
       "    </tr>\n",
       "  </thead>\n",
       "  <tbody>\n",
       "    <tr>\n",
       "      <th>count</th>\n",
       "      <td>700.00000</td>\n",
       "      <td>700.000000</td>\n",
       "      <td>700.000000</td>\n",
       "      <td>700.000000</td>\n",
       "      <td>700.000000</td>\n",
       "      <td>700.000000</td>\n",
       "      <td>700.000000</td>\n",
       "      <td>700.000000</td>\n",
       "    </tr>\n",
       "    <tr>\n",
       "      <th>mean</th>\n",
       "      <td>350.50000</td>\n",
       "      <td>271.128571</td>\n",
       "      <td>5.272714</td>\n",
       "      <td>1525.158571</td>\n",
       "      <td>50.681429</td>\n",
       "      <td>929.742857</td>\n",
       "      <td>38.482857</td>\n",
       "      <td>2.990000</td>\n",
       "    </tr>\n",
       "    <tr>\n",
       "      <th>std</th>\n",
       "      <td>202.21688</td>\n",
       "      <td>177.199484</td>\n",
       "      <td>3.068584</td>\n",
       "      <td>819.136414</td>\n",
       "      <td>26.943324</td>\n",
       "      <td>640.451729</td>\n",
       "      <td>12.012916</td>\n",
       "      <td>1.401476</td>\n",
       "    </tr>\n",
       "    <tr>\n",
       "      <th>min</th>\n",
       "      <td>1.00000</td>\n",
       "      <td>30.000000</td>\n",
       "      <td>1.000000</td>\n",
       "      <td>302.000000</td>\n",
       "      <td>10.000000</td>\n",
       "      <td>102.000000</td>\n",
       "      <td>18.000000</td>\n",
       "      <td>1.000000</td>\n",
       "    </tr>\n",
       "    <tr>\n",
       "      <th>25%</th>\n",
       "      <td>175.75000</td>\n",
       "      <td>113.250000</td>\n",
       "      <td>2.500000</td>\n",
       "      <td>722.250000</td>\n",
       "      <td>26.000000</td>\n",
       "      <td>373.000000</td>\n",
       "      <td>28.000000</td>\n",
       "      <td>2.000000</td>\n",
       "    </tr>\n",
       "    <tr>\n",
       "      <th>50%</th>\n",
       "      <td>350.50000</td>\n",
       "      <td>227.500000</td>\n",
       "      <td>4.900000</td>\n",
       "      <td>1502.500000</td>\n",
       "      <td>49.000000</td>\n",
       "      <td>823.500000</td>\n",
       "      <td>38.000000</td>\n",
       "      <td>3.000000</td>\n",
       "    </tr>\n",
       "    <tr>\n",
       "      <th>75%</th>\n",
       "      <td>525.25000</td>\n",
       "      <td>434.250000</td>\n",
       "      <td>7.400000</td>\n",
       "      <td>2229.500000</td>\n",
       "      <td>74.000000</td>\n",
       "      <td>1341.000000</td>\n",
       "      <td>49.000000</td>\n",
       "      <td>4.000000</td>\n",
       "    </tr>\n",
       "    <tr>\n",
       "      <th>max</th>\n",
       "      <td>700.00000</td>\n",
       "      <td>598.000000</td>\n",
       "      <td>12.000000</td>\n",
       "      <td>2993.000000</td>\n",
       "      <td>99.000000</td>\n",
       "      <td>2497.000000</td>\n",
       "      <td>59.000000</td>\n",
       "      <td>5.000000</td>\n",
       "    </tr>\n",
       "  </tbody>\n",
       "</table>\n",
       "</div>"
      ],
      "text/plain": [
       "         User ID  App Usage Time (min/day)  Screen On Time (hours/day)  \\\n",
       "count  700.00000                700.000000                  700.000000   \n",
       "mean   350.50000                271.128571                    5.272714   \n",
       "std    202.21688                177.199484                    3.068584   \n",
       "min      1.00000                 30.000000                    1.000000   \n",
       "25%    175.75000                113.250000                    2.500000   \n",
       "50%    350.50000                227.500000                    4.900000   \n",
       "75%    525.25000                434.250000                    7.400000   \n",
       "max    700.00000                598.000000                   12.000000   \n",
       "\n",
       "       Battery Drain (mAh/day)  Number of Apps Installed  Data Usage (MB/day)  \\\n",
       "count               700.000000                700.000000           700.000000   \n",
       "mean               1525.158571                 50.681429           929.742857   \n",
       "std                 819.136414                 26.943324           640.451729   \n",
       "min                 302.000000                 10.000000           102.000000   \n",
       "25%                 722.250000                 26.000000           373.000000   \n",
       "50%                1502.500000                 49.000000           823.500000   \n",
       "75%                2229.500000                 74.000000          1341.000000   \n",
       "max                2993.000000                 99.000000          2497.000000   \n",
       "\n",
       "              Age  User Behavior Class  \n",
       "count  700.000000           700.000000  \n",
       "mean    38.482857             2.990000  \n",
       "std     12.012916             1.401476  \n",
       "min     18.000000             1.000000  \n",
       "25%     28.000000             2.000000  \n",
       "50%     38.000000             3.000000  \n",
       "75%     49.000000             4.000000  \n",
       "max     59.000000             5.000000  "
      ]
     },
     "execution_count": 8,
     "metadata": {},
     "output_type": "execute_result"
    }
   ],
   "source": [
    "# The describe() function provides basic statistics for the numerical variables in the dataset:\n",
    "users.describe()"
   ]
  },
  {
   "cell_type": "markdown",
   "metadata": {},
   "source": [
    "## Step 2: Data preparation\n",
    "Now that I have a general understanding of the data, some evaluation is needed before proceeding with further analysis."
   ]
  },
  {
   "cell_type": "code",
   "execution_count": 9,
   "metadata": {},
   "outputs": [
    {
     "data": {
      "text/plain": [
       "0"
      ]
     },
     "execution_count": 9,
     "metadata": {},
     "output_type": "execute_result"
    }
   ],
   "source": [
    "# Checking for duplicates:\n",
    "users.duplicated().sum()"
   ]
  },
  {
   "cell_type": "code",
   "execution_count": 10,
   "metadata": {},
   "outputs": [],
   "source": [
    "# Column names in our refined dataframe are converted to lowercase, and spaces are removed for consistency and usability:\n",
    "users.columns = [name.lower() for name in users.columns]\n",
    "users.columns = [name.replace(\" \",\"_\") for name in users.columns]"
   ]
  },
  {
   "cell_type": "code",
   "execution_count": 11,
   "metadata": {},
   "outputs": [
    {
     "data": {
      "text/html": [
       "<div>\n",
       "<style scoped>\n",
       "    .dataframe tbody tr th:only-of-type {\n",
       "        vertical-align: middle;\n",
       "    }\n",
       "\n",
       "    .dataframe tbody tr th {\n",
       "        vertical-align: top;\n",
       "    }\n",
       "\n",
       "    .dataframe thead th {\n",
       "        text-align: right;\n",
       "    }\n",
       "</style>\n",
       "<table border=\"1\" class=\"dataframe\">\n",
       "  <thead>\n",
       "    <tr style=\"text-align: right;\">\n",
       "      <th></th>\n",
       "      <th>user_id</th>\n",
       "      <th>device_model</th>\n",
       "      <th>operating_system</th>\n",
       "      <th>app_usage_time_(min/day)</th>\n",
       "      <th>screen_on_time_(hours/day)</th>\n",
       "      <th>battery_drain_(mah/day)</th>\n",
       "      <th>number_of_apps_installed</th>\n",
       "      <th>data_usage_(mb/day)</th>\n",
       "      <th>age</th>\n",
       "      <th>gender</th>\n",
       "      <th>user_behavior_class</th>\n",
       "    </tr>\n",
       "  </thead>\n",
       "  <tbody>\n",
       "    <tr>\n",
       "      <th>0</th>\n",
       "      <td>1</td>\n",
       "      <td>Google Pixel 5</td>\n",
       "      <td>Android</td>\n",
       "      <td>393</td>\n",
       "      <td>6.4</td>\n",
       "      <td>1872</td>\n",
       "      <td>67</td>\n",
       "      <td>1122</td>\n",
       "      <td>40</td>\n",
       "      <td>Male</td>\n",
       "      <td>4</td>\n",
       "    </tr>\n",
       "    <tr>\n",
       "      <th>1</th>\n",
       "      <td>2</td>\n",
       "      <td>OnePlus 9</td>\n",
       "      <td>Android</td>\n",
       "      <td>268</td>\n",
       "      <td>4.7</td>\n",
       "      <td>1331</td>\n",
       "      <td>42</td>\n",
       "      <td>944</td>\n",
       "      <td>47</td>\n",
       "      <td>Female</td>\n",
       "      <td>3</td>\n",
       "    </tr>\n",
       "    <tr>\n",
       "      <th>2</th>\n",
       "      <td>3</td>\n",
       "      <td>Xiaomi Mi 11</td>\n",
       "      <td>Android</td>\n",
       "      <td>154</td>\n",
       "      <td>4.0</td>\n",
       "      <td>761</td>\n",
       "      <td>32</td>\n",
       "      <td>322</td>\n",
       "      <td>42</td>\n",
       "      <td>Male</td>\n",
       "      <td>2</td>\n",
       "    </tr>\n",
       "    <tr>\n",
       "      <th>3</th>\n",
       "      <td>4</td>\n",
       "      <td>Google Pixel 5</td>\n",
       "      <td>Android</td>\n",
       "      <td>239</td>\n",
       "      <td>4.8</td>\n",
       "      <td>1676</td>\n",
       "      <td>56</td>\n",
       "      <td>871</td>\n",
       "      <td>20</td>\n",
       "      <td>Male</td>\n",
       "      <td>3</td>\n",
       "    </tr>\n",
       "    <tr>\n",
       "      <th>4</th>\n",
       "      <td>5</td>\n",
       "      <td>iPhone 12</td>\n",
       "      <td>iOS</td>\n",
       "      <td>187</td>\n",
       "      <td>4.3</td>\n",
       "      <td>1367</td>\n",
       "      <td>58</td>\n",
       "      <td>988</td>\n",
       "      <td>31</td>\n",
       "      <td>Female</td>\n",
       "      <td>3</td>\n",
       "    </tr>\n",
       "  </tbody>\n",
       "</table>\n",
       "</div>"
      ],
      "text/plain": [
       "   user_id    device_model operating_system  app_usage_time_(min/day)  \\\n",
       "0        1  Google Pixel 5          Android                       393   \n",
       "1        2       OnePlus 9          Android                       268   \n",
       "2        3    Xiaomi Mi 11          Android                       154   \n",
       "3        4  Google Pixel 5          Android                       239   \n",
       "4        5       iPhone 12              iOS                       187   \n",
       "\n",
       "   screen_on_time_(hours/day)  battery_drain_(mah/day)  \\\n",
       "0                         6.4                     1872   \n",
       "1                         4.7                     1331   \n",
       "2                         4.0                      761   \n",
       "3                         4.8                     1676   \n",
       "4                         4.3                     1367   \n",
       "\n",
       "   number_of_apps_installed  data_usage_(mb/day)  age  gender  \\\n",
       "0                        67                 1122   40    Male   \n",
       "1                        42                  944   47  Female   \n",
       "2                        32                  322   42    Male   \n",
       "3                        56                  871   20    Male   \n",
       "4                        58                  988   31  Female   \n",
       "\n",
       "   user_behavior_class  \n",
       "0                    4  \n",
       "1                    3  \n",
       "2                    2  \n",
       "3                    3  \n",
       "4                    3  "
      ]
     },
     "execution_count": 11,
     "metadata": {},
     "output_type": "execute_result"
    }
   ],
   "source": [
    "# The edited dataset is:\n",
    "users.head()"
   ]
  },
  {
   "cell_type": "code",
   "execution_count": 34,
   "metadata": {},
   "outputs": [
    {
     "name": "stdout",
     "output_type": "stream",
     "text": [
      "[4 3 2 5 1]\n",
      "\n",
      " While those are numeric values, they are best treated as categories.\n"
     ]
    }
   ],
   "source": [
    "# Modify the type of target variable:\n",
    "print(users['user_behavior_class'].unique())\n",
    "users['user_behavior_class'] = users['user_behavior_class'].astype(object)\n",
    "print('\\n While those are numeric values, they are best treated as categories.')"
   ]
  },
  {
   "cell_type": "code",
   "execution_count": 13,
   "metadata": {},
   "outputs": [
    {
     "name": "stdout",
     "output_type": "stream",
     "text": [
      "<class 'pandas.core.frame.DataFrame'>\n",
      "RangeIndex: 700 entries, 0 to 699\n",
      "Data columns (total 11 columns):\n",
      " #   Column                      Non-Null Count  Dtype  \n",
      "---  ------                      --------------  -----  \n",
      " 0   user_id                     700 non-null    int64  \n",
      " 1   device_model                700 non-null    object \n",
      " 2   operating_system            700 non-null    object \n",
      " 3   app_usage_time_(min/day)    700 non-null    int64  \n",
      " 4   screen_on_time_(hours/day)  700 non-null    float64\n",
      " 5   battery_drain_(mah/day)     700 non-null    int64  \n",
      " 6   number_of_apps_installed    700 non-null    int64  \n",
      " 7   data_usage_(mb/day)         700 non-null    int64  \n",
      " 8   age                         700 non-null    int64  \n",
      " 9   gender                      700 non-null    object \n",
      " 10  user_behavior_class         700 non-null    object \n",
      "dtypes: float64(1), int64(6), object(4)\n",
      "memory usage: 60.3+ KB\n"
     ]
    }
   ],
   "source": [
    "users.info()"
   ]
  },
  {
   "cell_type": "code",
   "execution_count": 14,
   "metadata": {},
   "outputs": [
    {
     "data": {
      "text/html": [
       "<div>\n",
       "<style scoped>\n",
       "    .dataframe tbody tr th:only-of-type {\n",
       "        vertical-align: middle;\n",
       "    }\n",
       "\n",
       "    .dataframe tbody tr th {\n",
       "        vertical-align: top;\n",
       "    }\n",
       "\n",
       "    .dataframe thead th {\n",
       "        text-align: right;\n",
       "    }\n",
       "</style>\n",
       "<table border=\"1\" class=\"dataframe\">\n",
       "  <thead>\n",
       "    <tr style=\"text-align: right;\">\n",
       "      <th></th>\n",
       "      <th>user_id</th>\n",
       "      <th>device_model</th>\n",
       "      <th>operating_system</th>\n",
       "      <th>app_usage_time_(min/day)</th>\n",
       "      <th>screen_on_time_(hours/day)</th>\n",
       "      <th>battery_drain_(mah/day)</th>\n",
       "      <th>number_of_apps_installed</th>\n",
       "      <th>data_usage_(mb/day)</th>\n",
       "      <th>age</th>\n",
       "      <th>gender</th>\n",
       "      <th>user_behavior_class</th>\n",
       "    </tr>\n",
       "  </thead>\n",
       "  <tbody>\n",
       "    <tr>\n",
       "      <th>count</th>\n",
       "      <td>700.00000</td>\n",
       "      <td>700</td>\n",
       "      <td>700</td>\n",
       "      <td>700.000000</td>\n",
       "      <td>700.000000</td>\n",
       "      <td>700.000000</td>\n",
       "      <td>700.000000</td>\n",
       "      <td>700.000000</td>\n",
       "      <td>700.000000</td>\n",
       "      <td>700</td>\n",
       "      <td>700.0</td>\n",
       "    </tr>\n",
       "    <tr>\n",
       "      <th>unique</th>\n",
       "      <td>NaN</td>\n",
       "      <td>5</td>\n",
       "      <td>2</td>\n",
       "      <td>NaN</td>\n",
       "      <td>NaN</td>\n",
       "      <td>NaN</td>\n",
       "      <td>NaN</td>\n",
       "      <td>NaN</td>\n",
       "      <td>NaN</td>\n",
       "      <td>2</td>\n",
       "      <td>5.0</td>\n",
       "    </tr>\n",
       "    <tr>\n",
       "      <th>top</th>\n",
       "      <td>NaN</td>\n",
       "      <td>Xiaomi Mi 11</td>\n",
       "      <td>Android</td>\n",
       "      <td>NaN</td>\n",
       "      <td>NaN</td>\n",
       "      <td>NaN</td>\n",
       "      <td>NaN</td>\n",
       "      <td>NaN</td>\n",
       "      <td>NaN</td>\n",
       "      <td>Male</td>\n",
       "      <td>2.0</td>\n",
       "    </tr>\n",
       "    <tr>\n",
       "      <th>freq</th>\n",
       "      <td>NaN</td>\n",
       "      <td>146</td>\n",
       "      <td>554</td>\n",
       "      <td>NaN</td>\n",
       "      <td>NaN</td>\n",
       "      <td>NaN</td>\n",
       "      <td>NaN</td>\n",
       "      <td>NaN</td>\n",
       "      <td>NaN</td>\n",
       "      <td>364</td>\n",
       "      <td>146.0</td>\n",
       "    </tr>\n",
       "    <tr>\n",
       "      <th>mean</th>\n",
       "      <td>350.50000</td>\n",
       "      <td>NaN</td>\n",
       "      <td>NaN</td>\n",
       "      <td>271.128571</td>\n",
       "      <td>5.272714</td>\n",
       "      <td>1525.158571</td>\n",
       "      <td>50.681429</td>\n",
       "      <td>929.742857</td>\n",
       "      <td>38.482857</td>\n",
       "      <td>NaN</td>\n",
       "      <td>NaN</td>\n",
       "    </tr>\n",
       "    <tr>\n",
       "      <th>std</th>\n",
       "      <td>202.21688</td>\n",
       "      <td>NaN</td>\n",
       "      <td>NaN</td>\n",
       "      <td>177.199484</td>\n",
       "      <td>3.068584</td>\n",
       "      <td>819.136414</td>\n",
       "      <td>26.943324</td>\n",
       "      <td>640.451729</td>\n",
       "      <td>12.012916</td>\n",
       "      <td>NaN</td>\n",
       "      <td>NaN</td>\n",
       "    </tr>\n",
       "    <tr>\n",
       "      <th>min</th>\n",
       "      <td>1.00000</td>\n",
       "      <td>NaN</td>\n",
       "      <td>NaN</td>\n",
       "      <td>30.000000</td>\n",
       "      <td>1.000000</td>\n",
       "      <td>302.000000</td>\n",
       "      <td>10.000000</td>\n",
       "      <td>102.000000</td>\n",
       "      <td>18.000000</td>\n",
       "      <td>NaN</td>\n",
       "      <td>NaN</td>\n",
       "    </tr>\n",
       "    <tr>\n",
       "      <th>25%</th>\n",
       "      <td>175.75000</td>\n",
       "      <td>NaN</td>\n",
       "      <td>NaN</td>\n",
       "      <td>113.250000</td>\n",
       "      <td>2.500000</td>\n",
       "      <td>722.250000</td>\n",
       "      <td>26.000000</td>\n",
       "      <td>373.000000</td>\n",
       "      <td>28.000000</td>\n",
       "      <td>NaN</td>\n",
       "      <td>NaN</td>\n",
       "    </tr>\n",
       "    <tr>\n",
       "      <th>50%</th>\n",
       "      <td>350.50000</td>\n",
       "      <td>NaN</td>\n",
       "      <td>NaN</td>\n",
       "      <td>227.500000</td>\n",
       "      <td>4.900000</td>\n",
       "      <td>1502.500000</td>\n",
       "      <td>49.000000</td>\n",
       "      <td>823.500000</td>\n",
       "      <td>38.000000</td>\n",
       "      <td>NaN</td>\n",
       "      <td>NaN</td>\n",
       "    </tr>\n",
       "    <tr>\n",
       "      <th>75%</th>\n",
       "      <td>525.25000</td>\n",
       "      <td>NaN</td>\n",
       "      <td>NaN</td>\n",
       "      <td>434.250000</td>\n",
       "      <td>7.400000</td>\n",
       "      <td>2229.500000</td>\n",
       "      <td>74.000000</td>\n",
       "      <td>1341.000000</td>\n",
       "      <td>49.000000</td>\n",
       "      <td>NaN</td>\n",
       "      <td>NaN</td>\n",
       "    </tr>\n",
       "    <tr>\n",
       "      <th>max</th>\n",
       "      <td>700.00000</td>\n",
       "      <td>NaN</td>\n",
       "      <td>NaN</td>\n",
       "      <td>598.000000</td>\n",
       "      <td>12.000000</td>\n",
       "      <td>2993.000000</td>\n",
       "      <td>99.000000</td>\n",
       "      <td>2497.000000</td>\n",
       "      <td>59.000000</td>\n",
       "      <td>NaN</td>\n",
       "      <td>NaN</td>\n",
       "    </tr>\n",
       "  </tbody>\n",
       "</table>\n",
       "</div>"
      ],
      "text/plain": [
       "          user_id  device_model operating_system  app_usage_time_(min/day)  \\\n",
       "count   700.00000           700              700                700.000000   \n",
       "unique        NaN             5                2                       NaN   \n",
       "top           NaN  Xiaomi Mi 11          Android                       NaN   \n",
       "freq          NaN           146              554                       NaN   \n",
       "mean    350.50000           NaN              NaN                271.128571   \n",
       "std     202.21688           NaN              NaN                177.199484   \n",
       "min       1.00000           NaN              NaN                 30.000000   \n",
       "25%     175.75000           NaN              NaN                113.250000   \n",
       "50%     350.50000           NaN              NaN                227.500000   \n",
       "75%     525.25000           NaN              NaN                434.250000   \n",
       "max     700.00000           NaN              NaN                598.000000   \n",
       "\n",
       "        screen_on_time_(hours/day)  battery_drain_(mah/day)  \\\n",
       "count                   700.000000               700.000000   \n",
       "unique                         NaN                      NaN   \n",
       "top                            NaN                      NaN   \n",
       "freq                           NaN                      NaN   \n",
       "mean                      5.272714              1525.158571   \n",
       "std                       3.068584               819.136414   \n",
       "min                       1.000000               302.000000   \n",
       "25%                       2.500000               722.250000   \n",
       "50%                       4.900000              1502.500000   \n",
       "75%                       7.400000              2229.500000   \n",
       "max                      12.000000              2993.000000   \n",
       "\n",
       "        number_of_apps_installed  data_usage_(mb/day)         age gender  \\\n",
       "count                 700.000000           700.000000  700.000000    700   \n",
       "unique                       NaN                  NaN         NaN      2   \n",
       "top                          NaN                  NaN         NaN   Male   \n",
       "freq                         NaN                  NaN         NaN    364   \n",
       "mean                   50.681429           929.742857   38.482857    NaN   \n",
       "std                    26.943324           640.451729   12.012916    NaN   \n",
       "min                    10.000000           102.000000   18.000000    NaN   \n",
       "25%                    26.000000           373.000000   28.000000    NaN   \n",
       "50%                    49.000000           823.500000   38.000000    NaN   \n",
       "75%                    74.000000          1341.000000   49.000000    NaN   \n",
       "max                    99.000000          2497.000000   59.000000    NaN   \n",
       "\n",
       "        user_behavior_class  \n",
       "count                 700.0  \n",
       "unique                  5.0  \n",
       "top                     2.0  \n",
       "freq                  146.0  \n",
       "mean                    NaN  \n",
       "std                     NaN  \n",
       "min                     NaN  \n",
       "25%                     NaN  \n",
       "50%                     NaN  \n",
       "75%                     NaN  \n",
       "max                     NaN  "
      ]
     },
     "execution_count": 14,
     "metadata": {},
     "output_type": "execute_result"
    }
   ],
   "source": [
    "# The main statistics for out clean dataset are:\n",
    "users.describe(include='all')"
   ]
  },
  {
   "cell_type": "markdown",
   "metadata": {},
   "source": [
    "There are no null values. This is a clean dataset, then it doesn't requires wrangling. Analysis can now be performed directly."
   ]
  },
  {
   "cell_type": "markdown",
   "metadata": {},
   "source": [
    "## Step 3: Feature understanding\n",
    "\n",
    "Now, it is important to understand how the variables behave:\n",
    "\n",
    "### Target variable (user_behavior_class):"
   ]
  },
  {
   "cell_type": "code",
   "execution_count": 15,
   "metadata": {},
   "outputs": [
    {
     "data": {
      "text/plain": [
       "<Axes: xlabel='user_behavior_class', ylabel='Count'>"
      ]
     },
     "execution_count": 15,
     "metadata": {},
     "output_type": "execute_result"
    },
    {
     "data": {
      "image/png": "[encoded data removed]",
      "text/plain": [
       "<Figure size 640x480 with 1 Axes>"
      ]
     },
     "metadata": {},
     "output_type": "display_data"
    }
   ],
   "source": [
    "sns.histplot(\n",
    "    users,\n",
    "    x=\"user_behavior_class\", hue=\"gender\",\n",
    "    multiple=\"stack\",\n",
    "    edgecolor=\".3\",\n",
    "    linewidth=.5,\n",
    "    log_scale=False,\n",
    ")"
   ]
  },
  {
   "cell_type": "code",
   "execution_count": 16,
   "metadata": {},
   "outputs": [
    {
     "name": "stdout",
     "output_type": "stream",
     "text": [
      "Mean: 2.99, Median: 3.0\n"
     ]
    }
   ],
   "source": [
    "# The Central Tendency measures are\n",
    "mean = users['user_behavior_class'].mean()\n",
    "median = users['user_behavior_class'].median()\n",
    "print(f\"Mean: {mean}, Median: {median}\")"
   ]
  },
  {
   "cell_type": "code",
   "execution_count": 17,
   "metadata": {},
   "outputs": [
    {
     "data": {
      "image/png": "[encoded data removed]",
      "text/plain": [
       "<Figure size 640x480 with 1 Axes>"
      ]
     },
     "metadata": {},
     "output_type": "display_data"
    }
   ],
   "source": [
    "# The Outliers can be identifyed from a Boxplot\n",
    "sns.boxplot(x=users['user_behavior_class'])\n",
    "plt.title('Box Plot')\n",
    "plt.show()"
   ]
  },
  {
   "cell_type": "markdown",
   "metadata": {},
   "source": [
    "There are no outliers visible at first glance.\n",
    "\n",
    "### Analysis for variable \"device_model\":"
   ]
  },
  {
   "cell_type": "code",
   "execution_count": 40,
   "metadata": {},
   "outputs": [
    {
     "data": {
      "text/plain": [
       "Text(0.5, 1.0, 'Users of different device models')"
      ]
     },
     "execution_count": 40,
     "metadata": {},
     "output_type": "execute_result"
    },
    {
     "data": {
      "image/png": "[encoded data removed]",
      "text/plain": [
       "<Figure size 640x480 with 1 Axes>"
      ]
     },
     "metadata": {},
     "output_type": "display_data"
    }
   ],
   "source": [
    "# The variable behave as:\n",
    "sns.histplot(users, x='device_model', \n",
    "             hue='user_behavior_class', \n",
    "             multiple=\"dodge\", \n",
    "             palette=\"pastel\",\n",
    "             shrink=.75)\n",
    "plt.title(\"Users of different device models\")"
   ]
  },
  {
   "cell_type": "code",
   "execution_count": 28,
   "metadata": {},
   "outputs": [
    {
     "data": {
      "text/plain": [
       "array(['Google Pixel 5', 'OnePlus 9', 'Xiaomi Mi 11', 'iPhone 12',\n",
       "       'Samsung Galaxy S21'], dtype=object)"
      ]
     },
     "execution_count": 28,
     "metadata": {},
     "output_type": "execute_result"
    }
   ],
   "source": [
    "users['device_model'].unique()"
   ]
  },
  {
   "cell_type": "code",
   "execution_count": 35,
   "metadata": {},
   "outputs": [
    {
     "name": "stdout",
     "output_type": "stream",
     "text": [
      "Normality Test (Shapiro-Wilk):\n",
      "yield of Google Pixel 5: ShapiroResult(statistic=0.8861296743275725, pvalue=4.871719956962385e-09)\n",
      "yield of OnePlus 9: ShapiroResult(statistic=0.8887492703003461, pvalue=1.537156986962278e-08)\n",
      "yield of Xiaomi Mi 11: ShapiroResult(statistic=0.886709950274872, pvalue=1.2159971026194573e-08)\n",
      "yield of iPhone 12: ShapiroResult(statistic=0.8867620453565077, pvalue=3.6326832206723342e-09)\n",
      "yield of Samsung Galaxy S21: ShapiroResult(statistic=0.8952049439684726, pvalue=1.015974151181779e-08)\n",
      "\n",
      "Levene’s Test for Equal Variance:\n",
      "Statistic: 0.15805367482967259, P-value: 0.9593459103013308\n",
      "There is not homogeinity of variance between group of devices because 0.9593459103013308 is higher than 0.05\n"
     ]
    }
   ],
   "source": [
    "# The firts step is spliting the categories in the column as follows:\n",
    "groups_device = [group[\"user_behavior_class\"].values for name, group in users.groupby(\"device_model\")]\n",
    "\n",
    "# Test for Normality (Shapiro-Wilk)\n",
    "print(\"Normality Test (Shapiro-Wilk):\")\n",
    "print(\"yield of Google Pixel 5:\", shapiro(groups_device[0]))\n",
    "print(\"yield of OnePlus 9:\", shapiro(groups_device[1]))\n",
    "print(\"yield of Xiaomi Mi 11:\", shapiro(groups_device[2]))\n",
    "print(\"yield of iPhone 12:\", shapiro(groups_device[3]))\n",
    "print(\"yield of Samsung Galaxy S21:\", shapiro(groups_device[4]))\n",
    "\n",
    "# Test for Equal Variances (Levene’s Test)\n",
    "stat, p = levene(*groups_device)\n",
    "print(\"\\nLevene’s Test for Equal Variance:\")\n",
    "print(f\"Statistic: {stat}, P-value: {p}\")\n",
    "print(f'There is not homogeinity of variance between group of devices because {p} is higher than 0.05')"
   ]
  },
  {
   "cell_type": "code",
   "execution_count": 48,
   "metadata": {},
   "outputs": [
    {
     "name": "stdout",
     "output_type": "stream",
     "text": [
      "\n",
      "Chi 2 squared Test:\n",
      "X2-statistic: 9.323292999855825, P-value: 0.8995047686361158\n"
     ]
    }
   ],
   "source": [
    "# The assumption of normally distributed data could not be proven, and there is no evidence of homocedasticity. \n",
    "\n",
    "# A contingency table is created.\n",
    "devices = pd.crosstab(users.device_model, users.user_behavior_class)\n",
    "\n",
    "# Then, I'll apply the non-parametric alternative test for comparaison (Chi squared):\n",
    "stat, p, dof, expected = chi2_contingency(devices)\n",
    "print(\"\\nChi 2 squared Test:\")\n",
    "print(f\"X2-statistic: {stat}, P-value: {p}\")"
   ]
  },
  {
   "cell_type": "markdown",
   "metadata": {},
   "source": [
    "The P-value calculated 0.8995 is higher than 0.05, then there is no variability explained by the type of device used. Therefore, This variable should not be included in the model."
   ]
  },
  {
   "cell_type": "markdown",
   "metadata": {},
   "source": [
    "### Analysis for variable \"gender\":"
   ]
  },
  {
   "cell_type": "code",
   "execution_count": 53,
   "metadata": {},
   "outputs": [
    {
     "data": {
      "image/png": "[encoded data removed]",
      "text/plain": [
       "<Figure size 640x480 with 1 Axes>"
      ]
     },
     "metadata": {},
     "output_type": "display_data"
    }
   ],
   "source": [
    "# The 'gender' variable behave as:\n",
    "sns.histplot(x=\"gender\", \n",
    "             hue=\"user_behavior_class\", \n",
    "             multiple=\"dodge\", \n",
    "             data=users, \n",
    "             shrink= 0.75, \n",
    "             palette=\"pastel\")\n",
    "plt.title(\"Distribution of user classes by Gender\")\n",
    "plt.show()"
   ]
  },
  {
   "cell_type": "code",
   "execution_count": 50,
   "metadata": {},
   "outputs": [
    {
     "name": "stdout",
     "output_type": "stream",
     "text": [
      "Normality Test (Shapiro-Wilk):\n",
      "Behaviour for Male: ShapiroResult(statistic=0.8812271996742663, pvalue=3.76081893143136e-16)\n",
      "Behaviour for Female: ShapiroResult(statistic=0.8979576100613473, pvalue=3.0797675302640025e-14)\n",
      "\n",
      "Levene’s Test for Equal Variance:\n",
      "Statistic: 4.497764454435654, P-value: 0.0342911848845657\n",
      "There is homogeinity of variance between genders groups because 0.0342911848845657 is smaller than 0.05\n"
     ]
    }
   ],
   "source": [
    "# Gruoping the dataframe using gender \n",
    "male_class = users[users[\"gender\"] == \"Male\"][\"user_behavior_class\"]\n",
    "female_class = users[users[\"gender\"] == \"Female\"][\"user_behavior_class\"]\n",
    "\n",
    "# Test for Normality (Shapiro-Wilk)\n",
    "print(\"Normality Test (Shapiro-Wilk):\")\n",
    "print(\"Behaviour for Male:\", shapiro(male_class))\n",
    "print(\"Behaviour for Female:\", shapiro(female_class))\n",
    "\n",
    "# Test for Equal Variances (Levene’s Test)\n",
    "stat, p = levene(male_class, female_class)\n",
    "print(\"\\nLevene’s Test for Equal Variance:\")\n",
    "print(f\"Statistic: {stat}, P-value: {p}\")\n",
    "print(f'There is homogeinity of variance between genders groups because {p} is smaller than 0.05')"
   ]
  },
  {
   "cell_type": "code",
   "execution_count": 51,
   "metadata": {},
   "outputs": [
    {
     "name": "stdout",
     "output_type": "stream",
     "text": [
      "\n",
      "Chi 2 squared Test:\n",
      "X2-statistic: 6.99178419475091, P-value: 0.13632303058200942\n"
     ]
    }
   ],
   "source": [
    "# A contingency table is created.\n",
    "genders = pd.crosstab(users.gender, users.user_behavior_class)\n",
    "\n",
    "# Then, I'll apply the non-parametric alternative test for comparaison (Chi squared):\n",
    "stat, p, dof, expected = chi2_contingency(genders)\n",
    "print(\"\\nChi 2 squared Test:\")\n",
    "print(f\"X2-statistic: {stat}, P-value: {p}\")"
   ]
  },
  {
   "cell_type": "markdown",
   "metadata": {},
   "source": [
    "The P-value calculated 0.1363230 is higher than 0.05, then there is no relationship between gender and user classes. That means, variability in user behaviour explained by the gender of the user. Therefore, This variable should not be included in the model."
   ]
  },
  {
   "cell_type": "markdown",
   "metadata": {},
   "source": [
    "### Analysis for variable \"operating_system\":"
   ]
  },
  {
   "cell_type": "code",
   "execution_count": 55,
   "metadata": {},
   "outputs": [
    {
     "data": {
      "image/png": "[encoded data removed]",
      "text/plain": [
       "<Figure size 640x480 with 1 Axes>"
      ]
     },
     "metadata": {},
     "output_type": "display_data"
    }
   ],
   "source": [
    "# The 'operating_system' variable behave as:\n",
    "sns.histplot(x=\"operating_system\", \n",
    "             hue=\"user_behavior_class\", \n",
    "             multiple=\"dodge\", \n",
    "             data=users, \n",
    "             shrink= 0.75, \n",
    "             palette=\"pastel\")\n",
    "plt.title(\"Distribution of user classes by Operating system used\")\n",
    "plt.show()"
   ]
  },
  {
   "cell_type": "code",
   "execution_count": 56,
   "metadata": {},
   "outputs": [
    {
     "name": "stdout",
     "output_type": "stream",
     "text": [
      "Normality Test (Shapiro-Wilk):\n",
      "Behaviour for Male: ShapiroResult(statistic=0.8952049439684726, pvalue=1.015974151181779e-08)\n",
      "Behaviour for Female: ShapiroResult(statistic=0.8886714352736985, pvalue=1.4486294672726495e-19)\n",
      "\n",
      "Levene’s Test for Equal Variance:\n",
      "Statistic: 0.5389418739137146, P-value: 0.4631181069836654\n",
      "There is homogeinity of variance between genders groups because 0.4631181069836654 is smaller than 0.05\n"
     ]
    }
   ],
   "source": [
    "# Gruoping the dataframe using gender \n",
    "IOS_class = users[users[\"operating_system\"] == \"iOS\"][\"user_behavior_class\"]\n",
    "Android_class = users[users[\"operating_system\"] == \"Android\"][\"user_behavior_class\"]\n",
    "\n",
    "# Test for Normality (Shapiro-Wilk)\n",
    "print(\"Normality Test (Shapiro-Wilk):\")\n",
    "print(\"Behaviour for Male:\", shapiro(IOS_class))\n",
    "print(\"Behaviour for Female:\", shapiro(Android_class))\n",
    "\n",
    "# Test for Equal Variances (Levene’s Test)\n",
    "stat, p = levene(IOS_class, Android_class)\n",
    "print(\"\\nLevene’s Test for Equal Variance:\")\n",
    "print(f\"Statistic: {stat}, P-value: {p}\")\n",
    "print(f'There is homogeinity of variance between genders groups because {p} is smaller than 0.05')"
   ]
  },
  {
   "cell_type": "code",
   "execution_count": 57,
   "metadata": {},
   "outputs": [
    {
     "name": "stdout",
     "output_type": "stream",
     "text": [
      "\n",
      "Chi 2 squared Test:\n",
      "X2-statistic: 2.4139480808456293, P-value: 0.6601080959701755\n"
     ]
    }
   ],
   "source": [
    "# A contingency table is created.\n",
    "operating_system = pd.crosstab(users.operating_system, users.user_behavior_class)\n",
    "\n",
    "# Then, I'll apply the non-parametric alternative test for comparaison (Chi squared):\n",
    "stat, p, dof, expected = chi2_contingency(operating_system)\n",
    "print(\"\\nChi 2 squared Test:\")\n",
    "print(f\"X2-statistic: {stat}, P-value: {p}\")"
   ]
  },
  {
   "cell_type": "markdown",
   "metadata": {},
   "source": [
    "The P-value calculated 0.660108 is higher than 0.05, then there is no relationship between operating system used and user classes. That means, variability in user behaviour explained by the operating system of the user's phone. Therefore, This variable should not be included in the model."
   ]
  },
  {
   "cell_type": "code",
   "execution_count": 37,
   "metadata": {},
   "outputs": [
    {
     "data": {
      "text/plain": [
       "Index(['user_id', 'device_model', 'operating_system',\n",
       "       'app_usage_time_(min/day)', 'screen_on_time_(hours/day)',\n",
       "       'battery_drain_(mah/day)', 'number_of_apps_installed',\n",
       "       'data_usage_(mb/day)', 'age', 'gender', 'user_behavior_class'],\n",
       "      dtype='object')"
      ]
     },
     "execution_count": 37,
     "metadata": {},
     "output_type": "execute_result"
    }
   ],
   "source": [
    "users.columns"
   ]
  }
 ],
 "metadata": {
  "kernelspec": {
   "display_name": "base",
   "language": "python",
   "name": "python3"
  },
  "language_info": {
   "codemirror_mode": {
    "name": "ipython",
    "version": 3
   },
   "file_extension": ".py",
   "mimetype": "text/x-python",
   "name": "python",
   "nbconvert_exporter": "python",
   "pygments_lexer": "ipython3",
   "version": "3.12.7"
  }
 },
 "nbformat": 4,
 "nbformat_minor": 2
}
